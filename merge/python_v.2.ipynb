{
 "cells": [
  {
   "cell_type": "code",
   "execution_count": 6,
   "metadata": {
    "scrolled": true
   },
   "outputs": [
    {
     "name": "stdout",
     "output_type": "stream",
     "text": [
      " * Serving Flask app \"__main__\" (lazy loading)\n",
      " * Environment: production\n",
      "   WARNING: This is a development server. Do not use it in a production deployment.\n",
      "   Use a production WSGI server instead.\n",
      " * Debug mode: off\n"
     ]
    },
    {
     "name": "stderr",
     "output_type": "stream",
     "text": [
      " * Running on http://0.0.0.0:4000/ (Press CTRL+C to quit)\n"
     ]
    },
    {
     "name": "stdout",
     "output_type": "stream",
     "text": [
      "https://js.ad4989.co.kr/etc/reople/reople_logo.jpghttps://js.ad4989.co.kr/etc/reople/donga_ad.gif\n",
      "\n",
      "https://cdn3.ad4989.co.kr/03_tL/0LLA/1608704737281.jpg\n",
      "https://cdn7.ad4989.co.kr/04B_j/0L_gU/1608706453594.jpg\n",
      "https://cdn2.ad4989.co.kr/03_p_g/0LN_j/1608706115751.gif\n",
      "https://cdn7.ad4989.co.kr/03_p_j/0L_d0/1608703999076.gif\n"
     ]
    },
    {
     "name": "stderr",
     "output_type": "stream",
     "text": [
      "127.0.0.1 - - [01/May/2021 01:31:54] \"\u001b[37mPOST /getresult HTTP/1.1\u001b[0m\" 200 -\n",
      "127.0.0.1 - - [01/May/2021 01:31:54] \"\u001b[37mPOST /getresult HTTP/1.1\u001b[0m\" 200 -\n",
      "127.0.0.1 - - [01/May/2021 01:31:54] \"\u001b[37mPOST /getresult HTTP/1.1\u001b[0m\" 200 -\n",
      "127.0.0.1 - - [01/May/2021 01:31:54] \"\u001b[37mPOST /getresult HTTP/1.1\u001b[0m\" 200 -\n",
      "127.0.0.1 - - [01/May/2021 01:31:54] \"\u001b[37mPOST /getresult HTTP/1.1\u001b[0m\" 200 -\n",
      "127.0.0.1 - - [01/May/2021 01:31:54] \"\u001b[37mPOST /getresult HTTP/1.1\u001b[0m\" 200 -\n"
     ]
    },
    {
     "name": "stdout",
     "output_type": "stream",
     "text": [
      "https://ads.mncmedia.co.kr/mad/DONGA/images/adBlit_rs.jpg\n",
      "https://images.dable.io/ad/thumbnails/legacy-resize/210421005548550/2x/16by10\n",
      "https://ff.adteip.net/ground/logo_15x15.pnghttps://images.dable.io/ad/thumbnails/legacy-resize/2x/1573693648778\n",
      "\n",
      "https://images.dable.io/ad/thumbnails/legacy-resize/16by10/2x/1600915235887\n"
     ]
    },
    {
     "name": "stderr",
     "output_type": "stream",
     "text": [
      "127.0.0.1 - - [01/May/2021 01:31:55] \"\u001b[37mPOST /getresult HTTP/1.1\u001b[0m\" 200 -\n",
      "127.0.0.1 - - [01/May/2021 01:31:55] \"\u001b[37mPOST /getresult HTTP/1.1\u001b[0m\" 200 -\n",
      "127.0.0.1 - - [01/May/2021 01:31:55] \"\u001b[37mPOST /getresult HTTP/1.1\u001b[0m\" 200 -\n"
     ]
    },
    {
     "name": "stdout",
     "output_type": "stream",
     "text": [
      "https://ff.adteip.net/banner/Cx76_r/3a0458d7ffd3796c20f6fa06e7990a6f.jpg\n"
     ]
    },
    {
     "name": "stderr",
     "output_type": "stream",
     "text": [
      "127.0.0.1 - - [01/May/2021 01:31:55] \"\u001b[37mPOST /getresult HTTP/1.1\u001b[0m\" 200 -\n",
      "127.0.0.1 - - [01/May/2021 01:31:55] \"\u001b[37mPOST /getresult HTTP/1.1\u001b[0m\" 200 -\n",
      "127.0.0.1 - - [01/May/2021 01:31:55] \"\u001b[37mPOST /getresult HTTP/1.1\u001b[0m\" 200 -\n",
      "127.0.0.1 - - [01/May/2021 01:31:56] \"\u001b[37mPOST /getresult HTTP/1.1\u001b[0m\" 200 -\n"
     ]
    },
    {
     "name": "stdout",
     "output_type": "stream",
     "text": [
      "https://images.dable.io/ad/thumbnails/legacy-resize/210311044259858/2x/16by10\n",
      "https://images.dable.io/ad/thumbnails/legacy-resize/2x/1589526988427\n",
      "https://images.dable.io/ad/thumbnails/legacy-resize/2x/1602572165076\n",
      "https://ads.mncmedia.co.kr/mad/DONGA/images/adBlit_rs.jpg"
     ]
    },
    {
     "name": "stderr",
     "output_type": "stream",
     "text": [
      "127.0.0.1 - - [01/May/2021 01:31:56] \"\u001b[37mPOST /getresult HTTP/1.1\u001b[0m\" 200 -\n",
      "127.0.0.1 - - [01/May/2021 01:31:56] \"\u001b[37mPOST /getresult HTTP/1.1\u001b[0m\" 200 -\n"
     ]
    },
    {
     "name": "stdout",
     "output_type": "stream",
     "text": [
      "\n",
      "https://wr-im.catad5959.com/wecydrep.com/120x90/10241003095.jpg\n",
      "https://wr-im.catad5959.com/wecydrep.com/120x90/102313330442.jpg\n"
     ]
    },
    {
     "name": "stderr",
     "output_type": "stream",
     "text": [
      "127.0.0.1 - - [01/May/2021 01:31:56] \"\u001b[37mPOST /getresult HTTP/1.1\u001b[0m\" 200 -\n",
      "127.0.0.1 - - [01/May/2021 01:31:56] \"\u001b[37mPOST /getresult HTTP/1.1\u001b[0m\" 200 -\n",
      "127.0.0.1 - - [01/May/2021 01:31:56] \"\u001b[37mPOST /getresult HTTP/1.1\u001b[0m\" 200 -\n",
      "127.0.0.1 - - [01/May/2021 01:31:56] \"\u001b[37mPOST /getresult HTTP/1.1\u001b[0m\" 200 -\n"
     ]
    },
    {
     "name": "stdout",
     "output_type": "stream",
     "text": [
      "https://wr-im.catad5959.com/wecydrep.com/120x90/102315395942.gif\n",
      "https://wr-im.catad5959.com/wecydrep.com/120x90/070910565032.jpg\n"
     ]
    },
    {
     "name": "stderr",
     "output_type": "stream",
     "text": [
      "127.0.0.1 - - [01/May/2021 01:31:56] \"\u001b[37mPOST /getresult HTTP/1.1\u001b[0m\" 200 -\n",
      "127.0.0.1 - - [01/May/2021 01:31:56] \"\u001b[37mPOST /getresult HTTP/1.1\u001b[0m\" 200 -\n"
     ]
    },
    {
     "name": "stdout",
     "output_type": "stream",
     "text": [
      "https://js.ad4989.co.kr/etc/eternalad/img/ad.gif\n",
      "https://cdn2.ad4989.co.kr/03A_j/0K_g_q/1602467129421.gif\n",
      "https://cdn1.ad4989.co.kr/01IT/0KZO/1608692466714.gif\n",
      "https://cdn3.ad4989.co.kr/03_b_j/0K_iE/1618469396096.gif\n"
     ]
    },
    {
     "name": "stderr",
     "output_type": "stream",
     "text": [
      "127.0.0.1 - - [01/May/2021 01:31:56] \"\u001b[37mPOST /getresult HTTP/1.1\u001b[0m\" 200 -\n",
      "127.0.0.1 - - [01/May/2021 01:31:56] \"\u001b[37mPOST /getresult HTTP/1.1\u001b[0m\" 200 -\n",
      "127.0.0.1 - - [01/May/2021 01:31:56] \"\u001b[37mPOST /getresult HTTP/1.1\u001b[0m\" 200 -\n",
      "127.0.0.1 - - [01/May/2021 01:31:56] \"\u001b[37mPOST /getresult HTTP/1.1\u001b[0m\" 200 -\n"
     ]
    },
    {
     "name": "stdout",
     "output_type": "stream",
     "text": [
      "https://cdn7.ad4989.co.kr/03U8/0K_e_a/1608693054481.jpg\n",
      "https://flx973.lporirxe.com/flp/impimg.php?qid=53632313f523732313f5337393&cid=973&p=PNUT&s=http%3A%2F%2Fdonga.com&x=&nci=&adtg=2479&nai=&si=&h=&w=&bp=&pp=&ci=&ip=&ai=banner&di=&pn=&ua=&lat=&lon=&mm=&os=\n"
     ]
    },
    {
     "name": "stderr",
     "output_type": "stream",
     "text": [
      "127.0.0.1 - - [01/May/2021 01:31:57] \"\u001b[37mPOST /getresult HTTP/1.1\u001b[0m\" 200 -\n",
      "127.0.0.1 - - [01/May/2021 01:31:57] \"\u001b[37mPOST /getresult HTTP/1.1\u001b[0m\" 200 -\n"
     ]
    },
    {
     "name": "stdout",
     "output_type": "stream",
     "text": [
      "https://img.iacstatic.co.kr/adbayimg/templates/trand_logo.gif\n",
      "https://img.iacstatic.co.kr/adbayimg/templates/more.gif\n",
      "https://img.adpnut.com/creative/46f8ba7c715d7aac1ba0b2345db0aab0.jpg\n",
      "https://img.adpnut.com/creative/e9385936d3d23198e23aafc1059e11fb.jpg\n",
      "https://img.adpnut.com/creative/1491b8a227e7cc35cc742e9d4b45c34c.jpg\n"
     ]
    },
    {
     "name": "stderr",
     "output_type": "stream",
     "text": [
      "127.0.0.1 - - [01/May/2021 01:31:57] \"\u001b[37mPOST /getresult HTTP/1.1\u001b[0m\" 200 -\n",
      "127.0.0.1 - - [01/May/2021 01:31:57] \"\u001b[37mPOST /getresult HTTP/1.1\u001b[0m\" 200 -\n",
      "127.0.0.1 - - [01/May/2021 01:31:57] \"\u001b[37mPOST /getresult HTTP/1.1\u001b[0m\" 200 -\n",
      "127.0.0.1 - - [01/May/2021 01:31:57] \"\u001b[37mPOST /getresult HTTP/1.1\u001b[0m\" 200 -\n",
      "127.0.0.1 - - [01/May/2021 01:31:57] \"\u001b[37mPOST /getresult HTTP/1.1\u001b[0m\" 200 -\n",
      "127.0.0.1 - - [01/May/2021 01:31:57] \"\u001b[37mPOST /getresult HTTP/1.1\u001b[0m\" 200 -\n"
     ]
    },
    {
     "name": "stdout",
     "output_type": "stream",
     "text": [
      "https://image.donga.com/adma/body/210414_bdf_120160.jpg\n",
      "https://adimg.donga.com/madv/img/sponsor/icon_spo_koreanair.gif\n"
     ]
    },
    {
     "name": "stderr",
     "output_type": "stream",
     "text": [
      "[2021-05-01 01:31:58,016] ERROR in app: Exception on /getresult [POST]\n",
      "Traceback (most recent call last):\n",
      "  File \"D:\\anaconda3\\lib\\site-packages\\flask\\app.py\", line 2447, in wsgi_app\n",
      "    response = self.full_dispatch_request()\n",
      "  File \"D:\\anaconda3\\lib\\site-packages\\flask\\app.py\", line 1952, in full_dispatch_request\n",
      "    rv = self.handle_user_exception(e)\n",
      "  File \"D:\\anaconda3\\lib\\site-packages\\flask_cors\\extension.py\", line 165, in wrapped_function\n",
      "    return cors_after_request(app.make_response(f(*args, **kwargs)))\n",
      "  File \"D:\\anaconda3\\lib\\site-packages\\flask\\app.py\", line 1821, in handle_user_exception\n",
      "    reraise(exc_type, exc_value, tb)\n",
      "  File \"D:\\anaconda3\\lib\\site-packages\\flask\\_compat.py\", line 39, in reraise\n",
      "    raise value\n",
      "  File \"D:\\anaconda3\\lib\\site-packages\\flask\\app.py\", line 1950, in full_dispatch_request\n",
      "    rv = self.dispatch_request()\n",
      "  File \"D:\\anaconda3\\lib\\site-packages\\flask\\app.py\", line 1936, in dispatch_request\n",
      "    return self.view_functions[rule.endpoint](**req.view_args)\n",
      "  File \"<ipython-input-6-d1e968394e1c>\", line 97, in getresult\n",
      "    result = yes_or_no(input[\"src\"])\n",
      "  File \"<ipython-input-6-d1e968394e1c>\", line 44, in yes_or_no\n",
      "    img = Image.open(BytesIO(res.content))\n",
      "  File \"D:\\anaconda3\\lib\\site-packages\\PIL\\Image.py\", line 2943, in open\n",
      "    raise UnidentifiedImageError(\n",
      "PIL.UnidentifiedImageError: cannot identify image file <_io.BytesIO object at 0x000002C2D7BC6400>\n",
      "127.0.0.1 - - [01/May/2021 01:31:58] \"\u001b[35m\u001b[1mPOST /getresult HTTP/1.1\u001b[0m\" 500 -\n",
      "127.0.0.1 - - [01/May/2021 01:31:58] \"\u001b[37mPOST /getresult HTTP/1.1\u001b[0m\" 200 -\n",
      "127.0.0.1 - - [01/May/2021 01:31:58] \"\u001b[37mPOST /getresult HTTP/1.1\u001b[0m\" 200 -\n"
     ]
    },
    {
     "name": "stdout",
     "output_type": "stream",
     "text": [
      "https://image.donga.com/madv/img/sponsor/samsung_sponsor_8730_2.jpg\n",
      "https://adimg.donga.com/madv/img/kdu/kdu_88.jpg\n"
     ]
    },
    {
     "name": "stderr",
     "output_type": "stream",
     "text": [
      "127.0.0.1 - - [01/May/2021 01:31:58] \"\u001b[37mPOST /getresult HTTP/1.1\u001b[0m\" 200 -\n",
      "127.0.0.1 - - [01/May/2021 01:31:58] \"\u001b[37mPOST /getresult HTTP/1.1\u001b[0m\" 200 -\n",
      "127.0.0.1 - - [01/May/2021 01:31:58] \"\u001b[37mPOST /getresult HTTP/1.1\u001b[0m\" 200 -\n"
     ]
    },
    {
     "name": "stdout",
     "output_type": "stream",
     "text": [
      "https://image.donga.com/pc/2020/images/common/logo_donga01.png\n",
      "https://image.donga.com/home2012/images/ad/btn_adclose.png\n",
      "https://image.donga.com/adma/samsung/210216_samsung_72890.gif\n"
     ]
    },
    {
     "name": "stderr",
     "output_type": "stream",
     "text": [
      "127.0.0.1 - - [01/May/2021 01:31:58] \"\u001b[37mPOST /getresult HTTP/1.1\u001b[0m\" 200 -\n",
      "127.0.0.1 - - [01/May/2021 01:31:58] \"\u001b[37mPOST /getresult HTTP/1.1\u001b[0m\" 200 -\n",
      "127.0.0.1 - - [01/May/2021 01:31:58] \"\u001b[37mPOST /getresult HTTP/1.1\u001b[0m\" 200 -\n"
     ]
    },
    {
     "name": "stdout",
     "output_type": "stream",
     "text": [
      "https://image.donga.com/pc/2020/images/common/icon_donag.png\n",
      "https://dimg.donga.com/wps/NEWS/IMAGE/2021/04/30/106691333.2.jpg\n",
      "https://dimg.donga.com/wps/NEWS/IMAGE/2021/04/30/106691641.2.jpg\n"
     ]
    },
    {
     "name": "stderr",
     "output_type": "stream",
     "text": [
      "127.0.0.1 - - [01/May/2021 01:31:58] \"\u001b[37mPOST /getresult HTTP/1.1\u001b[0m\" 200 -\n",
      "127.0.0.1 - - [01/May/2021 01:31:58] \"\u001b[37mPOST /getresult HTTP/1.1\u001b[0m\" 200 -\n",
      "127.0.0.1 - - [01/May/2021 01:31:58] \"\u001b[37mPOST /getresult HTTP/1.1\u001b[0m\" 200 -\n"
     ]
    },
    {
     "name": "stdout",
     "output_type": "stream",
     "text": [
      "https://dimg.donga.com/a/258/230/90/2/wps/NEWS/IMAGE/2021/04/30/106688040.1.jpghttps://dimg.donga.com/a/258/230/90/2/wps/NEWS/IMAGE/2021/04/30/106689884.1.jpg\n",
      "\n",
      "https://dimg.donga.com/wps/NEWS/IMAGE/2021/04/30/106565532.2.jpg\n"
     ]
    },
    {
     "name": "stderr",
     "output_type": "stream",
     "text": [
      "127.0.0.1 - - [01/May/2021 01:31:58] \"\u001b[37mPOST /getresult HTTP/1.1\u001b[0m\" 200 -\n",
      "127.0.0.1 - - [01/May/2021 01:31:59] \"\u001b[37mPOST /getresult HTTP/1.1\u001b[0m\" 200 -\n",
      "127.0.0.1 - - [01/May/2021 01:31:59] \"\u001b[37mPOST /getresult HTTP/1.1\u001b[0m\" 200 -\n"
     ]
    },
    {
     "name": "stdout",
     "output_type": "stream",
     "text": [
      "https://dimg.donga.com/a/258/230/90/2/wps/NEWS/IMAGE/2021/04/30/106694084.2.jpg\n",
      "https://dimg.donga.com/a/258/230/90/2/wps/NEWS/IMAGE/2021/04/30/106691978.2.jpg\n",
      "https://dimg.donga.com/a/258/230/90/2/wps/NEWS/IMAGE/2021/04/29/106675785.2.jpg\n"
     ]
    },
    {
     "name": "stderr",
     "output_type": "stream",
     "text": [
      "[2021-05-01 01:31:59,180] ERROR in app: Exception on /getresult [POST]\n",
      "Traceback (most recent call last):\n",
      "  File \"D:\\anaconda3\\lib\\site-packages\\flask\\app.py\", line 2447, in wsgi_app\n",
      "    response = self.full_dispatch_request()\n",
      "  File \"D:\\anaconda3\\lib\\site-packages\\flask\\app.py\", line 1952, in full_dispatch_request\n",
      "    rv = self.handle_user_exception(e)\n",
      "  File \"D:\\anaconda3\\lib\\site-packages\\flask_cors\\extension.py\", line 165, in wrapped_function\n",
      "    return cors_after_request(app.make_response(f(*args, **kwargs)))\n",
      "  File \"D:\\anaconda3\\lib\\site-packages\\flask\\app.py\", line 1821, in handle_user_exception\n",
      "    reraise(exc_type, exc_value, tb)\n",
      "  File \"D:\\anaconda3\\lib\\site-packages\\flask\\_compat.py\", line 39, in reraise\n",
      "    raise value\n",
      "  File \"D:\\anaconda3\\lib\\site-packages\\flask\\app.py\", line 1950, in full_dispatch_request\n",
      "    rv = self.dispatch_request()\n",
      "  File \"D:\\anaconda3\\lib\\site-packages\\flask\\app.py\", line 1936, in dispatch_request\n",
      "    return self.view_functions[rule.endpoint](**req.view_args)\n",
      "  File \"<ipython-input-6-d1e968394e1c>\", line 97, in getresult\n",
      "    result = yes_or_no(input[\"src\"])\n",
      "  File \"<ipython-input-6-d1e968394e1c>\", line 44, in yes_or_no\n",
      "    img = Image.open(BytesIO(res.content))\n",
      "  File \"D:\\anaconda3\\lib\\site-packages\\PIL\\Image.py\", line 2943, in open\n",
      "    raise UnidentifiedImageError(\n",
      "PIL.UnidentifiedImageError: cannot identify image file <_io.BytesIO object at 0x000002C2D7C83CC0>\n",
      "127.0.0.1 - - [01/May/2021 01:31:59] \"\u001b[35m\u001b[1mPOST /getresult HTTP/1.1\u001b[0m\" 500 -\n",
      "127.0.0.1 - - [01/May/2021 01:31:59] \"\u001b[37mPOST /getresult HTTP/1.1\u001b[0m\" 200 -\n",
      "127.0.0.1 - - [01/May/2021 01:31:59] \"\u001b[37mPOST /getresult HTTP/1.1\u001b[0m\" 200 -\n"
     ]
    },
    {
     "name": "stdout",
     "output_type": "stream",
     "text": [
      "https://image.donga.com/donga2013/images/donga_sns_reply/login_txt.gif\n",
      "https://dimg.donga.com/a/258/230/90/2/wps/NEWS/IMAGE/2021/04/30/106690076.2.jpg\n"
     ]
    },
    {
     "name": "stderr",
     "output_type": "stream",
     "text": [
      "[2021-05-01 01:31:59,446] ERROR in app: Exception on /getresult [POST]\n",
      "Traceback (most recent call last):\n",
      "  File \"D:\\anaconda3\\lib\\site-packages\\flask\\app.py\", line 2447, in wsgi_app\n",
      "    response = self.full_dispatch_request()\n",
      "  File \"D:\\anaconda3\\lib\\site-packages\\flask\\app.py\", line 1952, in full_dispatch_request\n",
      "    rv = self.handle_user_exception(e)\n",
      "  File \"D:\\anaconda3\\lib\\site-packages\\flask_cors\\extension.py\", line 165, in wrapped_function\n",
      "    return cors_after_request(app.make_response(f(*args, **kwargs)))\n",
      "  File \"D:\\anaconda3\\lib\\site-packages\\flask\\app.py\", line 1821, in handle_user_exception\n",
      "    reraise(exc_type, exc_value, tb)\n",
      "  File \"D:\\anaconda3\\lib\\site-packages\\flask\\_compat.py\", line 39, in reraise\n",
      "    raise value\n",
      "  File \"D:\\anaconda3\\lib\\site-packages\\flask\\app.py\", line 1950, in full_dispatch_request\n",
      "    rv = self.dispatch_request()\n",
      "  File \"D:\\anaconda3\\lib\\site-packages\\flask\\app.py\", line 1936, in dispatch_request\n",
      "    return self.view_functions[rule.endpoint](**req.view_args)\n",
      "  File \"<ipython-input-6-d1e968394e1c>\", line 97, in getresult\n",
      "    result = yes_or_no(input[\"src\"])\n",
      "  File \"<ipython-input-6-d1e968394e1c>\", line 44, in yes_or_no\n",
      "    img = Image.open(BytesIO(res.content))\n",
      "  File \"D:\\anaconda3\\lib\\site-packages\\PIL\\Image.py\", line 2943, in open\n",
      "    raise UnidentifiedImageError(\n",
      "PIL.UnidentifiedImageError: cannot identify image file <_io.BytesIO object at 0x000002C2D6ADE130>\n",
      "127.0.0.1 - - [01/May/2021 01:31:59] \"\u001b[37mPOST /getresult HTTP/1.1\u001b[0m\" 200 -\n",
      "127.0.0.1 - - [01/May/2021 01:31:59] \"\u001b[35m\u001b[1mPOST /getresult HTTP/1.1\u001b[0m\" 500 -\n",
      "[2021-05-01 01:31:59,453] ERROR in app: Exception on /getresult [POST]\n",
      "Traceback (most recent call last):\n",
      "  File \"D:\\anaconda3\\lib\\site-packages\\flask\\app.py\", line 2447, in wsgi_app\n",
      "    response = self.full_dispatch_request()\n",
      "  File \"D:\\anaconda3\\lib\\site-packages\\flask\\app.py\", line 1952, in full_dispatch_request\n",
      "    rv = self.handle_user_exception(e)\n",
      "  File \"D:\\anaconda3\\lib\\site-packages\\flask_cors\\extension.py\", line 165, in wrapped_function\n",
      "    return cors_after_request(app.make_response(f(*args, **kwargs)))\n",
      "  File \"D:\\anaconda3\\lib\\site-packages\\flask\\app.py\", line 1821, in handle_user_exception\n",
      "    reraise(exc_type, exc_value, tb)\n",
      "  File \"D:\\anaconda3\\lib\\site-packages\\flask\\_compat.py\", line 39, in reraise\n",
      "    raise value\n",
      "  File \"D:\\anaconda3\\lib\\site-packages\\flask\\app.py\", line 1950, in full_dispatch_request\n",
      "    rv = self.dispatch_request()\n",
      "  File \"D:\\anaconda3\\lib\\site-packages\\flask\\app.py\", line 1936, in dispatch_request\n",
      "    return self.view_functions[rule.endpoint](**req.view_args)\n",
      "  File \"<ipython-input-6-d1e968394e1c>\", line 97, in getresult\n",
      "    result = yes_or_no(input[\"src\"])\n",
      "  File \"<ipython-input-6-d1e968394e1c>\", line 44, in yes_or_no\n",
      "    img = Image.open(BytesIO(res.content))\n",
      "  File \"D:\\anaconda3\\lib\\site-packages\\PIL\\Image.py\", line 2943, in open\n",
      "    raise UnidentifiedImageError(\n",
      "PIL.UnidentifiedImageError: cannot identify image file <_io.BytesIO object at 0x000002C2D8417860>\n",
      "127.0.0.1 - - [01/May/2021 01:31:59] \"\u001b[35m\u001b[1mPOST /getresult HTTP/1.1\u001b[0m\" 500 -\n"
     ]
    },
    {
     "name": "stdout",
     "output_type": "stream",
     "text": [
      "https://image.donga.com/mobile/image/icon/donga/apple-touch-icon.png\n",
      "https://image.donga.com/adma/cuk/210423_kdu_300250_2.jpg\n",
      "https://yellow.contentsfeed.com/RealMedia/ads/Creatives/default/empty.gif\n",
      "https://image.donga.com/adma/1004n/210316_1004n_300250.jpg\n"
     ]
    },
    {
     "name": "stderr",
     "output_type": "stream",
     "text": [
      "127.0.0.1 - - [01/May/2021 01:31:59] \"\u001b[37mPOST /getresult HTTP/1.1\u001b[0m\" 200 -\n",
      "127.0.0.1 - - [01/May/2021 01:31:59] \"\u001b[37mPOST /getresult HTTP/1.1\u001b[0m\" 200 -\n",
      "127.0.0.1 - - [01/May/2021 01:31:59] \"\u001b[37mPOST /getresult HTTP/1.1\u001b[0m\" 200 -\n",
      "127.0.0.1 - - [01/May/2021 01:31:59] \"\u001b[37mPOST /getresult HTTP/1.1\u001b[0m\" 200 -\n",
      "127.0.0.1 - - [01/May/2021 01:31:59] \"\u001b[37mPOST /getresult HTTP/1.1\u001b[0m\" 200 -\n",
      "127.0.0.1 - - [01/May/2021 01:31:59] \"\u001b[37mPOST /getresult HTTP/1.1\u001b[0m\" 200 -\n"
     ]
    },
    {
     "name": "stdout",
     "output_type": "stream",
     "text": [
      "https://dimg.donga.com/a/76/60/95/1/wps/NEWS/IMAGE/2021/04/30/106698455.2.jpg\n",
      "https://dimg.donga.com/a/300/170/90/1/wps/STUDIO/FEED/VODA_STUDIO_DONGA/106656226.1.thumb.jpg\n",
      "https://image.donga.com/adma/donga/210414_ekr_300250.jpg\n",
      "https://dimg.donga.com/a/76/60/95/1/wps/NEWS/IMAGE/2021/04/30/106702617.1.jpg\n",
      "https://dimg.donga.com/a/76/60/95/1/wps/NEWS/IMAGE/2021/04/30/106691333.2.jpg\n",
      "https://dimg.donga.com/a/76/60/95/1/wps/NEWS/IMAGE/2021/04/30/106697797.2.jpg\n"
     ]
    },
    {
     "name": "stderr",
     "output_type": "stream",
     "text": [
      "127.0.0.1 - - [01/May/2021 01:32:00] \"\u001b[37mPOST /getresult HTTP/1.1\u001b[0m\" 200 -\n",
      "127.0.0.1 - - [01/May/2021 01:32:00] \"\u001b[37mPOST /getresult HTTP/1.1\u001b[0m\" 200 -\n",
      "127.0.0.1 - - [01/May/2021 01:32:00] \"\u001b[37mPOST /getresult HTTP/1.1\u001b[0m\" 200 -\n",
      "127.0.0.1 - - [01/May/2021 01:32:00] \"\u001b[37mPOST /getresult HTTP/1.1\u001b[0m\" 200 -\n",
      "127.0.0.1 - - [01/May/2021 01:32:00] \"\u001b[37mPOST /getresult HTTP/1.1\u001b[0m\" 200 -\n",
      "127.0.0.1 - - [01/May/2021 01:32:00] \"\u001b[37mPOST /getresult HTTP/1.1\u001b[0m\" 200 -\n"
     ]
    },
    {
     "name": "stdout",
     "output_type": "stream",
     "text": [
      "https://dimg.donga.com/a/76/60/95/1/wps/NEWS/IMAGE/2021/04/30/106700707.2.jpg\n",
      "https://dimg.donga.com/a/76/60/95/1/wps/NEWS/IMAGE/2021/04/30/106694084.2.jpg\n",
      "https://dimg.donga.com/a/76/60/95/1/wps/NEWS/IMAGE/2021/04/30/106689884.1.jpg\n",
      "https://dimg.donga.com/a/76/60/95/1/wps/NEWS/IMAGE/2021/04/29/106667376.2.jpg\n",
      "https://dimg.donga.com/a/76/60/95/1/wps/NEWS/IMAGE/2021/04/30/106691978.2.jpg\n",
      "https://dimg.donga.com/a/76/60/95/1/wps/NEWS/IMAGE/2021/04/30/106688040.1.jpg\n"
     ]
    },
    {
     "name": "stderr",
     "output_type": "stream",
     "text": [
      "127.0.0.1 - - [01/May/2021 01:32:00] \"\u001b[37mPOST /getresult HTTP/1.1\u001b[0m\" 200 -\n",
      "127.0.0.1 - - [01/May/2021 01:32:00] \"\u001b[37mPOST /getresult HTTP/1.1\u001b[0m\" 200 -\n",
      "127.0.0.1 - - [01/May/2021 01:32:00] \"\u001b[37mPOST /getresult HTTP/1.1\u001b[0m\" 200 -\n",
      "127.0.0.1 - - [01/May/2021 01:32:00] \"\u001b[37mPOST /getresult HTTP/1.1\u001b[0m\" 200 -\n",
      "127.0.0.1 - - [01/May/2021 01:32:00] \"\u001b[37mPOST /getresult HTTP/1.1\u001b[0m\" 200 -\n",
      "127.0.0.1 - - [01/May/2021 01:32:00] \"\u001b[37mPOST /getresult HTTP/1.1\u001b[0m\" 200 -\n"
     ]
    },
    {
     "name": "stdout",
     "output_type": "stream",
     "text": [
      "https://dimg.donga.com/a/76/60/95/1/wps/NEWS/IMAGE/2021/04/30/106689884.1.jpg\n",
      "https://dimg.donga.com/a/76/60/95/1/wps/NEWS/IMAGE/2021/04/30/106688040.1.jpg\n",
      "https://dimg.donga.com/a/76/60/95/1/wps/NEWS/IMAGE/2021/04/30/106694084.2.jpg\n",
      "https://dimg.donga.com/a/76/60/95/1/wps/NEWS/IMAGE/2021/04/29/106675785.2.jpg\n",
      "https://dimg.donga.com/a/76/60/95/1/wps/NEWS/IMAGE/2021/04/30/106691978.2.jpg\n",
      "https://dimg.donga.com/a/353/239/90/1/wps/NEWS/FEED/Mdonga_Home_Topic_2018/106702504.1.thumb.jpg\n"
     ]
    },
    {
     "name": "stderr",
     "output_type": "stream",
     "text": [
      "127.0.0.1 - - [01/May/2021 01:32:00] \"\u001b[37mPOST /getresult HTTP/1.1\u001b[0m\" 200 -\n",
      "127.0.0.1 - - [01/May/2021 01:32:00] \"\u001b[37mPOST /getresult HTTP/1.1\u001b[0m\" 200 -\n",
      "127.0.0.1 - - [01/May/2021 01:32:01] \"\u001b[37mPOST /getresult HTTP/1.1\u001b[0m\" 200 -\n",
      "127.0.0.1 - - [01/May/2021 01:32:01] \"\u001b[37mPOST /getresult HTTP/1.1\u001b[0m\" 200 -\n",
      "127.0.0.1 - - [01/May/2021 01:32:01] \"\u001b[37mPOST /getresult HTTP/1.1\u001b[0m\" 200 -\n",
      "127.0.0.1 - - [01/May/2021 01:32:01] \"\u001b[37mPOST /getresult HTTP/1.1\u001b[0m\" 200 -\n"
     ]
    },
    {
     "name": "stdout",
     "output_type": "stream",
     "text": [
      "https://dimg.donga.com/a/353/239/90/1/wps/NEWS/FEED/Mdonga_Home_Topic_2018/106702626.1.thumb.jpg\n",
      "https://dimg.donga.com/a/353/239/90/1/wps/NEWS/FEED/Mdonga_Home_Topic_2018/106699522.1.thumb.jpg\n",
      "https://dimg.donga.com/a/353/239/90/1/wps/NEWS/FEED/Mdonga_Home_Topic_2018/106702544.2.thumb.jpg\n",
      "https://dimg.donga.com/a/353/239/90/1/wps/NEWS/FEED/Mdonga_Home_Topic_2018/106700744.1.thumb.jpg\n",
      "https://dimg.donga.com/a/353/239/90/1/wps/NEWS/FEED/Mdonga_Home_Topic_2018/106702964.1.thumb.jpg\n",
      "https://image.donga.com/home2011/images/footer_icon_rss.gif\n"
     ]
    },
    {
     "name": "stderr",
     "output_type": "stream",
     "text": [
      "127.0.0.1 - - [01/May/2021 01:32:01] \"\u001b[37mPOST /getresult HTTP/1.1\u001b[0m\" 200 -\n",
      "127.0.0.1 - - [01/May/2021 01:32:01] \"\u001b[37mPOST /getresult HTTP/1.1\u001b[0m\" 200 -\n",
      "127.0.0.1 - - [01/May/2021 01:32:01] \"\u001b[37mPOST /getresult HTTP/1.1\u001b[0m\" 200 -\n",
      "127.0.0.1 - - [01/May/2021 01:32:01] \"\u001b[37mPOST /getresult HTTP/1.1\u001b[0m\" 200 -\n",
      "127.0.0.1 - - [01/May/2021 01:32:01] \"\u001b[37mPOST /getresult HTTP/1.1\u001b[0m\" 200 -\n",
      "127.0.0.1 - - [01/May/2021 01:32:01] \"\u001b[37mPOST /getresult HTTP/1.1\u001b[0m\" 200 -\n",
      "127.0.0.1 - - [01/May/2021 01:32:01] \"\u001b[37mPOST /getresult HTTP/1.1\u001b[0m\" 200 -\n"
     ]
    },
    {
     "name": "stdout",
     "output_type": "stream",
     "text": [
      "https://yellow.contentsfeed.com/RealMedia/ads/Creatives/default/empty.gif\n",
      "https://yellow.contentsfeed.com/RealMedia/ads/Creatives/default/empty.gif\n",
      "https://yellow.contentsfeed.com/RealMedia/ads/Creatives/default/empty.gif\n",
      "https://yellow.contentsfeed.com/RealMedia/ads/Creatives/default/empty.gif\n"
     ]
    },
    {
     "name": "stderr",
     "output_type": "stream",
     "text": [
      "[2021-05-01 01:32:02,033] ERROR in app: Exception on /getresult [POST]\n",
      "Traceback (most recent call last):\n",
      "  File \"D:\\anaconda3\\lib\\site-packages\\flask\\app.py\", line 2447, in wsgi_app\n",
      "    response = self.full_dispatch_request()\n",
      "  File \"D:\\anaconda3\\lib\\site-packages\\flask\\app.py\", line 1952, in full_dispatch_request\n",
      "    rv = self.handle_user_exception(e)\n",
      "  File \"D:\\anaconda3\\lib\\site-packages\\flask_cors\\extension.py\", line 165, in wrapped_function\n",
      "    return cors_after_request(app.make_response(f(*args, **kwargs)))\n",
      "  File \"D:\\anaconda3\\lib\\site-packages\\flask\\app.py\", line 1821, in handle_user_exception\n",
      "    reraise(exc_type, exc_value, tb)\n",
      "  File \"D:\\anaconda3\\lib\\site-packages\\flask\\_compat.py\", line 39, in reraise\n",
      "    raise value\n",
      "  File \"D:\\anaconda3\\lib\\site-packages\\flask\\app.py\", line 1950, in full_dispatch_request\n",
      "    rv = self.dispatch_request()\n",
      "  File \"D:\\anaconda3\\lib\\site-packages\\flask\\app.py\", line 1936, in dispatch_request\n",
      "    return self.view_functions[rule.endpoint](**req.view_args)\n",
      "  File \"<ipython-input-6-d1e968394e1c>\", line 97, in getresult\n",
      "    result = yes_or_no(input[\"src\"])\n",
      "  File \"<ipython-input-6-d1e968394e1c>\", line 44, in yes_or_no\n",
      "    img = Image.open(BytesIO(res.content))\n",
      "  File \"D:\\anaconda3\\lib\\site-packages\\PIL\\Image.py\", line 2943, in open\n",
      "    raise UnidentifiedImageError(\n",
      "PIL.UnidentifiedImageError: cannot identify image file <_io.BytesIO object at 0x000002C2D790A090>\n",
      "127.0.0.1 - - [01/May/2021 01:32:02] \"\u001b[35m\u001b[1mPOST /getresult HTTP/1.1\u001b[0m\" 500 -\n",
      "127.0.0.1 - - [01/May/2021 01:32:02] \"\u001b[37mPOST /getresult HTTP/1.1\u001b[0m\" 200 -\n",
      "[2021-05-01 01:32:02,180] ERROR in app: Exception on /getresult [POST]\n",
      "Traceback (most recent call last):\n",
      "  File \"D:\\anaconda3\\lib\\site-packages\\flask\\app.py\", line 2447, in wsgi_app\n",
      "    response = self.full_dispatch_request()\n",
      "  File \"D:\\anaconda3\\lib\\site-packages\\flask\\app.py\", line 1952, in full_dispatch_request\n",
      "    rv = self.handle_user_exception(e)\n",
      "  File \"D:\\anaconda3\\lib\\site-packages\\flask_cors\\extension.py\", line 165, in wrapped_function\n",
      "    return cors_after_request(app.make_response(f(*args, **kwargs)))\n",
      "  File \"D:\\anaconda3\\lib\\site-packages\\flask\\app.py\", line 1821, in handle_user_exception\n",
      "    reraise(exc_type, exc_value, tb)\n",
      "  File \"D:\\anaconda3\\lib\\site-packages\\flask\\_compat.py\", line 39, in reraise\n",
      "    raise value\n",
      "  File \"D:\\anaconda3\\lib\\site-packages\\flask\\app.py\", line 1950, in full_dispatch_request\n",
      "    rv = self.dispatch_request()\n",
      "  File \"D:\\anaconda3\\lib\\site-packages\\flask\\app.py\", line 1936, in dispatch_request\n",
      "    return self.view_functions[rule.endpoint](**req.view_args)\n",
      "  File \"<ipython-input-6-d1e968394e1c>\", line 97, in getresult\n",
      "    result = yes_or_no(input[\"src\"])\n",
      "  File \"<ipython-input-6-d1e968394e1c>\", line 44, in yes_or_no\n",
      "    img = Image.open(BytesIO(res.content))\n",
      "  File \"D:\\anaconda3\\lib\\site-packages\\PIL\\Image.py\", line 2943, in open\n",
      "    raise UnidentifiedImageError(\n",
      "PIL.UnidentifiedImageError: cannot identify image file <_io.BytesIO object at 0x000002C2DC92EA40>\n",
      "127.0.0.1 - - [01/May/2021 01:32:02] \"\u001b[35m\u001b[1mPOST /getresult HTTP/1.1\u001b[0m\" 500 -\n"
     ]
    },
    {
     "name": "stdout",
     "output_type": "stream",
     "text": [
      "https://tpc.googlesyndication.com/simgad/1714783741056440771?sqp=4sqPyQQrQikqJwhfEAEdAAC0QiABKAEwCTgDQPCTCUgAUAFYAWBfcAJ4AcUBLbKdPg&rs=AOga4qlXjnY6fKgH3XLSNr6-y5oJf8t5dg\n"
     ]
    },
    {
     "name": "stderr",
     "output_type": "stream",
     "text": [
      "[2021-05-01 01:32:02,226] ERROR in app: Exception on /getresult [POST]\n",
      "Traceback (most recent call last):\n",
      "  File \"D:\\anaconda3\\lib\\site-packages\\flask\\app.py\", line 2447, in wsgi_app\n",
      "    response = self.full_dispatch_request()\n",
      "  File \"D:\\anaconda3\\lib\\site-packages\\flask\\app.py\", line 1952, in full_dispatch_request\n",
      "    rv = self.handle_user_exception(e)\n",
      "  File \"D:\\anaconda3\\lib\\site-packages\\flask_cors\\extension.py\", line 165, in wrapped_function\n",
      "    return cors_after_request(app.make_response(f(*args, **kwargs)))\n",
      "  File \"D:\\anaconda3\\lib\\site-packages\\flask\\app.py\", line 1821, in handle_user_exception\n",
      "    reraise(exc_type, exc_value, tb)\n",
      "  File \"D:\\anaconda3\\lib\\site-packages\\flask\\_compat.py\", line 39, in reraise\n",
      "    raise value\n",
      "  File \"D:\\anaconda3\\lib\\site-packages\\flask\\app.py\", line 1950, in full_dispatch_request\n",
      "    rv = self.dispatch_request()\n",
      "  File \"D:\\anaconda3\\lib\\site-packages\\flask\\app.py\", line 1936, in dispatch_request\n",
      "    return self.view_functions[rule.endpoint](**req.view_args)\n",
      "  File \"<ipython-input-6-d1e968394e1c>\", line 97, in getresult\n",
      "    result = yes_or_no(input[\"src\"])\n",
      "  File \"<ipython-input-6-d1e968394e1c>\", line 44, in yes_or_no\n",
      "    img = Image.open(BytesIO(res.content))\n",
      "  File \"D:\\anaconda3\\lib\\site-packages\\PIL\\Image.py\", line 2943, in open\n",
      "    raise UnidentifiedImageError(\n",
      "PIL.UnidentifiedImageError: cannot identify image file <_io.BytesIO object at 0x000002C2D7F6E1D0>\n",
      "127.0.0.1 - - [01/May/2021 01:32:02] \"\u001b[35m\u001b[1mPOST /getresult HTTP/1.1\u001b[0m\" 500 -\n",
      "[2021-05-01 01:32:02,227] ERROR in app: Exception on /getresult [POST]\n",
      "Traceback (most recent call last):\n",
      "  File \"D:\\anaconda3\\lib\\site-packages\\flask\\app.py\", line 2447, in wsgi_app\n",
      "    response = self.full_dispatch_request()\n",
      "  File \"D:\\anaconda3\\lib\\site-packages\\flask\\app.py\", line 1952, in full_dispatch_request\n",
      "    rv = self.handle_user_exception(e)\n",
      "  File \"D:\\anaconda3\\lib\\site-packages\\flask_cors\\extension.py\", line 165, in wrapped_function\n",
      "    return cors_after_request(app.make_response(f(*args, **kwargs)))\n",
      "  File \"D:\\anaconda3\\lib\\site-packages\\flask\\app.py\", line 1821, in handle_user_exception\n",
      "    reraise(exc_type, exc_value, tb)\n",
      "  File \"D:\\anaconda3\\lib\\site-packages\\flask\\_compat.py\", line 39, in reraise\n",
      "    raise value\n",
      "  File \"D:\\anaconda3\\lib\\site-packages\\flask\\app.py\", line 1950, in full_dispatch_request\n",
      "    rv = self.dispatch_request()\n",
      "  File \"D:\\anaconda3\\lib\\site-packages\\flask\\app.py\", line 1936, in dispatch_request\n",
      "    return self.view_functions[rule.endpoint](**req.view_args)\n",
      "  File \"<ipython-input-6-d1e968394e1c>\", line 97, in getresult\n",
      "    result = yes_or_no(input[\"src\"])\n",
      "  File \"<ipython-input-6-d1e968394e1c>\", line 44, in yes_or_no\n",
      "    img = Image.open(BytesIO(res.content))\n",
      "  File \"D:\\anaconda3\\lib\\site-packages\\PIL\\Image.py\", line 2943, in open\n",
      "    raise UnidentifiedImageError(\n",
      "PIL.UnidentifiedImageError: cannot identify image file <_io.BytesIO object at 0x000002C2D6B13B30>\n",
      "127.0.0.1 - - [01/May/2021 01:32:02] \"\u001b[35m\u001b[1mPOST /getresult HTTP/1.1\u001b[0m\" 500 -\n",
      "[2021-05-01 01:32:02,336] ERROR in app: Exception on /getresult [POST]\n",
      "Traceback (most recent call last):\n",
      "  File \"D:\\anaconda3\\lib\\site-packages\\flask\\app.py\", line 2447, in wsgi_app\n",
      "    response = self.full_dispatch_request()\n",
      "  File \"D:\\anaconda3\\lib\\site-packages\\flask\\app.py\", line 1952, in full_dispatch_request\n",
      "    rv = self.handle_user_exception(e)\n",
      "  File \"D:\\anaconda3\\lib\\site-packages\\flask_cors\\extension.py\", line 165, in wrapped_function\n",
      "    return cors_after_request(app.make_response(f(*args, **kwargs)))\n",
      "  File \"D:\\anaconda3\\lib\\site-packages\\flask\\app.py\", line 1821, in handle_user_exception\n",
      "    reraise(exc_type, exc_value, tb)\n",
      "  File \"D:\\anaconda3\\lib\\site-packages\\flask\\_compat.py\", line 39, in reraise\n",
      "    raise value\n",
      "  File \"D:\\anaconda3\\lib\\site-packages\\flask\\app.py\", line 1950, in full_dispatch_request\n",
      "    rv = self.dispatch_request()\n",
      "  File \"D:\\anaconda3\\lib\\site-packages\\flask\\app.py\", line 1936, in dispatch_request\n",
      "    return self.view_functions[rule.endpoint](**req.view_args)\n",
      "  File \"<ipython-input-6-d1e968394e1c>\", line 97, in getresult\n",
      "    result = yes_or_no(input[\"src\"])\n",
      "  File \"<ipython-input-6-d1e968394e1c>\", line 44, in yes_or_no\n",
      "    img = Image.open(BytesIO(res.content))\n",
      "  File \"D:\\anaconda3\\lib\\site-packages\\PIL\\Image.py\", line 2943, in open\n",
      "    raise UnidentifiedImageError(\n",
      "PIL.UnidentifiedImageError: cannot identify image file <_io.BytesIO object at 0x000002C2D7761720>\n",
      "127.0.0.1 - - [01/May/2021 01:32:02] \"\u001b[35m\u001b[1mPOST /getresult HTTP/1.1\u001b[0m\" 500 -\n",
      "[2021-05-01 01:32:02,547] ERROR in app: Exception on /getresult [POST]\n",
      "Traceback (most recent call last):\n",
      "  File \"D:\\anaconda3\\lib\\site-packages\\flask\\app.py\", line 2447, in wsgi_app\n",
      "    response = self.full_dispatch_request()\n",
      "  File \"D:\\anaconda3\\lib\\site-packages\\flask\\app.py\", line 1952, in full_dispatch_request\n",
      "    rv = self.handle_user_exception(e)\n",
      "  File \"D:\\anaconda3\\lib\\site-packages\\flask_cors\\extension.py\", line 165, in wrapped_function\n",
      "    return cors_after_request(app.make_response(f(*args, **kwargs)))\n",
      "  File \"D:\\anaconda3\\lib\\site-packages\\flask\\app.py\", line 1821, in handle_user_exception\n",
      "    reraise(exc_type, exc_value, tb)\n",
      "  File \"D:\\anaconda3\\lib\\site-packages\\flask\\_compat.py\", line 39, in reraise\n",
      "    raise value\n",
      "  File \"D:\\anaconda3\\lib\\site-packages\\flask\\app.py\", line 1950, in full_dispatch_request\n",
      "    rv = self.dispatch_request()\n",
      "  File \"D:\\anaconda3\\lib\\site-packages\\flask\\app.py\", line 1936, in dispatch_request\n",
      "    return self.view_functions[rule.endpoint](**req.view_args)\n",
      "  File \"<ipython-input-6-d1e968394e1c>\", line 97, in getresult\n",
      "    result = yes_or_no(input[\"src\"])\n",
      "  File \"<ipython-input-6-d1e968394e1c>\", line 43, in yes_or_no\n",
      "    res = requests.get(url)\n",
      "  File \"D:\\anaconda3\\lib\\site-packages\\requests\\api.py\", line 76, in get\n",
      "    return request('get', url, params=params, **kwargs)\n",
      "  File \"D:\\anaconda3\\lib\\site-packages\\requests\\api.py\", line 61, in request\n",
      "    return session.request(method=method, url=url, **kwargs)\n",
      "  File \"D:\\anaconda3\\lib\\site-packages\\requests\\sessions.py\", line 516, in request\n",
      "    prep = self.prepare_request(req)\n",
      "  File \"D:\\anaconda3\\lib\\site-packages\\requests\\sessions.py\", line 449, in prepare_request\n",
      "    p.prepare(\n",
      "  File \"D:\\anaconda3\\lib\\site-packages\\requests\\models.py\", line 314, in prepare\n",
      "    self.prepare_url(url, params)\n",
      "  File \"D:\\anaconda3\\lib\\site-packages\\requests\\models.py\", line 388, in prepare_url\n",
      "    raise MissingSchema(error)\n",
      "requests.exceptions.MissingSchema: Invalid URL '': No schema supplied. Perhaps you meant http://?\n",
      "127.0.0.1 - - [01/May/2021 01:32:02] \"\u001b[35m\u001b[1mPOST /getresult HTTP/1.1\u001b[0m\" 500 -\n",
      "127.0.0.1 - - [01/May/2021 01:32:02] \"\u001b[37mPOST /getresult HTTP/1.1\u001b[0m\" 200 -\n",
      "127.0.0.1 - - [01/May/2021 01:32:02] \"\u001b[37mPOST /getresult HTTP/1.1\u001b[0m\" 200 -\n",
      "127.0.0.1 - - [01/May/2021 01:32:02] \"\u001b[37mPOST /getresult HTTP/1.1\u001b[0m\" 200 -\n"
     ]
    },
    {
     "name": "stdout",
     "output_type": "stream",
     "text": [
      "https://secure.flashtalking.com/oba/icon/iconc.png?EDAA_icon=y\n",
      "https://pagead2.googlesyndication.com/pagead/gen_204?id=xbid&dbm_b=AKAmf-AQbV0M41NNV1y60eYffoEH1cNVNVc--YbLbttvgniQg_mpaFEMiuil446N9xS-ttZpvLJsa91Q3DCYDK-ylBg-cUIVuODZw1-T0FyJtveiqtjDMDk\n",
      "https://secure.flashtalking.com/oba/icon/consumer-privacy-logo.png\n",
      "https://tps812.doubleverify.com/bsevent.gif?impid=d856a0ca6bf142a5adefc080efa1e524&vfdur=333&cbust=1619800315795583\n"
     ]
    },
    {
     "name": "stderr",
     "output_type": "stream",
     "text": [
      "127.0.0.1 - - [01/May/2021 01:32:02] \"\u001b[37mPOST /getresult HTTP/1.1\u001b[0m\" 200 -\n",
      "127.0.0.1 - - [01/May/2021 01:32:02] \"\u001b[37mPOST /getresult HTTP/1.1\u001b[0m\" 200 -\n"
     ]
    },
    {
     "name": "stdout",
     "output_type": "stream",
     "text": [
      "https://tps812.doubleverify.com/bsevent.gif?impid=d856a0ca6bf142a5adefc080efa1e524&dvp_or2=1&cbust=1619800315794638\n"
     ]
    },
    {
     "name": "stderr",
     "output_type": "stream",
     "text": [
      "127.0.0.1 - - [01/May/2021 01:32:03] \"\u001b[37mPOST /getresult HTTP/1.1\u001b[0m\" 200 -\n",
      "[2021-05-01 01:32:03,081] ERROR in app: Exception on /getresult [POST]\n",
      "Traceback (most recent call last):\n",
      "  File \"D:\\anaconda3\\lib\\site-packages\\flask\\app.py\", line 2447, in wsgi_app\n",
      "    response = self.full_dispatch_request()\n",
      "  File \"D:\\anaconda3\\lib\\site-packages\\flask\\app.py\", line 1952, in full_dispatch_request\n",
      "    rv = self.handle_user_exception(e)\n",
      "  File \"D:\\anaconda3\\lib\\site-packages\\flask_cors\\extension.py\", line 165, in wrapped_function\n",
      "    return cors_after_request(app.make_response(f(*args, **kwargs)))\n",
      "  File \"D:\\anaconda3\\lib\\site-packages\\flask\\app.py\", line 1821, in handle_user_exception\n",
      "    reraise(exc_type, exc_value, tb)\n",
      "  File \"D:\\anaconda3\\lib\\site-packages\\flask\\_compat.py\", line 39, in reraise\n",
      "    raise value\n",
      "  File \"D:\\anaconda3\\lib\\site-packages\\flask\\app.py\", line 1950, in full_dispatch_request\n",
      "    rv = self.dispatch_request()\n",
      "  File \"D:\\anaconda3\\lib\\site-packages\\flask\\app.py\", line 1936, in dispatch_request\n",
      "    return self.view_functions[rule.endpoint](**req.view_args)\n",
      "  File \"<ipython-input-6-d1e968394e1c>\", line 97, in getresult\n",
      "    result = yes_or_no(input[\"src\"])\n",
      "  File \"<ipython-input-6-d1e968394e1c>\", line 44, in yes_or_no\n",
      "    img = Image.open(BytesIO(res.content))\n",
      "  File \"D:\\anaconda3\\lib\\site-packages\\PIL\\Image.py\", line 2943, in open\n",
      "    raise UnidentifiedImageError(\n",
      "PIL.UnidentifiedImageError: cannot identify image file <_io.BytesIO object at 0x000002C2D9A5EF40>\n",
      "127.0.0.1 - - [01/May/2021 01:32:03] \"\u001b[35m\u001b[1mPOST /getresult HTTP/1.1\u001b[0m\" 500 -\n",
      "127.0.0.1 - - [01/May/2021 01:32:03] \"\u001b[37mPOST /getresult HTTP/1.1\u001b[0m\" 200 -\n",
      "127.0.0.1 - - [01/May/2021 01:32:03] \"\u001b[37mPOST /getresult HTTP/1.1\u001b[0m\" 200 -\n"
     ]
    },
    {
     "name": "stdout",
     "output_type": "stream",
     "text": [
      "https://cdn.flashtalking.com/134958/3359509/dot-img.png\n",
      "https://cdn.flashtalking.com/134958/3359509/bg-color.jpg\n",
      "https://cdn.flashtalking.com/134958/3359509/bg-img.jpg\n",
      "https://img.adpnut.com/creative/8a647d47978752f2e2b0177a93f648d3.jpg\n",
      "https://img.adpnut.com/creative/e9385936d3d23198e23aafc1059e11fb.jpg"
     ]
    },
    {
     "name": "stderr",
     "output_type": "stream",
     "text": [
      "127.0.0.1 - - [01/May/2021 01:32:03] \"\u001b[37mPOST /getresult HTTP/1.1\u001b[0m\" 200 -\n",
      "127.0.0.1 - - [01/May/2021 01:32:03] \"\u001b[37mPOST /getresult HTTP/1.1\u001b[0m\" 200 -\n"
     ]
    },
    {
     "name": "stdout",
     "output_type": "stream",
     "text": [
      "\n"
     ]
    },
    {
     "name": "stderr",
     "output_type": "stream",
     "text": [
      "[2021-05-01 01:32:03,452] ERROR in app: Exception on /getresult [POST]\n",
      "Traceback (most recent call last):\n",
      "  File \"D:\\anaconda3\\lib\\site-packages\\flask\\app.py\", line 2447, in wsgi_app\n",
      "    response = self.full_dispatch_request()\n",
      "  File \"D:\\anaconda3\\lib\\site-packages\\flask\\app.py\", line 1952, in full_dispatch_request\n",
      "    rv = self.handle_user_exception(e)\n",
      "  File \"D:\\anaconda3\\lib\\site-packages\\flask_cors\\extension.py\", line 165, in wrapped_function\n",
      "    return cors_after_request(app.make_response(f(*args, **kwargs)))\n",
      "  File \"D:\\anaconda3\\lib\\site-packages\\flask\\app.py\", line 1821, in handle_user_exception\n",
      "    reraise(exc_type, exc_value, tb)\n",
      "  File \"D:\\anaconda3\\lib\\site-packages\\flask\\_compat.py\", line 39, in reraise\n",
      "    raise value\n",
      "  File \"D:\\anaconda3\\lib\\site-packages\\flask\\app.py\", line 1950, in full_dispatch_request\n",
      "    rv = self.dispatch_request()\n",
      "  File \"D:\\anaconda3\\lib\\site-packages\\flask\\app.py\", line 1936, in dispatch_request\n",
      "    return self.view_functions[rule.endpoint](**req.view_args)\n",
      "  File \"<ipython-input-6-d1e968394e1c>\", line 97, in getresult\n",
      "    result = yes_or_no(input[\"src\"])\n",
      "  File \"<ipython-input-6-d1e968394e1c>\", line 44, in yes_or_no\n",
      "    img = Image.open(BytesIO(res.content))\n",
      "  File \"D:\\anaconda3\\lib\\site-packages\\PIL\\Image.py\", line 2943, in open\n",
      "    raise UnidentifiedImageError(\n",
      "PIL.UnidentifiedImageError: cannot identify image file <_io.BytesIO object at 0x000002C2D99A85E0>\n",
      "127.0.0.1 - - [01/May/2021 01:32:03] \"\u001b[35m\u001b[1mPOST /getresult HTTP/1.1\u001b[0m\" 500 -\n",
      "127.0.0.1 - - [01/May/2021 01:32:03] \"\u001b[37mPOST /getresult HTTP/1.1\u001b[0m\" 200 -\n"
     ]
    },
    {
     "name": "stdout",
     "output_type": "stream",
     "text": [
      "https://img.adpnut.com/creative/1491b8a227e7cc35cc742e9d4b45c34c.jpg\n",
      "https://cdn3.ad4989.co.kr/04C_e/0M4_o/1608703704151.jpg\n",
      "https://ads.mncmedia.co.kr/mad/DONGA/images/adBlit_rs.jpg\n",
      "https://ads.mncmedia.co.kr/mad/DONGA/images/adBlit_rs.jpg\n",
      "https://js.ad4989.co.kr/etc/reople/donga_ad.gif\n",
      "https://cdn1.ad4989.co.kr/04F_t/0NM_v/1614523145253.jpg\n",
      "https://cdn8.ad4989.co.kr/03_p_j/0L_d0/1608703999066.jpg\n"
     ]
    },
    {
     "name": "stderr",
     "output_type": "stream",
     "text": [
      "127.0.0.1 - - [01/May/2021 01:32:14] \"\u001b[37mPOST /getresult HTTP/1.1\u001b[0m\" 200 -\n",
      "127.0.0.1 - - [01/May/2021 01:32:14] \"\u001b[37mPOST /getresult HTTP/1.1\u001b[0m\" 200 -\n",
      "127.0.0.1 - - [01/May/2021 01:32:14] \"\u001b[37mPOST /getresult HTTP/1.1\u001b[0m\" 200 -\n",
      "127.0.0.1 - - [01/May/2021 01:32:14] \"\u001b[37mPOST /getresult HTTP/1.1\u001b[0m\" 200 -\n",
      "127.0.0.1 - - [01/May/2021 01:32:14] \"\u001b[37mPOST /getresult HTTP/1.1\u001b[0m\" 200 -\n"
     ]
    },
    {
     "name": "stdout",
     "output_type": "stream",
     "text": [
      "https://cdn8.ad4989.co.kr/03_p_j/0L_d0/1608703999076.gif\n"
     ]
    },
    {
     "name": "stderr",
     "output_type": "stream",
     "text": [
      "127.0.0.1 - - [01/May/2021 01:32:14] \"\u001b[37mPOST /getresult HTTP/1.1\u001b[0m\" 200 -\n",
      "127.0.0.1 - - [01/May/2021 01:32:14] \"\u001b[37mPOST /getresult HTTP/1.1\u001b[0m\" 200 -\n",
      "127.0.0.1 - - [01/May/2021 01:32:15] \"\u001b[37mPOST /getresult HTTP/1.1\u001b[0m\" 200 -\n"
     ]
    },
    {
     "name": "stdout",
     "output_type": "stream",
     "text": [
      "https://js.ad4989.co.kr/etc/reople/reople_logo.jpg\n",
      "https://ff.adteip.net/ground/logo_15x15.png\n",
      "https://ff.adteip.net/banner/Cx76_r/3a0458d7ffd3796c20f6fa06e7990a6f.jpg"
     ]
    },
    {
     "name": "stderr",
     "output_type": "stream",
     "text": [
      "127.0.0.1 - - [01/May/2021 01:32:15] \"\u001b[37mPOST /getresult HTTP/1.1\u001b[0m\" 200 -\n"
     ]
    },
    {
     "name": "stdout",
     "output_type": "stream",
     "text": [
      "\n",
      "https://images.dable.io/ad/thumbnails/legacy-resize/210421005548550/2x/16by10\n",
      "https://images.dable.io/ad/thumbnails/legacy-resize/2x/1573693648778\n",
      "https://images.dable.io/ad/thumbnails/legacy-resize/16by10/2x/1600915235887\n"
     ]
    },
    {
     "name": "stderr",
     "output_type": "stream",
     "text": [
      "127.0.0.1 - - [01/May/2021 01:32:15] \"\u001b[37mPOST /getresult HTTP/1.1\u001b[0m\" 200 -\n",
      "127.0.0.1 - - [01/May/2021 01:32:15] \"\u001b[37mPOST /getresult HTTP/1.1\u001b[0m\" 200 -\n",
      "127.0.0.1 - - [01/May/2021 01:32:15] \"\u001b[37mPOST /getresult HTTP/1.1\u001b[0m\" 200 -\n",
      "127.0.0.1 - - [01/May/2021 01:32:15] \"\u001b[37mPOST /getresult HTTP/1.1\u001b[0m\" 200 -\n",
      "127.0.0.1 - - [01/May/2021 01:32:15] \"\u001b[37mPOST /getresult HTTP/1.1\u001b[0m\" 200 -\n"
     ]
    },
    {
     "name": "stdout",
     "output_type": "stream",
     "text": [
      "https://images.dable.io/ad/thumbnails/legacy-resize/210311044259858/2x/16by10\n",
      "https://images.dable.io/ad/thumbnails/legacy-resize/2x/1589526988427\n"
     ]
    },
    {
     "name": "stderr",
     "output_type": "stream",
     "text": [
      "127.0.0.1 - - [01/May/2021 01:32:15] \"\u001b[37mPOST /getresult HTTP/1.1\u001b[0m\" 200 -\n",
      "127.0.0.1 - - [01/May/2021 01:32:15] \"\u001b[37mPOST /getresult HTTP/1.1\u001b[0m\" 200 -\n"
     ]
    },
    {
     "name": "stdout",
     "output_type": "stream",
     "text": [
      "https://images.dable.io/ad/thumbnails/legacy-resize/2x/1602572165076\n",
      "https://img.iacstatic.co.kr/adbayimg/templates/more.gif\n",
      "https://img.iacstatic.co.kr/adbayimg/templates/trand_logo.gif\n",
      "https://flx973.lporirxe.com/flp/impimg.php?qid=53632313f523732313f5337393&cid=973&p=PNUT&s=http%3A%2F%2Fdonga.com&x=&nci=&adtg=2479&nai=&si=&h=&w=&bp=&pp=&ci=&ip=&ai=banner&di=&pn=&ua=&lat=&lon=&mm=&os=\n",
      "https://img.adpnut.com/creative/46f8ba7c715d7aac1ba0b2345db0aab0.jpg\n"
     ]
    },
    {
     "name": "stderr",
     "output_type": "stream",
     "text": [
      "127.0.0.1 - - [01/May/2021 01:32:16] \"\u001b[37mPOST /getresult HTTP/1.1\u001b[0m\" 200 -\n",
      "127.0.0.1 - - [01/May/2021 01:32:16] \"\u001b[37mPOST /getresult HTTP/1.1\u001b[0m\" 200 -\n",
      "127.0.0.1 - - [01/May/2021 01:32:16] \"\u001b[37mPOST /getresult HTTP/1.1\u001b[0m\" 200 -\n",
      "127.0.0.1 - - [01/May/2021 01:32:16] \"\u001b[37mPOST /getresult HTTP/1.1\u001b[0m\" 200 -\n",
      "127.0.0.1 - - [01/May/2021 01:32:16] \"\u001b[37mPOST /getresult HTTP/1.1\u001b[0m\" 200 -\n",
      "127.0.0.1 - - [01/May/2021 01:32:16] \"\u001b[37mPOST /getresult HTTP/1.1\u001b[0m\" 200 -\n"
     ]
    },
    {
     "name": "stdout",
     "output_type": "stream",
     "text": [
      "https://img.adpnut.com/creative/e9385936d3d23198e23aafc1059e11fb.jpg\n",
      "https://img.adpnut.com/creative/1491b8a227e7cc35cc742e9d4b45c34c.jpg\n"
     ]
    },
    {
     "name": "stderr",
     "output_type": "stream",
     "text": [
      "127.0.0.1 - - [01/May/2021 01:32:16] \"\u001b[37mPOST /getresult HTTP/1.1\u001b[0m\" 200 -\n",
      "127.0.0.1 - - [01/May/2021 01:32:16] \"\u001b[37mPOST /getresult HTTP/1.1\u001b[0m\" 200 -\n",
      "127.0.0.1 - - [01/May/2021 01:32:16] \"\u001b[37mPOST /getresult HTTP/1.1\u001b[0m\" 200 -\n"
     ]
    },
    {
     "name": "stdout",
     "output_type": "stream",
     "text": [
      "https://wr-im.catad5959.com/wecydrep.com/120x90/102315395942.gif\n",
      "https://wr-im.catad5959.com/wecydrep.com/120x90/070910565032.jpg\n",
      "https://wr-im.catad5959.com/wecydrep.com/120x90/10241003095.jpg\n",
      "https://js.ad4989.co.kr/etc/eternalad/img/ad.gifhttps://wr-im.catad5959.com/wecydrep.com/120x90/102313330442.jpg\n",
      "\n"
     ]
    },
    {
     "name": "stderr",
     "output_type": "stream",
     "text": [
      "127.0.0.1 - - [01/May/2021 01:32:16] \"\u001b[37mPOST /getresult HTTP/1.1\u001b[0m\" 200 -\n",
      "127.0.0.1 - - [01/May/2021 01:32:16] \"\u001b[37mPOST /getresult HTTP/1.1\u001b[0m\" 200 -\n",
      "127.0.0.1 - - [01/May/2021 01:32:16] \"\u001b[37mPOST /getresult HTTP/1.1\u001b[0m\" 200 -\n"
     ]
    },
    {
     "name": "stdout",
     "output_type": "stream",
     "text": [
      "https://cdn2.ad4989.co.kr/03_aA/0K_cK/1614240310656.jpg\n"
     ]
    },
    {
     "name": "stderr",
     "output_type": "stream",
     "text": [
      "127.0.0.1 - - [01/May/2021 01:32:16] \"\u001b[37mPOST /getresult HTTP/1.1\u001b[0m\" 200 -\n",
      "[2021-05-01 01:32:17,054] ERROR in app: Exception on /getresult [POST]\n",
      "Traceback (most recent call last):\n",
      "  File \"D:\\anaconda3\\lib\\site-packages\\flask\\app.py\", line 2447, in wsgi_app\n",
      "    response = self.full_dispatch_request()\n",
      "  File \"D:\\anaconda3\\lib\\site-packages\\flask\\app.py\", line 1952, in full_dispatch_request\n",
      "    rv = self.handle_user_exception(e)\n",
      "  File \"D:\\anaconda3\\lib\\site-packages\\flask_cors\\extension.py\", line 165, in wrapped_function\n",
      "    return cors_after_request(app.make_response(f(*args, **kwargs)))\n",
      "  File \"D:\\anaconda3\\lib\\site-packages\\flask\\app.py\", line 1821, in handle_user_exception\n",
      "    reraise(exc_type, exc_value, tb)\n",
      "  File \"D:\\anaconda3\\lib\\site-packages\\flask\\_compat.py\", line 39, in reraise\n",
      "    raise value\n",
      "  File \"D:\\anaconda3\\lib\\site-packages\\flask\\app.py\", line 1950, in full_dispatch_request\n",
      "    rv = self.dispatch_request()\n",
      "  File \"D:\\anaconda3\\lib\\site-packages\\flask\\app.py\", line 1936, in dispatch_request\n",
      "    return self.view_functions[rule.endpoint](**req.view_args)\n",
      "  File \"<ipython-input-6-d1e968394e1c>\", line 97, in getresult\n",
      "    result = yes_or_no(input[\"src\"])\n",
      "  File \"<ipython-input-6-d1e968394e1c>\", line 44, in yes_or_no\n",
      "    img = Image.open(BytesIO(res.content))\n",
      "  File \"D:\\anaconda3\\lib\\site-packages\\PIL\\Image.py\", line 2943, in open\n",
      "    raise UnidentifiedImageError(\n",
      "PIL.UnidentifiedImageError: cannot identify image file <_io.BytesIO object at 0x000002C2D7DBCE00>\n",
      "127.0.0.1 - - [01/May/2021 01:32:17] \"\u001b[35m\u001b[1mPOST /getresult HTTP/1.1\u001b[0m\" 500 -\n",
      "127.0.0.1 - - [01/May/2021 01:32:17] \"\u001b[37mPOST /getresult HTTP/1.1\u001b[0m\" 200 -\n"
     ]
    },
    {
     "name": "stdout",
     "output_type": "stream",
     "text": [
      "https://cdn8.ad4989.co.kr/03_c_z/0K_l_k/1608692913863.gif\n",
      "https://cdn7.ad4989.co.kr/01KG/0JVX/1608778023020.gif\n",
      "https://image.donga.com/adma/body/210414_bdf_120160.jpg\n",
      "https://cdn1.ad4989.co.kr/03_b_j/0K_iE/1618469396096.gif\n",
      "https://thumb.tv.zumst.com/s/zum.tv-zum-cf/donga/2020/12/14/25b15386794a0fac32114c396e0bb9a4.jpeg?w=460&h=258\n"
     ]
    },
    {
     "name": "stderr",
     "output_type": "stream",
     "text": [
      "127.0.0.1 - - [01/May/2021 01:32:17] \"\u001b[37mPOST /getresult HTTP/1.1\u001b[0m\" 200 -\n",
      "127.0.0.1 - - [01/May/2021 01:32:17] \"\u001b[37mPOST /getresult HTTP/1.1\u001b[0m\" 200 -\n",
      "127.0.0.1 - - [01/May/2021 01:32:17] \"\u001b[37mPOST /getresult HTTP/1.1\u001b[0m\" 200 -\n",
      "127.0.0.1 - - [01/May/2021 01:32:17] \"\u001b[37mPOST /getresult HTTP/1.1\u001b[0m\" 200 -\n",
      "127.0.0.1 - - [01/May/2021 01:32:17] \"\u001b[37mPOST /getresult HTTP/1.1\u001b[0m\" 200 -\n",
      "[2021-05-01 01:32:17,565] ERROR in app: Exception on /getresult [POST]\n",
      "Traceback (most recent call last):\n",
      "  File \"D:\\anaconda3\\lib\\site-packages\\flask\\app.py\", line 2447, in wsgi_app\n",
      "    response = self.full_dispatch_request()\n",
      "  File \"D:\\anaconda3\\lib\\site-packages\\flask\\app.py\", line 1952, in full_dispatch_request\n",
      "    rv = self.handle_user_exception(e)\n",
      "  File \"D:\\anaconda3\\lib\\site-packages\\flask_cors\\extension.py\", line 165, in wrapped_function\n",
      "    return cors_after_request(app.make_response(f(*args, **kwargs)))\n",
      "  File \"D:\\anaconda3\\lib\\site-packages\\flask\\app.py\", line 1821, in handle_user_exception\n",
      "    reraise(exc_type, exc_value, tb)\n",
      "  File \"D:\\anaconda3\\lib\\site-packages\\flask\\_compat.py\", line 39, in reraise\n",
      "    raise value\n",
      "  File \"D:\\anaconda3\\lib\\site-packages\\flask\\app.py\", line 1950, in full_dispatch_request\n",
      "    rv = self.dispatch_request()\n",
      "  File \"D:\\anaconda3\\lib\\site-packages\\flask\\app.py\", line 1936, in dispatch_request\n",
      "    return self.view_functions[rule.endpoint](**req.view_args)\n",
      "  File \"<ipython-input-6-d1e968394e1c>\", line 97, in getresult\n",
      "    result = yes_or_no(input[\"src\"])\n",
      "  File \"<ipython-input-6-d1e968394e1c>\", line 44, in yes_or_no\n",
      "    img = Image.open(BytesIO(res.content))\n",
      "  File \"D:\\anaconda3\\lib\\site-packages\\PIL\\Image.py\", line 2943, in open\n",
      "    raise UnidentifiedImageError(\n",
      "PIL.UnidentifiedImageError: cannot identify image file <_io.BytesIO object at 0x000002C2D9EA72C0>\n",
      "127.0.0.1 - - [01/May/2021 01:32:17] \"\u001b[35m\u001b[1mPOST /getresult HTTP/1.1\u001b[0m\" 500 -\n",
      "[2021-05-01 01:32:17,576] ERROR in app: Exception on /getresult [POST]\n",
      "Traceback (most recent call last):\n",
      "  File \"D:\\anaconda3\\lib\\site-packages\\flask\\app.py\", line 2447, in wsgi_app\n",
      "    response = self.full_dispatch_request()\n",
      "  File \"D:\\anaconda3\\lib\\site-packages\\flask\\app.py\", line 1952, in full_dispatch_request\n",
      "    rv = self.handle_user_exception(e)\n",
      "  File \"D:\\anaconda3\\lib\\site-packages\\flask_cors\\extension.py\", line 165, in wrapped_function\n",
      "    return cors_after_request(app.make_response(f(*args, **kwargs)))\n",
      "  File \"D:\\anaconda3\\lib\\site-packages\\flask\\app.py\", line 1821, in handle_user_exception\n",
      "    reraise(exc_type, exc_value, tb)\n",
      "  File \"D:\\anaconda3\\lib\\site-packages\\flask\\_compat.py\", line 39, in reraise\n",
      "    raise value\n",
      "  File \"D:\\anaconda3\\lib\\site-packages\\flask\\app.py\", line 1950, in full_dispatch_request\n",
      "    rv = self.dispatch_request()\n",
      "  File \"D:\\anaconda3\\lib\\site-packages\\flask\\app.py\", line 1936, in dispatch_request\n",
      "    return self.view_functions[rule.endpoint](**req.view_args)\n",
      "  File \"<ipython-input-6-d1e968394e1c>\", line 97, in getresult\n",
      "    result = yes_or_no(input[\"src\"])\n",
      "  File \"<ipython-input-6-d1e968394e1c>\", line 44, in yes_or_no\n",
      "    img = Image.open(BytesIO(res.content))\n",
      "  File \"D:\\anaconda3\\lib\\site-packages\\PIL\\Image.py\", line 2943, in open\n",
      "    raise UnidentifiedImageError(\n",
      "PIL.UnidentifiedImageError: cannot identify image file <_io.BytesIO object at 0x000002C2D8365F90>\n",
      "127.0.0.1 - - [01/May/2021 01:32:17] \"\u001b[35m\u001b[1mPOST /getresult HTTP/1.1\u001b[0m\" 500 -\n"
     ]
    },
    {
     "name": "stdout",
     "output_type": "stream",
     "text": [
      "https://adimg.donga.com/madv/img/kdu/kdu_88.jpg\n",
      "https://adimg.donga.com/madv/img/sponsor/icon_spo_koreanair.gif\n",
      "https://image.donga.com/madv/img/sponsor/samsung_sponsor_8730_2.jpg\n",
      "https://image.donga.com/adma/samsung/210216_samsung_72890.gif\n"
     ]
    },
    {
     "name": "stderr",
     "output_type": "stream",
     "text": [
      "127.0.0.1 - - [01/May/2021 01:32:17] \"\u001b[37mPOST /getresult HTTP/1.1\u001b[0m\" 200 -\n",
      "127.0.0.1 - - [01/May/2021 01:32:17] \"\u001b[37mPOST /getresult HTTP/1.1\u001b[0m\" 200 -\n",
      "127.0.0.1 - - [01/May/2021 01:32:17] \"\u001b[37mPOST /getresult HTTP/1.1\u001b[0m\" 200 -\n",
      "127.0.0.1 - - [01/May/2021 01:32:17] \"\u001b[37mPOST /getresult HTTP/1.1\u001b[0m\" 200 -\n"
     ]
    },
    {
     "name": "stdout",
     "output_type": "stream",
     "text": [
      "https://image.donga.com/home2012/images/ad/btn_adclose.png\n",
      "https://image.donga.com/pc/2020/images/common/logo_donga01.png\n",
      "https://image.donga.com/pc/2020/images/common/icon_donag.png\n",
      "https://dimg.donga.com/wps/NEWS/IMAGE/2021/04/30/106691333.2.jpg\n",
      "https://dimg.donga.com/wps/NEWS/IMAGE/2021/04/30/106691641.2.jpg\n"
     ]
    },
    {
     "name": "stderr",
     "output_type": "stream",
     "text": [
      "127.0.0.1 - - [01/May/2021 01:32:18] \"\u001b[37mPOST /getresult HTTP/1.1\u001b[0m\" 200 -\n",
      "127.0.0.1 - - [01/May/2021 01:32:18] \"\u001b[37mPOST /getresult HTTP/1.1\u001b[0m\" 200 -\n",
      "127.0.0.1 - - [01/May/2021 01:32:18] \"\u001b[37mPOST /getresult HTTP/1.1\u001b[0m\" 200 -\n",
      "127.0.0.1 - - [01/May/2021 01:32:18] \"\u001b[37mPOST /getresult HTTP/1.1\u001b[0m\" 200 -\n"
     ]
    },
    {
     "name": "stdout",
     "output_type": "stream",
     "text": [
      "https://dimg.donga.com/wps/NEWS/IMAGE/2021/04/30/106565532.2.jpg\n"
     ]
    },
    {
     "name": "stderr",
     "output_type": "stream",
     "text": [
      "127.0.0.1 - - [01/May/2021 01:32:18] \"\u001b[37mPOST /getresult HTTP/1.1\u001b[0m\" 200 -\n",
      "127.0.0.1 - - [01/May/2021 01:32:18] \"\u001b[37mPOST /getresult HTTP/1.1\u001b[0m\" 200 -\n"
     ]
    },
    {
     "name": "stdout",
     "output_type": "stream",
     "text": [
      "https://dimg.donga.com/a/258/230/90/2/wps/NEWS/IMAGE/2021/04/30/106689884.1.jpg\n",
      "https://dimg.donga.com/a/258/230/90/2/wps/NEWS/IMAGE/2021/04/30/106688040.1.jpg\n",
      "https://dimg.donga.com/a/258/230/90/2/wps/NEWS/IMAGE/2021/04/30/106694084.2.jpg\n",
      "https://dimg.donga.com/a/258/230/90/2/wps/NEWS/IMAGE/2021/04/29/106675785.2.jpg\n",
      "https://dimg.donga.com/a/258/230/90/2/wps/NEWS/IMAGE/2021/04/30/106690076.2.jpghttps://dimg.donga.com/a/258/230/90/2/wps/NEWS/IMAGE/2021/04/30/106691978.2.jpg\n",
      "\n"
     ]
    },
    {
     "name": "stderr",
     "output_type": "stream",
     "text": [
      "127.0.0.1 - - [01/May/2021 01:32:18] \"\u001b[37mPOST /getresult HTTP/1.1\u001b[0m\" 200 -\n",
      "127.0.0.1 - - [01/May/2021 01:32:18] \"\u001b[37mPOST /getresult HTTP/1.1\u001b[0m\" 200 -\n",
      "127.0.0.1 - - [01/May/2021 01:32:18] \"\u001b[37mPOST /getresult HTTP/1.1\u001b[0m\" 200 -\n",
      "127.0.0.1 - - [01/May/2021 01:32:18] \"\u001b[37mPOST /getresult HTTP/1.1\u001b[0m\" 200 -\n",
      "[2021-05-01 01:32:18,924] ERROR in app: Exception on /getresult [POST]\n",
      "Traceback (most recent call last):\n",
      "  File \"D:\\anaconda3\\lib\\site-packages\\flask\\app.py\", line 2447, in wsgi_app\n",
      "    response = self.full_dispatch_request()\n",
      "  File \"D:\\anaconda3\\lib\\site-packages\\flask\\app.py\", line 1952, in full_dispatch_request\n",
      "    rv = self.handle_user_exception(e)\n",
      "  File \"D:\\anaconda3\\lib\\site-packages\\flask_cors\\extension.py\", line 165, in wrapped_function\n",
      "    return cors_after_request(app.make_response(f(*args, **kwargs)))\n",
      "  File \"D:\\anaconda3\\lib\\site-packages\\flask\\app.py\", line 1821, in handle_user_exception\n",
      "    reraise(exc_type, exc_value, tb)\n",
      "  File \"D:\\anaconda3\\lib\\site-packages\\flask\\_compat.py\", line 39, in reraise\n",
      "    raise value\n",
      "  File \"D:\\anaconda3\\lib\\site-packages\\flask\\app.py\", line 1950, in full_dispatch_request\n",
      "    rv = self.dispatch_request()\n",
      "  File \"D:\\anaconda3\\lib\\site-packages\\flask\\app.py\", line 1936, in dispatch_request\n",
      "    return self.view_functions[rule.endpoint](**req.view_args)\n",
      "  File \"<ipython-input-6-d1e968394e1c>\", line 97, in getresult\n",
      "    result = yes_or_no(input[\"src\"])\n",
      "  File \"<ipython-input-6-d1e968394e1c>\", line 44, in yes_or_no\n",
      "    img = Image.open(BytesIO(res.content))\n",
      "  File \"D:\\anaconda3\\lib\\site-packages\\PIL\\Image.py\", line 2943, in open\n",
      "    raise UnidentifiedImageError(\n",
      "PIL.UnidentifiedImageError: cannot identify image file <_io.BytesIO object at 0x000002C2D7904900>\n",
      "127.0.0.1 - - [01/May/2021 01:32:18] \"\u001b[37mPOST /getresult HTTP/1.1\u001b[0m\" 200 -\n",
      "127.0.0.1 - - [01/May/2021 01:32:18] \"\u001b[35m\u001b[1mPOST /getresult HTTP/1.1\u001b[0m\" 500 -\n",
      "127.0.0.1 - - [01/May/2021 01:32:18] \"\u001b[37mPOST /getresult HTTP/1.1\u001b[0m\" 200 -\n",
      "[2021-05-01 01:32:19,009] ERROR in app: Exception on /getresult [POST]\n",
      "Traceback (most recent call last):\n",
      "  File \"D:\\anaconda3\\lib\\site-packages\\flask\\app.py\", line 2447, in wsgi_app\n",
      "    response = self.full_dispatch_request()\n",
      "  File \"D:\\anaconda3\\lib\\site-packages\\flask\\app.py\", line 1952, in full_dispatch_request\n",
      "    rv = self.handle_user_exception(e)\n",
      "  File \"D:\\anaconda3\\lib\\site-packages\\flask_cors\\extension.py\", line 165, in wrapped_function\n",
      "    return cors_after_request(app.make_response(f(*args, **kwargs)))\n",
      "  File \"D:\\anaconda3\\lib\\site-packages\\flask\\app.py\", line 1821, in handle_user_exception\n",
      "    reraise(exc_type, exc_value, tb)\n",
      "  File \"D:\\anaconda3\\lib\\site-packages\\flask\\_compat.py\", line 39, in reraise\n",
      "    raise value\n",
      "  File \"D:\\anaconda3\\lib\\site-packages\\flask\\app.py\", line 1950, in full_dispatch_request\n",
      "    rv = self.dispatch_request()\n",
      "  File \"D:\\anaconda3\\lib\\site-packages\\flask\\app.py\", line 1936, in dispatch_request\n",
      "    return self.view_functions[rule.endpoint](**req.view_args)\n",
      "  File \"<ipython-input-6-d1e968394e1c>\", line 97, in getresult\n",
      "    result = yes_or_no(input[\"src\"])\n",
      "  File \"<ipython-input-6-d1e968394e1c>\", line 44, in yes_or_no\n",
      "    img = Image.open(BytesIO(res.content))\n",
      "  File \"D:\\anaconda3\\lib\\site-packages\\PIL\\Image.py\", line 2943, in open\n",
      "    raise UnidentifiedImageError(\n",
      "PIL.UnidentifiedImageError: cannot identify image file <_io.BytesIO object at 0x000002C2D99EB8B0>\n",
      "127.0.0.1 - - [01/May/2021 01:32:19] \"\u001b[35m\u001b[1mPOST /getresult HTTP/1.1\u001b[0m\" 500 -\n",
      "[2021-05-01 01:32:19,028] ERROR in app: Exception on /getresult [POST]\n",
      "Traceback (most recent call last):\n",
      "  File \"D:\\anaconda3\\lib\\site-packages\\flask\\app.py\", line 2447, in wsgi_app\n",
      "    response = self.full_dispatch_request()\n",
      "  File \"D:\\anaconda3\\lib\\site-packages\\flask\\app.py\", line 1952, in full_dispatch_request\n",
      "    rv = self.handle_user_exception(e)\n",
      "  File \"D:\\anaconda3\\lib\\site-packages\\flask_cors\\extension.py\", line 165, in wrapped_function\n",
      "    return cors_after_request(app.make_response(f(*args, **kwargs)))\n",
      "  File \"D:\\anaconda3\\lib\\site-packages\\flask\\app.py\", line 1821, in handle_user_exception\n",
      "    reraise(exc_type, exc_value, tb)\n",
      "  File \"D:\\anaconda3\\lib\\site-packages\\flask\\_compat.py\", line 39, in reraise\n",
      "    raise value\n",
      "  File \"D:\\anaconda3\\lib\\site-packages\\flask\\app.py\", line 1950, in full_dispatch_request\n",
      "    rv = self.dispatch_request()\n",
      "  File \"D:\\anaconda3\\lib\\site-packages\\flask\\app.py\", line 1936, in dispatch_request\n",
      "    return self.view_functions[rule.endpoint](**req.view_args)\n",
      "  File \"<ipython-input-6-d1e968394e1c>\", line 97, in getresult\n",
      "    result = yes_or_no(input[\"src\"])\n",
      "  File \"<ipython-input-6-d1e968394e1c>\", line 44, in yes_or_no\n",
      "    img = Image.open(BytesIO(res.content))\n",
      "  File \"D:\\anaconda3\\lib\\site-packages\\PIL\\Image.py\", line 2943, in open\n",
      "    raise UnidentifiedImageError(\n",
      "PIL.UnidentifiedImageError: cannot identify image file <_io.BytesIO object at 0x000002C2D82AC3B0>\n",
      "127.0.0.1 - - [01/May/2021 01:32:19] \"\u001b[35m\u001b[1mPOST /getresult HTTP/1.1\u001b[0m\" 500 -\n",
      "127.0.0.1 - - [01/May/2021 01:32:19] \"\u001b[37mPOST /getresult HTTP/1.1\u001b[0m\" 200 -\n"
     ]
    },
    {
     "name": "stdout",
     "output_type": "stream",
     "text": [
      "https://image.donga.com/donga2013/images/donga_sns_reply/login_txt.gif\n",
      "https://image.donga.com/mobile/image/icon/donga/apple-touch-icon.png\n",
      "https://image.donga.com/adma/cuk/210423_kdu_300250_2.jpg\n"
     ]
    },
    {
     "name": "stderr",
     "output_type": "stream",
     "text": [
      "127.0.0.1 - - [01/May/2021 01:32:19] \"\u001b[37mPOST /getresult HTTP/1.1\u001b[0m\" 200 -\n"
     ]
    },
    {
     "name": "stdout",
     "output_type": "stream",
     "text": [
      "https://image.donga.com/adma/donga/210414_ekr_300250.jpg\n",
      "https://image.donga.com/adma/samsung/210216_samsung_300250.gif\n",
      "https://dimg.donga.com/a/300/170/90/1/wps/STUDIO/FEED/VODA_STUDIO_DONGA/106656226.1.thumb.jpg\n",
      "https://image.donga.com/adma/donga/210414_ekr_300250.jpg\n",
      "https://dimg.donga.com/a/76/60/95/1/wps/NEWS/IMAGE/2021/04/30/106698455.2.jpg\n",
      "https://dimg.donga.com/a/76/60/95/1/wps/NEWS/IMAGE/2021/04/30/106702617.1.jpg\n"
     ]
    },
    {
     "name": "stderr",
     "output_type": "stream",
     "text": [
      "127.0.0.1 - - [01/May/2021 01:32:19] \"\u001b[37mPOST /getresult HTTP/1.1\u001b[0m\" 200 -\n",
      "127.0.0.1 - - [01/May/2021 01:32:19] \"\u001b[37mPOST /getresult HTTP/1.1\u001b[0m\" 200 -\n",
      "127.0.0.1 - - [01/May/2021 01:32:19] \"\u001b[37mPOST /getresult HTTP/1.1\u001b[0m\" 200 -\n",
      "127.0.0.1 - - [01/May/2021 01:32:19] \"\u001b[37mPOST /getresult HTTP/1.1\u001b[0m\" 200 -\n",
      "127.0.0.1 - - [01/May/2021 01:32:19] \"\u001b[37mPOST /getresult HTTP/1.1\u001b[0m\" 200 -\n",
      "127.0.0.1 - - [01/May/2021 01:32:19] \"\u001b[37mPOST /getresult HTTP/1.1\u001b[0m\" 200 -\n",
      "127.0.0.1 - - [01/May/2021 01:32:20] \"\u001b[37mPOST /getresult HTTP/1.1\u001b[0m\" 200 -\n"
     ]
    },
    {
     "name": "stdout",
     "output_type": "stream",
     "text": [
      "https://dimg.donga.com/a/76/60/95/1/wps/NEWS/IMAGE/2021/04/30/106697797.2.jpg\n",
      "https://dimg.donga.com/a/76/60/95/1/wps/NEWS/IMAGE/2021/04/30/106691333.2.jpg\n",
      "https://dimg.donga.com/a/76/60/95/1/wps/NEWS/IMAGE/2021/04/30/106700707.2.jpg\n",
      "https://dimg.donga.com/a/76/60/95/1/wps/NEWS/IMAGE/2021/04/30/106694084.2.jpg\n",
      "https://dimg.donga.com/a/76/60/95/1/wps/NEWS/IMAGE/2021/04/30/106689884.1.jpg\n",
      "https://dimg.donga.com/a/76/60/95/1/wps/NEWS/IMAGE/2021/04/29/106667376.2.jpg\n"
     ]
    },
    {
     "name": "stderr",
     "output_type": "stream",
     "text": [
      "127.0.0.1 - - [01/May/2021 01:32:20] \"\u001b[37mPOST /getresult HTTP/1.1\u001b[0m\" 200 -\n",
      "127.0.0.1 - - [01/May/2021 01:32:20] \"\u001b[37mPOST /getresult HTTP/1.1\u001b[0m\" 200 -\n",
      "127.0.0.1 - - [01/May/2021 01:32:20] \"\u001b[37mPOST /getresult HTTP/1.1\u001b[0m\" 200 -\n",
      "127.0.0.1 - - [01/May/2021 01:32:20] \"\u001b[37mPOST /getresult HTTP/1.1\u001b[0m\" 200 -\n",
      "127.0.0.1 - - [01/May/2021 01:32:20] \"\u001b[37mPOST /getresult HTTP/1.1\u001b[0m\" 200 -\n",
      "127.0.0.1 - - [01/May/2021 01:32:20] \"\u001b[37mPOST /getresult HTTP/1.1\u001b[0m\" 200 -\n"
     ]
    },
    {
     "name": "stdout",
     "output_type": "stream",
     "text": [
      "https://dimg.donga.com/a/76/60/95/1/wps/NEWS/IMAGE/2021/04/30/106691978.2.jpg\n",
      "https://dimg.donga.com/a/76/60/95/1/wps/NEWS/IMAGE/2021/04/30/106688040.1.jpg\n",
      "https://dimg.donga.com/a/76/60/95/1/wps/NEWS/IMAGE/2021/04/30/106689884.1.jpg\n",
      "https://dimg.donga.com/a/76/60/95/1/wps/NEWS/IMAGE/2021/04/30/106688040.1.jpg\n",
      "https://dimg.donga.com/a/76/60/95/1/wps/NEWS/IMAGE/2021/04/30/106694084.2.jpg\n",
      "https://dimg.donga.com/a/76/60/95/1/wps/NEWS/IMAGE/2021/04/29/106675785.2.jpg\n"
     ]
    },
    {
     "name": "stderr",
     "output_type": "stream",
     "text": [
      "127.0.0.1 - - [01/May/2021 01:32:20] \"\u001b[37mPOST /getresult HTTP/1.1\u001b[0m\" 200 -\n",
      "127.0.0.1 - - [01/May/2021 01:32:20] \"\u001b[37mPOST /getresult HTTP/1.1\u001b[0m\" 200 -\n",
      "127.0.0.1 - - [01/May/2021 01:32:20] \"\u001b[37mPOST /getresult HTTP/1.1\u001b[0m\" 200 -\n",
      "127.0.0.1 - - [01/May/2021 01:32:20] \"\u001b[37mPOST /getresult HTTP/1.1\u001b[0m\" 200 -\n",
      "127.0.0.1 - - [01/May/2021 01:32:20] \"\u001b[37mPOST /getresult HTTP/1.1\u001b[0m\" 200 -\n",
      "127.0.0.1 - - [01/May/2021 01:32:20] \"\u001b[37mPOST /getresult HTTP/1.1\u001b[0m\" 200 -\n"
     ]
    },
    {
     "name": "stdout",
     "output_type": "stream",
     "text": [
      "https://dimg.donga.com/a/76/60/95/1/wps/NEWS/IMAGE/2021/04/30/106691978.2.jpg\n",
      "https://dimg.donga.com/a/353/239/90/1/wps/NEWS/FEED/Mdonga_Home_Topic_2018/106702504.1.thumb.jpg\n"
     ]
    },
    {
     "name": "stderr",
     "output_type": "stream",
     "text": [
      "127.0.0.1 - - [01/May/2021 01:32:21] \"\u001b[37mPOST /getresult HTTP/1.1\u001b[0m\" 200 -\n",
      "127.0.0.1 - - [01/May/2021 01:32:21] \"\u001b[37mPOST /getresult HTTP/1.1\u001b[0m\" 200 -\n",
      "127.0.0.1 - - [01/May/2021 01:32:21] \"\u001b[37mPOST /getresult HTTP/1.1\u001b[0m\" 200 -\n"
     ]
    },
    {
     "name": "stdout",
     "output_type": "stream",
     "text": [
      "https://dimg.donga.com/a/353/239/90/1/wps/NEWS/FEED/Mdonga_Home_Topic_2018/106702626.1.thumb.jpg\n",
      "https://dimg.donga.com/a/353/239/90/1/wps/NEWS/FEED/Mdonga_Home_Topic_2018/106699522.1.thumb.jpg\n",
      "https://dimg.donga.com/a/353/239/90/1/wps/NEWS/FEED/Mdonga_Home_Topic_2018/106702544.2.thumb.jpg\n",
      "https://dimg.donga.com/a/353/239/90/1/wps/NEWS/FEED/Mdonga_Home_Topic_2018/106700744.1.thumb.jpg\n",
      "https://dimg.donga.com/a/353/239/90/1/wps/NEWS/FEED/Mdonga_Home_Topic_2018/106702964.1.thumb.jpg\n",
      "https://image.donga.com/home2011/images/footer_icon_rss.gif\n"
     ]
    },
    {
     "name": "stderr",
     "output_type": "stream",
     "text": [
      "127.0.0.1 - - [01/May/2021 01:32:21] \"\u001b[37mPOST /getresult HTTP/1.1\u001b[0m\" 200 -\n",
      "127.0.0.1 - - [01/May/2021 01:32:21] \"\u001b[37mPOST /getresult HTTP/1.1\u001b[0m\" 200 -\n",
      "127.0.0.1 - - [01/May/2021 01:32:21] \"\u001b[37mPOST /getresult HTTP/1.1\u001b[0m\" 200 -\n",
      "127.0.0.1 - - [01/May/2021 01:32:21] \"\u001b[37mPOST /getresult HTTP/1.1\u001b[0m\" 200 -\n",
      "127.0.0.1 - - [01/May/2021 01:32:21] \"\u001b[37mPOST /getresult HTTP/1.1\u001b[0m\" 200 -\n",
      "127.0.0.1 - - [01/May/2021 01:32:21] \"\u001b[37mPOST /getresult HTTP/1.1\u001b[0m\" 200 -\n",
      "127.0.0.1 - - [01/May/2021 01:32:21] \"\u001b[37mPOST /getresult HTTP/1.1\u001b[0m\" 200 -\n"
     ]
    },
    {
     "name": "stdout",
     "output_type": "stream",
     "text": [
      "https://yellow.contentsfeed.com/RealMedia/ads/Creatives/default/empty.gif\n",
      "https://yellow.contentsfeed.com/RealMedia/ads/Creatives/default/empty.gif\n",
      "https://yellow.contentsfeed.com/RealMedia/ads/Creatives/default/empty.gif\n",
      "https://yellow.contentsfeed.com/RealMedia/ads/Creatives/default/empty.gif\n"
     ]
    }
   ],
   "source": [
    "from PIL import Image\n",
    "import os, glob, numpy as np\n",
    "from tensorflow.keras.models import load_model\n",
    "import keras\n",
    "import tensorflow as tf\n",
    "from flask import Flask, request\n",
    "import json\n",
    "from flask_cors import CORS\n",
    "\n",
    "from PIL import UnidentifiedImageError # 사진 못 받아왔을 때 에러 except\n",
    "\n",
    "import urllib.request\n",
    "from io import BytesIO\n",
    "\n",
    "import requests\n",
    "\n",
    "\n",
    "from PIL import ImageFile\n",
    "ImageFile.LOAD_TRUNCATED_IMAGES = True # 잘린 이미지 수복 (OS Error truncated)\n",
    "\n",
    "\n",
    "\n",
    "app = Flask(__name__)\n",
    "CORS(app)\n",
    "\n",
    "def yes_or_no(url):\n",
    "\n",
    "#     seed = 5\n",
    "#     tf.random.set_seed(seed)\n",
    "#     np.random.seed(seed)\n",
    "\n",
    "    image_w = 64\n",
    "    image_h = 64\n",
    "\n",
    "    pixels = image_h * image_w * 3\n",
    "\n",
    "    X = []\n",
    "    \n",
    "#     res = urllib.request.urlopen(url).read()\n",
    "#     img = Image.open(BytesIO(res))\n",
    "\n",
    "\n",
    "    res = requests.get(url)\n",
    "    img = Image.open(BytesIO(res.content))\n",
    "    \n",
    "    img = img.convert(\"RGB\")\n",
    "    img = img.resize((image_w, image_h))\n",
    "    data = np.asarray(img)\n",
    "\n",
    "    X.append(data)\n",
    "\n",
    "    X = np.array(X)\n",
    "    X = X.astype(float) / 255\n",
    "\n",
    "#     try:\n",
    "#         #model = load_model('C:\\\\Users\\\\kimkm\\\\광고\\\\model\\\\ad_non_ad_classify.model')\n",
    "#         model = load_model('/model/ad_non_ad_classify.model')\n",
    "    \n",
    "#         prediction = model.predict(X)\n",
    "        \n",
    "#         if prediction >= 0.5:\n",
    "#             return 1\n",
    "#         else :\n",
    "#             return 0\n",
    "    \n",
    "#     except OSError:\n",
    "#         print('에러 ' + url)\n",
    "#         pass\n",
    "#     except TypeError:\n",
    "#         print('에러 ' + url)\n",
    "#         pass\n",
    "\n",
    "    try:\n",
    "        print(url)\n",
    "#         model = load_model('D:\\\\GitHub\\Adblock_with_DeepNetwork\\\\Adblock_with_DeepNetwork\\\\chrome_extension\\\\ver_1.0\\\\test_chrome_extension_ver_1.0\\\\model\\\\ad_non_ad_classify.model')\n",
    "#         model = load_model('C:\\\\Users\\\\kimkm\\\\광고\\\\model\\\\ad_non_ad_classify.model')\n",
    "        prediction = model.predict(X)\n",
    "\n",
    "        if prediction >= 0.5:\n",
    "            return 1\n",
    "        else :\n",
    "            return 0\n",
    "        \n",
    "    except PIL.UnidentifiedImageError:\n",
    "        #print(url)\n",
    "        pass\n",
    "\n",
    "\n",
    "\n",
    "    \n",
    "@app.route('/getresult', methods=['POST'])\n",
    "def getresult():\n",
    "    \n",
    "    if request.method == 'POST':\n",
    "        input = request.get_json() # 이미지 url = input[src] 입니다.\n",
    "        # 판단하는 부분        \n",
    "        result = yes_or_no(input[\"src\"])\n",
    "        # 판단 결과 반환하는 부분\n",
    "        if(result == 1):\n",
    "            config = {\"isAd\": \"no\"}\n",
    "        else:\n",
    "            config = {\"isAd\" : \"yes\"}\n",
    "        result = json.dumps(config, ensure_ascii=False)\n",
    "        return result\n",
    "\n",
    "if __name__ == '__main__':\n",
    "    model = load_model('C:\\\\Users\\\\kimkm\\\\광고\\\\model\\\\ad_non_ad_classify.model') # 모델 반복 call로 인해 호출 위치 변경\n",
    "    app.run(host= '0.0.0.0', port='4000')\n"
   ]
  },
  {
   "cell_type": "code",
   "execution_count": null,
   "metadata": {},
   "outputs": [],
   "source": []
  },
  {
   "cell_type": "code",
   "execution_count": null,
   "metadata": {},
   "outputs": [],
   "source": []
  }
 ],
 "metadata": {
  "kernelspec": {
   "display_name": "Python 3",
   "language": "python",
   "name": "python3"
  },
  "language_info": {
   "codemirror_mode": {
    "name": "ipython",
    "version": 3
   },
   "file_extension": ".py",
   "mimetype": "text/x-python",
   "name": "python",
   "nbconvert_exporter": "python",
   "pygments_lexer": "ipython3",
   "version": "3.8.5"
  }
 },
 "nbformat": 4,
 "nbformat_minor": 4
}
