{
 "cells": [
  {
   "cell_type": "markdown",
   "metadata": {},
   "source": [
    "기존 united_input_copy 폴더를 대상으로 이미지 증강"
   ]
  },
  {
   "cell_type": "code",
   "execution_count": 1,
   "metadata": {},
   "outputs": [],
   "source": [
    "import tensorflow as tf\n",
    "import matplotlib.pyplot as plt\n",
    "import numpy as np\n",
    "import os\n",
    "import PIL\n",
    "import shutil\n",
    "import cv2"
   ]
  },
  {
   "cell_type": "code",
   "execution_count": 3,
   "metadata": {},
   "outputs": [],
   "source": [
    "ad_file_path='C:\\\\Users\\\\USER\\\\Desktop\\\\united_input_copy\\\\advertisement' # 일차적으로 수집한 광고 이미지\n",
    "os.makedirs(ad_file_path,exist_ok=True)\n",
    "ad_file_dir=os.listdir(ad_file_path)\n",
    "\n",
    "non_file_path='C:\\\\Users\\\\USER\\\\Desktop\\\\united_input_copy\\\\non_advertisement' # 일차적으로 수집한 비광고 이미지\n",
    "os.makedirs(non_file_path,exist_ok=True)\n",
    "non_file_dir=os.listdir(non_file_path)"
   ]
  },
  {
   "cell_type": "code",
   "execution_count": 4,
   "metadata": {},
   "outputs": [],
   "source": [
    "# 폴더의 파일 개수를 구하는 함수\n",
    "def num_of_files(dir):\n",
    "    x=0\n",
    "    for pack in os.walk(dir):\n",
    "        for f in pack[2]:\n",
    "            x+=1\n",
    "            \n",
    "    return x"
   ]
  },
  {
   "cell_type": "code",
   "execution_count": 5,
   "metadata": {},
   "outputs": [],
   "source": [
    "dataset='C:\\\\Users\\\\USER\\\\Desktop\\\\united_input_copy\\\\dataset'\n",
    "os.makedirs(dataset,exist_ok=True)\n",
    "dataset_dir=os.listdir(dataset)"
   ]
  },
  {
   "cell_type": "code",
   "execution_count": 20,
   "metadata": {},
   "outputs": [],
   "source": [
    "train='C:\\\\Users\\\\USER\\\\Desktop\\\\united_input_copy\\\\dataset\\\\train'\n",
    "os.makedirs(train,exist_ok=True)\n",
    "train_dir=os.listdir(train)"
   ]
  },
  {
   "cell_type": "code",
   "execution_count": 21,
   "metadata": {},
   "outputs": [],
   "source": [
    "ad='C:\\\\Users\\\\USER\\\\Desktop\\\\united_input_copy\\\\dataset\\\\train\\\\ad'\n",
    "os.makedirs(ad,exist_ok=True)\n",
    "ad_dir=os.listdir(ad)\n",
    "\n",
    "non_ad='C:\\\\Users\\\\USER\\\\Desktop\\\\united_input_copy\\\\dataset\\\\train\\\\non_ad'\n",
    "os.makedirs(non_ad,exist_ok=True)\n",
    "non_ad_dir=os.listdir(non_ad)\n",
    "\n",
    "test='C:\\\\Users\\\\USER\\\\Desktop\\\\united_input_copy\\\\dataset\\\\test'\n",
    "os.makedirs(test,exist_ok=True)\n",
    "test_dir=os.listdir(test)"
   ]
  },
  {
   "cell_type": "code",
   "execution_count": 13,
   "metadata": {},
   "outputs": [],
   "source": [
    "train_ad='C:\\\\Users\\\\USER\\\\Desktop\\\\united_input_copy\\\\dataset\\\\training_set\\\\ad'\n",
    "os.makedirs(train_ad,exist_ok=True)\n",
    "train_ad_dir=os.listdir(train_ad)\n",
    "\n",
    "train_non='C:\\\\Users\\\\USER\\\\Desktop\\\\united_input_copy\\\\dataset\\\\training_set\\\\non'\n",
    "os.makedirs(train_non,exist_ok=True)\n",
    "train_non_dir=os.listdir(train_non)"
   ]
  },
  {
   "cell_type": "code",
   "execution_count": 14,
   "metadata": {},
   "outputs": [],
   "source": [
    "valid_ad='C:\\\\Users\\\\USER\\\\Desktop\\\\united_input_copy\\\\dataset\\\\validation_set\\\\ad'\n",
    "os.makedirs(valid_ad,exist_ok=True)\n",
    "valid_ad_dir=os.listdir(valid_ad)\n",
    "\n",
    "valid_non='C:\\\\Users\\\\USER\\\\Desktop\\\\united_input_copy\\\\dataset\\\\validation_set\\\\non'\n",
    "os.makedirs(valid_non,exist_ok=True)\n",
    "valid_non_dir=os.listdir(valid_non)"
   ]
  },
  {
   "cell_type": "code",
   "execution_count": 15,
   "metadata": {},
   "outputs": [],
   "source": [
    "test_ad='C:\\\\Users\\\\USER\\\\Desktop\\\\united_input_copy\\\\dataset\\\\testing_set\\\\ad'\n",
    "os.makedirs(test_ad,exist_ok=True)\n",
    "test_ad_dir=os.listdir(test_ad)\n",
    "\n",
    "test_non='C:\\\\Users\\\\USER\\\\Desktop\\\\united_input_copy\\\\dataset\\\\testing_set\\\\non'\n",
    "os.makedirs(test_non,exist_ok=True)\n",
    "test_non_dir=os.listdir(test_non)"
   ]
  },
  {
   "cell_type": "code",
   "execution_count": 11,
   "metadata": {},
   "outputs": [],
   "source": [
    "i=1\n",
    "\n",
    "for file in train_ad_dir:\n",
    "    try:\n",
    "        os.rename(train_ad+'\\\\'+file,ad_file_path+'\\\\'+str(i)+'.jpg')\n",
    "        i+=1\n",
    "    except FileExistsError:\n",
    "        i+=1\n",
    "        continue\n",
    "        \n",
    "if(os.path.exists(ad_file_path) and num_of_files(ad_file_path)>0):\n",
    "    for file in test_ad_dir:\n",
    "        try:\n",
    "            os.rename(test_ad+'\\\\'+file,ad_file_path+'\\\\'+str(i)+'.jpg')\n",
    "            i+=1\n",
    "        except FileExistsError:\n",
    "            i+=1\n",
    "            continue      \n",
    "            \n",
    "if(os.path.exists(ad_file_path) and num_of_files(ad_file_path)>0):\n",
    "    for file in valid_ad_dir:\n",
    "        try:\n",
    "            os.rename(valid_ad+'\\\\'+file,ad_file_path+'\\\\'+str(i)+'.jpg')\n",
    "            i+=1\n",
    "        except FileExistsError:\n",
    "            i+=1\n",
    "            continue "
   ]
  },
  {
   "cell_type": "code",
   "execution_count": 12,
   "metadata": {},
   "outputs": [],
   "source": [
    "j=1\n",
    "\n",
    "for file in train_non_dir:\n",
    "    try:\n",
    "        os.rename(train_non+'\\\\'+file,non_file_path+'\\\\'+str(j)+'.jpg')\n",
    "        j+=1\n",
    "    except FileExistsError:\n",
    "        j+=1\n",
    "        continue\n",
    "        \n",
    "if(os.path.exists(non_file_path) and num_of_files(non_file_path)>0):\n",
    "    for file in test_non_dir:\n",
    "        try:\n",
    "            os.rename(test_non+'\\\\'+file,non_file_path+'\\\\'+str(j)+'.jpg')\n",
    "            j+=1\n",
    "        except FileExistsError:\n",
    "            j+=1\n",
    "            continue      \n",
    "            \n",
    "if(os.path.exists(non_file_path) and num_of_files(non_file_path)>0):\n",
    "    for file in valid_non_dir:\n",
    "        try:\n",
    "            os.rename(valid_non+'\\\\'+file,non_file_path+'\\\\'+str(j)+'.jpg')\n",
    "            j+=1\n",
    "        except FileExistsError:\n",
    "            j+=1\n",
    "            continue "
   ]
  },
  {
   "cell_type": "code",
   "execution_count": 16,
   "metadata": {},
   "outputs": [
    {
     "name": "stdout",
     "output_type": "stream",
     "text": [
      "[208  49 369 121 420 512 203 448 429 254 234 123 305 239 316 185 487 275\n",
      " 455  51 483 561 310  81 292 369 249 476 241 272 469  29 138 465 385 134\n",
      " 326 236 484 389 287 417 123 161 113  64 410 208 182 511 323 122  34   9\n",
      " 435 282  65 154 221 207 304   6 531 296 353  51 508 228 514 308   2 540\n",
      " 162 545 343 331 346 338 511  68 514 208 162  50 546 268 206 247 184 421\n",
      " 471 126  82 286 108 498 516  39 349 409 298 221  81 492 190 238 121 420\n",
      "  11 330 541 145 547]\n",
      "[ 42   1 185   2 335  37 260 502 264 345 182 356  95 523 478 152 300 351\n",
      " 292 227 211  91 305 403 115 271 155 269 203 239 306 260 404 484 355 168\n",
      "   1 251 198 300 194 342 494 299 408 515 121 366 475 502  79 520 112 226\n",
      " 490 544 373 151 193  18 258 198 311 215  22 362 396 528 462 484 492 296\n",
      "  74 378 289 452  63 282 567  57 175 204  86 567 112 227  76 390 130 366\n",
      " 328 227 221   4 441  55 122  74 432 146 429 199 258 306 254  31 295 340\n",
      " 303 333 472 359 566 456 531]\n"
     ]
    }
   ],
   "source": [
    "np.random.seed(21)\n",
    "random_index_ad_arr=np.random.randint(1,num_of_files(ad_file_path)+1,size=num_of_files(ad_file_path)//5)\n",
    "random_index_non_arr=np.random.randint(1,num_of_files(non_file_path)+1,size=num_of_files(non_file_path)//5)\n",
    "\n",
    "print(random_index_ad_arr)\n",
    "print(random_index_non_arr)\n",
    "\n",
    "i=1\n",
    "if(os.path.exists(ad_file_path) and num_of_files(ad_file_path)>0):\n",
    "    for k in random_index_ad_arr:\n",
    "        try:\n",
    "            os.rename(ad_file_path+'\\\\'+str(k)+'.jpg',test+'\\\\'+str(i)+'.jpg')\n",
    "            i+=1\n",
    "        except FileExistsError:\n",
    "            i=num_of_files(test)+1\n",
    "            continue  \n",
    "            \n",
    "        except FileNotFoundError:\n",
    "            i+=1\n",
    "            continue\n",
    "            \n",
    "if(os.path.exists(non_file_path) and num_of_files(non_file_path)>0):\n",
    "    for k in random_index_non_arr:\n",
    "        try:\n",
    "            os.rename(non_file_path+'\\\\'+str(k)+'.jpg',test+'\\\\'+str(i)+'.jpg')\n",
    "            i+=1\n",
    "        except FileExistsError:\n",
    "            i=num_of_files(test)+1\n",
    "            continue \n",
    "            \n",
    "        except FileNotFoundError:\n",
    "            i+=1\n",
    "            continue"
   ]
  },
  {
   "cell_type": "markdown",
   "metadata": {},
   "source": [
    "advertisement 폴더의 파일들의 1/5 , non_advertisement 폴더의 파일들의 1/5 을 test 폴더로 이동시켰다."
   ]
  },
  {
   "cell_type": "code",
   "execution_count": 17,
   "metadata": {},
   "outputs": [],
   "source": [
    "i=1\n",
    "n=1\n",
    "if(os.path.exists(ad_file_path) and num_of_files(ad_file_path)>0):\n",
    "    while num_of_files(ad_file_path)>0:\n",
    "        try:\n",
    "            os.rename(ad_file_path+'\\\\'+str(i)+'.jpg',ad+'\\\\'+str(n)+'.jpg')\n",
    "            i+=1\n",
    "            n+=1\n",
    "\n",
    "        except FileExistsError:\n",
    "            n=num_of_files(ad)+1\n",
    "            continue  \n",
    "            \n",
    "        except FileNotFoundError:\n",
    "            i+=1\n",
    "            continue\n",
    "            \n",
    "j=1\n",
    "m=1\n",
    "if(os.path.exists(non_file_path) and num_of_files(non_file_path)>0):\n",
    "    while num_of_files(non_file_path)>0:\n",
    "        try:\n",
    "            os.rename(non_file_path+'\\\\'+str(j)+'.jpg',non_ad+'\\\\'+str(m)+'.jpg')\n",
    "            j+=1\n",
    "            m+=1\n",
    "            \n",
    "        except FileExistsError:\n",
    "            m=num_of_files(non_ad)+1\n",
    "            continue \n",
    "            \n",
    "        except FileNotFoundError:\n",
    "            j+=1\n",
    "            continue"
   ]
  },
  {
   "cell_type": "markdown",
   "metadata": {},
   "source": [
    "advertisement 폴더와 non_advertisement 폴더에 남아 있는 ad , non 파일을 각각 ad 폴더와 non_ad 폴더로 이동시켰다."
   ]
  },
  {
   "cell_type": "code",
   "execution_count": 18,
   "metadata": {},
   "outputs": [],
   "source": [
    "if(os.path.exists(ad_file_path) and num_of_files(ad_file_path)==0):\n",
    "    if(num_of_files(dataset)>0):\n",
    "        os.rmdir(ad_file_path)\n",
    "        \n",
    "if(os.path.exists(non_file_path) and num_of_files(non_file_path)==0):\n",
    "    if(num_of_files(dataset)>0):\n",
    "        os.rmdir(non_file_path)"
   ]
  },
  {
   "cell_type": "markdown",
   "metadata": {},
   "source": [
    "advertisement 폴더와 non_advertisement 폴더가 비었고, dataset 폴더에 파일이 존재한다면,\n",
    "advertisement 폴더와 non_advertisement 폴더를 삭제"
   ]
  },
  {
   "cell_type": "code",
   "execution_count": 25,
   "metadata": {},
   "outputs": [],
   "source": [
    "from PIL import Image\n",
    "from keras.preprocessing.image import ImageDataGenerator\n",
    "\n",
    "\n",
    "data_aug_gen = ImageDataGenerator(rescale=1. / 255,\n",
    "                                 rotation_range=30,\n",
    "                                 width_shift_range=0.1,\n",
    "                                 height_shift_range=0.1,\n",
    "                                 shear_range=0.5,\n",
    "                                 zoom_range=[0.8, 2.0],\n",
    "                                 horizontal_flip=True,\n",
    "                                 vertical_flip=True,\n",
    "                                 fill_mode='nearest')"
   ]
  },
  {
   "cell_type": "code",
   "execution_count": 27,
   "metadata": {},
   "outputs": [],
   "source": [
    "aug='C:\\\\Users\\\\USER\\\\Desktop\\\\united_input_copy\\\\dataset\\\\train\\\\aug'\n",
    "os.makedirs(aug,exist_ok=True)\n",
    "aug_dir=os.listdir(aug)"
   ]
  },
  {
   "cell_type": "code",
   "execution_count": 28,
   "metadata": {},
   "outputs": [],
   "source": [
    "ad_aug='C:\\\\Users\\\\USER\\\\Desktop\\\\united_input_copy\\\\dataset\\\\train\\\\aug\\\\ad_aug'\n",
    "os.makedirs(ad_aug,exist_ok=True)\n",
    "ad_aug_dir=os.listdir(ad_aug)\n",
    "\n",
    "non_ad_aug='C:\\\\Users\\\\USER\\\\Desktop\\\\united_input_copy\\\\dataset\\\\train\\\\aug\\\\non_ad_aug'\n",
    "os.makedirs(non_ad_aug,exist_ok=True)\n",
    "non_ad_aug_dir=os.listdir(non_ad_aug)"
   ]
  },
  {
   "cell_type": "code",
   "execution_count": null,
   "metadata": {},
   "outputs": [],
   "source": [
    "from keras.preprocessing.image import ImageDataGenerator, array_to_img, img_to_array, load_img\n",
    "from PIL import Image\n",
    "\n",
    "images=[]\n",
    "\n",
    "ad_set = data_aug_gen.flow_from_directory(ad,\n",
    "                                         target_size = (64, 64),\n",
    "                                         batch_size = num_of_files(ad),\n",
    "                                         class_mode = 'binary', save_to_dir=ad_aug)\n",
    "\n",
    "for i in enumerate(range(1)):\n",
    "    img, label = ad_set.next()\n",
    "    n_img = len(label)\n",
    "    \n",
    "    base = cv2.cvtColor(img[0], cv2.COLOR_RGB2BGR)  # keras는 RGB, openCV는 BGR이라 변경함\n",
    "    for idx in range(n_img - 1):\n",
    "        img2 = cv2.cvtColor(img[idx + 1], cv2.COLOR_RGB2BGR)\n",
    "        base = np.hstack((base, img2))\n",
    "    images.append(base)"
   ]
  },
  {
   "cell_type": "markdown",
   "metadata": {},
   "source": [
    "ad 폴더의 파일들을 증강하여 ad_aug 폴더에 저장"
   ]
  },
  {
   "cell_type": "code",
   "execution_count": 37,
   "metadata": {},
   "outputs": [
    {
     "name": "stdout",
     "output_type": "stream",
     "text": [
      "Found 476 images belonging to 1 classes.\n"
     ]
    }
   ],
   "source": [
    "imagess=[]\n",
    "\n",
    "non_ad_set = data_aug_gen.flow_from_directory(non_ad,\n",
    "                                         target_size = (64, 64),\n",
    "                                         batch_size = num_of_files(non_ad),\n",
    "                                         class_mode = 'binary', save_to_dir=non_ad_aug)\n",
    "\n",
    "for i in enumerate(range(1)):\n",
    "    img, label = non_ad_set.next()\n",
    "    n_img = len(label)\n",
    "    \n",
    "    base = cv2.cvtColor(img[0], cv2.COLOR_RGB2BGR)  # keras는 RGB, openCV는 BGR이라 변경함\n",
    "    for idx in range(n_img - 1):\n",
    "        img2 = cv2.cvtColor(img[idx + 1], cv2.COLOR_RGB2BGR)\n",
    "        base = np.hstack((base, img2))\n",
    "    imagess.append(base)"
   ]
  },
  {
   "cell_type": "markdown",
   "metadata": {},
   "source": [
    "non_ad 폴더의 파일들을 증강하여 non_ad_aug 폴더에 저장"
   ]
  }
 ],
 "metadata": {
  "kernelspec": {
   "display_name": "Python 3",
   "language": "python",
   "name": "python3"
  },
  "language_info": {
   "codemirror_mode": {
    "name": "ipython",
    "version": 3
   },
   "file_extension": ".py",
   "mimetype": "text/x-python",
   "name": "python",
   "nbconvert_exporter": "python",
   "pygments_lexer": "ipython3",
   "version": "3.8.5"
  }
 },
 "nbformat": 4,
 "nbformat_minor": 4
}
