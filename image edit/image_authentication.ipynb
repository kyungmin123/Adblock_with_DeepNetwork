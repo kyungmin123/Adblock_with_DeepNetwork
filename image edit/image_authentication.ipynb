{
 "cells": [
  {
   "cell_type": "code",
   "execution_count": 3,
   "metadata": {},
   "outputs": [],
   "source": [
    "\"\"\"이미지 증폭 코드\"\"\"\n",
    "\n",
    "from PIL import Image\n",
    "from PIL import UnidentifiedImageError\n",
    "from tensorflow.keras.preprocessing.image import ImageDataGenerator, array_to_img, img_to_array\n",
    "import glob\n",
    "\n",
    "img_dir = './multi_cnn/train4'\n",
    "categories = [\"a-body\", \"a-closeup\", \"a-dna\", \"a-doctor\", \"a-head\", \n",
    "              \"a-tooth\", \"a-photo_text_human\", \"a-human\",\n",
    "              \"b-cartoon\",\n",
    "              \"c-photo_text\", \n",
    "              \"d-bill\",  \"d-coin\", \"d-graph\", \"d-cow_vs_bear\",\n",
    "              \"d-lottery_number\", \"d-lottery_paper\", \"d-text_architecture\",\n",
    "              \"d-text_architecture\",\n",
    "              \"e-etc\", \"e-human\", \"e-photo\", \"e-human\",\n",
    "              \"photo_text\", \"photo_text_human\",\n",
    "              \"non_ad\"]\n",
    "\n",
    "datagen = ImageDataGenerator(\n",
    "    rotation_range=40,\n",
    "    shear_range=0.2,\n",
    "    zoom_range=0.3,\n",
    "    horizontal_flip=True,\n",
    "    vertical_flip=True,\n",
    "    fill_mode='nearest')\n",
    "\n",
    "\n",
    "for idx, ad in enumerate(categories):\n",
    "    img_dir_detail = img_dir + \"/\" + ad \n",
    "    files = glob.glob(img_dir_detail+\"/*.jpg\")\n",
    "    \n",
    "    for f in files:\n",
    "        try:\n",
    "            img = Image.open(f)\n",
    "            img = img.convert(\"RGB\")\n",
    "            x = img_to_array(img)\n",
    "            x = x.reshape((1,) + x.shape)\n",
    "            \n",
    "            i = 0\n",
    "\n",
    "            for batch in datagen.flow(x, batch_size=1, save_to_dir= './multi_cnn/train5' + '/' + ad, save_prefix= str(i),\n",
    "                                                 save_format='jpg'):\n",
    "                i += 1\n",
    "                if i > 10:\n",
    "                    break\n",
    "                    \n",
    "        except FileExistsError:\n",
    "            pass\n",
    "        except UnidentifiedImageError:\n",
    "            pass\n",
    "                \n"
   ]
  },
  {
   "cell_type": "code",
   "execution_count": null,
   "metadata": {},
   "outputs": [],
   "source": []
  }
 ],
 "metadata": {
  "kernelspec": {
   "display_name": "Python 3",
   "language": "python",
   "name": "python3"
  },
  "language_info": {
   "codemirror_mode": {
    "name": "ipython",
    "version": 3
   },
   "file_extension": ".py",
   "mimetype": "text/x-python",
   "name": "python",
   "nbconvert_exporter": "python",
   "pygments_lexer": "ipython3",
   "version": "3.8.5"
  }
 },
 "nbformat": 4,
 "nbformat_minor": 4
}
