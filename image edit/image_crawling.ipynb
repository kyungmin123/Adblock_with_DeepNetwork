{
 "cells": [
  {
   "cell_type": "code",
   "execution_count": 10,
   "id": "4c518d6b",
   "metadata": {
    "scrolled": true
   },
   "outputs": [
    {
     "name": "stdout",
     "output_type": "stream",
     "text": [
      "검색하고 싶은 키워드 : 주식 그래프\n",
      "원하는 이미지 수집 개수 : 500\n",
      "로드된 이미지 개수 :  80\n",
      "인덱스 범위를 벗어났습니다.\n"
     ]
    }
   ],
   "source": [
    "from selenium import webdriver\n",
    "from bs4 import BeautifulSoup as soups\n",
    "\n",
    "    \n",
    "class WebDriverException(Exception):\n",
    "    def __init__(self):\n",
    "        super().__init__('보안 문자 스킵')\n",
    "\n",
    "def search_selenium(search_name, search_path, search_limit) :\n",
    "    search_url = \"https://www.google.com/search?q=\" + str(search_name) + \"&hl=ko&tbm=isch\"\n",
    "    \n",
    "    browser = webdriver.Chrome('C:/Users/kimkm/chromedriver.exe')\n",
    "    browser.get(search_url)\n",
    "    \n",
    "    image_count = len(browser.find_elements_by_tag_name(\"img\"))\n",
    "    \n",
    "    print(\"로드된 이미지 개수 : \", image_count)\n",
    "\n",
    "    browser.implicitly_wait(2)\n",
    "\n",
    "#     try:\n",
    "#         for i in range( search_limit ) :\n",
    "#             try: \n",
    "#                 image = browser.find_elements_by_tag_name(\"img\")[i]\n",
    "#                 image.screenshot(\"C:/Users/kimkm/crawled_image/e-earphone/earphone\" + str(i) + \".png\")\n",
    "#             except WebDriverException:\n",
    "#                 pass\n",
    "\n",
    "#         browser.close()\n",
    "        \n",
    "#     except IndexError:\n",
    "#         print('인덱스 범위를 벗어났습니다.')\n",
    "#         pass\n",
    "\n",
    "    for i in range( search_limit ) :\n",
    "        try: \n",
    "            #image = browser.find_elements_by_tag_name(\"img\")[i] # 이미지 소스 기반 캡쳐\n",
    "            image = browser.find_elements_by_css_selector(\".rg_i.Q4LuWd\")[i] # 클래스 기반 캡쳐\n",
    "            image.screenshot(\"C:/Users/kimkm/crawled_image/d-graph2/graph\" + str(i) + \".png\")\n",
    "        except IndexError:\n",
    "            print('인덱스 범위를 벗어났습니다.')\n",
    "            break\n",
    "#         except Exception:\n",
    "#             raise WebDriverException\n",
    "#             continue\n",
    "        \n",
    "\n",
    "    browser.close()\n",
    "\n",
    "#     except WebDriverException:\n",
    "#         pass\n",
    "    \n",
    "#     except Exception as e:\n",
    "#         raise WebDriverException(e)\n",
    "\n",
    "#     except Exception as e:\n",
    "#         print('보안문자 패스')\n",
    "#         pass\n",
    "\n",
    "if __name__ == \"__main__\" :\n",
    "\n",
    "    search_name = input(\"검색하고 싶은 키워드 : \")\n",
    "    search_limit = int(input(\"원하는 이미지 수집 개수 : \"))\n",
    "    search_path = \"Your Path\"\n",
    "    # search_maybe(search_name, search_limit, search_path)\n",
    "    search_selenium(search_name, search_path, search_limit)\n"
   ]
  },
  {
   "cell_type": "code",
   "execution_count": null,
   "id": "b89420f6",
   "metadata": {},
   "outputs": [],
   "source": []
  }
 ],
 "metadata": {
  "kernelspec": {
   "display_name": "image_crawling",
   "language": "python",
   "name": "image_crawling"
  },
  "language_info": {
   "codemirror_mode": {
    "name": "ipython",
    "version": 3
   },
   "file_extension": ".py",
   "mimetype": "text/x-python",
   "name": "python",
   "nbconvert_exporter": "python",
   "pygments_lexer": "ipython3",
   "version": "3.8.11"
  }
 },
 "nbformat": 4,
 "nbformat_minor": 5
}
