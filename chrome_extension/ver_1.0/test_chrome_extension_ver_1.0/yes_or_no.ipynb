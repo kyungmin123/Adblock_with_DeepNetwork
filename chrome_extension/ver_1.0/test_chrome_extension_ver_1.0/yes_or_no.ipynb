{
 "cells": [
  {
   "cell_type": "code",
   "execution_count": null,
   "metadata": {},
   "outputs": [],
   "source": [
    "from PIL import Image\n",
    "import os, glob, numpy as np\n",
    "from tensorflow.keras.models import load_model\n",
    "import tensorflow as tf\n",
    "\n",
    "\n",
    "def yes_or_no(url):\n",
    "\n",
    "  seed = 5\n",
    "  tf.random.set_seed(seed)\n",
    "  np.random.seed(seed)\n",
    "\n",
    "  image_w = 64\n",
    "  image_h = 64\n",
    "\n",
    "  pixels = image_h * image_w * 3\n",
    "\n",
    "  X = []\n",
    "  filenames = []\n",
    "\n",
    "  img = request.urlopen(a).read\n",
    "\n",
    "  img = img.convert(\"RGB\")\n",
    "  img = img.resize((image_w, image_h))\n",
    "  data = np.asarray(img)\n",
    "\n",
    "  filenames.append(f)\n",
    "  X.append(data)\n",
    "      \n",
    "  X = np.array(X)\n",
    "  X = X.astype(float) / 255\n",
    "\n",
    "  model = load_model('/content/gdrive/MyDrive/2021_캡스톤_데이터_파일/model/ad_non_ad_classify.model')\n",
    "\n",
    "\n",
    "  prediction = model.predict(X)\n",
    "\n",
    "  if prediction >= 0.5:\n",
    "    return 1\n",
    "  else : \n",
    "    return 0"
   ]
  }
 ],
 "metadata": {
  "kernelspec": {
   "display_name": "Python 3",
   "language": "python",
   "name": "python3"
  },
  "language_info": {
   "codemirror_mode": {
    "name": "ipython",
    "version": 3
   },
   "file_extension": ".py",
   "mimetype": "text/x-python",
   "name": "python",
   "nbconvert_exporter": "python",
   "pygments_lexer": "ipython3",
   "version": "3.8.5"
  }
 },
 "nbformat": 4,
 "nbformat_minor": 4
}
