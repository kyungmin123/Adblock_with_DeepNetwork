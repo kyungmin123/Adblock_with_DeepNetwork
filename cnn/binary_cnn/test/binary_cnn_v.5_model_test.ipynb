{
 "cells": [
  {
   "cell_type": "code",
   "execution_count": 392,
   "metadata": {},
   "outputs": [],
   "source": [
    "def data_generator(file, image_width, image_height):\n",
    "    img_bgr = cv2.imread(file , cv2.IMREAD_COLOR)\n",
    "    img_rgb = cv2.cvtColor(img_bgr, cv2.COLOR_BGR2RGB)\n",
    "    img = cv2.resize(img_rgb, (image_width, image_height))\n",
    "\n",
    "    return img"
   ]
  },
  {
   "cell_type": "code",
   "execution_count": 393,
   "metadata": {},
   "outputs": [],
   "source": [
    "import random\n",
    "import cv2\n",
    "\n",
    "\"\"\"이미지 증강 함수\"\"\"\n",
    "\n",
    "def image_augmentation(files, index, limit, image_width, image_height):\n",
    "    random_num = []\n",
    "    X_array =[]\n",
    "    y_array = []\n",
    "    images = []\n",
    "    data = []\n",
    "    \n",
    "    \n",
    "    \n",
    "    while len(X_array) <= limit:\n",
    "        try:\n",
    "            #random_files.append(random.choice(files))\n",
    "            #file = random_files[-1]\n",
    "            #print('선택된 파일')\n",
    "            #print(file)\n",
    "            while True:\n",
    "                i = random.randrange(len(files))\n",
    "                if i not in random_num:\n",
    "                    break\n",
    "            random_num.append(i)\n",
    "\n",
    "            file = files[i]\n",
    "            \n",
    "            \n",
    "            img = data_generator(file, image_width, image_height)\n",
    "\n",
    "            images.append(img)\n",
    "            images.append(cv2.rotate(img, cv2.ROTATE_90_CLOCKWISE))  # 시계 방향으로 90도 회전\n",
    "            images.append(cv2.rotate(img, cv2.ROTATE_180))  # 180도 회전\n",
    "            images.append(cv2.rotate(img, cv2.ROTATE_90_COUNTERCLOCKWISE)) # 반시계 방향 90도 회전\n",
    "            \n",
    "            for image in images:\n",
    "                data = np.asarray(image)\n",
    "                X_array.append(data)\n",
    "                y_array.append(index)\n",
    "                if len(X_array) >= limit:\n",
    "                    break\n",
    "        \n",
    "        except Exception as e:\n",
    "            print(e)\n",
    "            print(str(i)+\" 번째에서 에러 \")\n",
    "            #             remove(f)\n",
    "        pass \n",
    "    \n",
    "\n",
    "    \n",
    "    return X_array, y_array"
   ]
  },
  {
   "cell_type": "code",
   "execution_count": 394,
   "metadata": {},
   "outputs": [],
   "source": [
    "import random\n",
    "\n",
    "\"\"\"이미지 뽑기 함수\"\"\"\n",
    "\n",
    "def image_selector(files, index, limit, image_width, image_height):\n",
    "    random_files = []\n",
    "    X_array = []\n",
    "    y_array = []\n",
    "    data = []\n",
    "    \n",
    "    for i in range(limit):\n",
    "        random_files.append(random.choice(files))\n",
    "#     print(random_files)\n",
    "    \n",
    "    for i, f in enumerate(random_files):\n",
    "        try:\n",
    "#             img_bgr = cv2.imread(f, cv2.IMREAD_COLOR)\n",
    "#             image_rgb = cv2.cvtColor(img_bgr, cv2.COLOR_BGR2RGB)\n",
    "#             img = cv2.resize(image_rgb, (image_width, image_height))\n",
    "            \n",
    "            img = data_generator(f, image_width, image_height)\n",
    "\n",
    "            data = np.asarray(img)\n",
    "            #Y는 0 아니면 1이니까 index값으로 넣는다.\n",
    "\n",
    "            X_array.append(data)\n",
    "            y_array.append(index)\n",
    "\n",
    "        except Exception as e:\n",
    "            print(e)\n",
    "            print(str(i)+\" 번째에서 에러 \")\n",
    "    #             remove(f)\n",
    "            pass \n",
    "            \n",
    "    return X_array, y_array"
   ]
  },
  {
   "cell_type": "code",
   "execution_count": 395,
   "metadata": {},
   "outputs": [],
   "source": [
    "import os, glob\n",
    "\n",
    "\"\"\"하위 폴더 및 파일 탐색\"\"\"\n",
    "    \n",
    "def is_dir_file(dir_path, dir_list, img_limit, img_limit_list):\n",
    "    \n",
    "    folders = os.listdir(dir_path)\n",
    "    \n",
    "    for folder in folders:\n",
    "        path_detail = os.path.join(dir_path, folder)\n",
    "        \n",
    "        if os.path.isdir(path_detail):\n",
    "            new_img_limit = int(img_limit / len(folders))   \n",
    "            is_dir_file(path_detail, dir_list, new_img_limit, img_limit_list)\n",
    "        else:    \n",
    "            print(dir_path + ' img limit : ' + str(img_limit))\n",
    "            dir_list.append(dir_path)\n",
    "            img_limit_list.append(img_limit)\n",
    "            return"
   ]
  },
  {
   "cell_type": "code",
   "execution_count": 396,
   "metadata": {},
   "outputs": [
    {
     "name": "stdout",
     "output_type": "stream",
     "text": [
      "['ad', 'non_ad']\n",
      "./binary_cnn/train\\ad\\bill img limit : 145\n",
      "./binary_cnn/train\\ad\\coin img limit : 145\n",
      "./binary_cnn/train\\ad\\general_product img limit : 145\n",
      "./binary_cnn/train\\ad\\graph img limit : 145\n",
      "./binary_cnn/train\\ad\\human img limit : 145\n",
      "./binary_cnn/train\\ad\\lotto_N img limit : 145\n",
      "./binary_cnn/train\\ad\\lotto_P img limit : 145\n",
      "./binary_cnn/train\\ad\\microbe img limit : 145\n",
      "./binary_cnn/train\\ad\\part_of_human img limit : 145\n",
      "./binary_cnn/train\\ad\\photoshop img limit : 145\n",
      "./binary_cnn/train\\ad\\picture img limit : 145\n",
      "./binary_cnn/train\\non_ad img limit : 1600\n",
      "[[0, './binary_cnn/train\\\\ad\\\\bill'], [0, './binary_cnn/train\\\\ad\\\\coin'], [0, './binary_cnn/train\\\\ad\\\\general_product'], [0, './binary_cnn/train\\\\ad\\\\graph'], [0, './binary_cnn/train\\\\ad\\\\human'], [0, './binary_cnn/train\\\\ad\\\\lotto_N'], [0, './binary_cnn/train\\\\ad\\\\lotto_P'], [0, './binary_cnn/train\\\\ad\\\\microbe'], [0, './binary_cnn/train\\\\ad\\\\part_of_human'], [0, './binary_cnn/train\\\\ad\\\\photoshop'], [0, './binary_cnn/train\\\\ad\\\\picture'], [1, './binary_cnn/train\\\\non_ad']]\n",
      "0\n",
      "0\n",
      "0\n",
      "0\n",
      "0\n",
      "0\n",
      "0\n",
      "0\n",
      "0\n",
      "0\n",
      "0\n",
      "1\n",
      "./binary_cnn/train\\ad\\bill\n",
      "./binary_cnn/train\\ad\\bill파일 길이 : 146\n",
      "./binary_cnn/train\\ad\\coin\n",
      "./binary_cnn/train\\ad\\coin파일 길이 : 146\n",
      "./binary_cnn/train\\ad\\general_product\n",
      "./binary_cnn/train\\ad\\general_product파일 길이 : 145\n",
      "./binary_cnn/train\\ad\\graph\n",
      "./binary_cnn/train\\ad\\graph파일 길이 : 146\n",
      "./binary_cnn/train\\ad\\human\n",
      "C:\\bld\\opencv_1497798192218\\work\\opencv-3.2.0\\modules\\imgproc\\src\\color.cpp:9716: error: (-215) scn == 3 || scn == 4 in function cv::cvtColor\n",
      "\n",
      "38 번째에서 에러 \n",
      "./binary_cnn/train\\ad\\human파일 길이 : 144\n",
      "./binary_cnn/train\\ad\\lotto_N\n",
      "./binary_cnn/train\\ad\\lotto_N파일 길이 : 146\n",
      "./binary_cnn/train\\ad\\lotto_P\n",
      "./binary_cnn/train\\ad\\lotto_P파일 길이 : 146\n",
      "./binary_cnn/train\\ad\\microbe\n",
      "./binary_cnn/train\\ad\\microbe파일 길이 : 146\n",
      "./binary_cnn/train\\ad\\part_of_human\n",
      "C:\\bld\\opencv_1497798192218\\work\\opencv-3.2.0\\modules\\imgproc\\src\\color.cpp:9716: error: (-215) scn == 3 || scn == 4 in function cv::cvtColor\n",
      "\n",
      "14 번째에서 에러 \n",
      "./binary_cnn/train\\ad\\part_of_human파일 길이 : 144\n",
      "./binary_cnn/train\\ad\\photoshop\n",
      "./binary_cnn/train\\ad\\photoshop파일 길이 : 145\n",
      "./binary_cnn/train\\ad\\picture\n",
      "C:\\bld\\opencv_1497798192218\\work\\opencv-3.2.0\\modules\\imgproc\\src\\color.cpp:9716: error: (-215) scn == 3 || scn == 4 in function cv::cvtColor\n",
      "\n",
      "92 번째에서 에러 \n",
      "./binary_cnn/train\\ad\\picture파일 길이 : 144\n",
      "./binary_cnn/train\\non_ad\n",
      "./binary_cnn/train\\non_ad파일 길이 : 1601\n",
      "총 파일 길이 : 3199\n",
      "3199 3199\n"
     ]
    },
    {
     "data": {
      "text/plain": [
       "'이미지 크기 인자를 조절하면서 적용'"
      ]
     },
     "execution_count": 396,
     "metadata": {},
     "output_type": "execute_result"
    }
   ],
   "source": [
    "#본 코드 시작\n",
    "\n",
    "import cv2\n",
    "import os, glob\n",
    "from os import remove\n",
    "import numpy as np\n",
    "\n",
    "img_dir = './binary_cnn/train'\n",
    "# categories = ['ad', 'non_ad']\n",
    "categories = os.listdir(img_dir)\n",
    "\n",
    "sum = 0\n",
    "ad_index = 0\n",
    "non_ad_index = 1\n",
    "image_width, image_height = 300, 300\n",
    "\n",
    "# file_directory = []\n",
    "file_list_index = []\n",
    "img_limit_list = []\n",
    "X = []\n",
    "y = []\n",
    "\n",
    "\n",
    "np_classes = len(categories)    \n",
    "print(categories)\n",
    "\n",
    "for i, category in enumerate(categories):\n",
    "    file_directory = []\n",
    "    img_dir_detail = os.path.join(img_dir, category)\n",
    "    \n",
    "    if i == ad_index:\n",
    "        img_limit = 1600\n",
    "    elif i == non_ad_index:\n",
    "        img_limit = 1600\n",
    "        \n",
    "    is_dir_file(img_dir_detail, file_directory, img_limit, img_limit_list)\n",
    "    \n",
    "    for directory in file_directory:\n",
    "        file_list_index.append([i, directory])\n",
    "#     file_list_index.append([i, file_directory])\n",
    "    \n",
    "# print(file_directory)\n",
    "print(file_list_index)\n",
    "\n",
    "for lst in file_list_index:\n",
    "#     print(lst)\n",
    "    print(lst[0])\n",
    "\n",
    "count = 0\n",
    "\n",
    "for index, directory in file_list_index:\n",
    "    print(directory)\n",
    "    files = glob.glob(directory + \"/*.jpg\")\n",
    "    len_file = len(files)\n",
    "\n",
    "    img_limit = img_limit_list[count]\n",
    "\n",
    "    if len_file <img_limit:\n",
    "        X_temp, y_temp = image_augmentation(files, index, img_limit, image_width, image_height)\n",
    "    else:\n",
    "        X_temp, y_temp = image_selector(files, index, img_limit, image_width, image_height)\n",
    "\n",
    "    X = X + X_temp\n",
    "    y = y + y_temp\n",
    "\n",
    "    len_file = len(X_temp)\n",
    "    print(directory + '파일 길이 : ' + str(len_file))\n",
    "    sum += len_file\n",
    "    count += 1\n",
    "        \n",
    "    \n",
    "print('총 파일 길이 : ' + str(sum))\n",
    "\n",
    "X = np.array(X)\n",
    "Y = np.array(y)\n",
    "\n",
    "print(len(X), len(Y))\n",
    "\n",
    "\"\"\"이미지 크기 인자를 조절하면서 적용\"\"\""
   ]
  },
  {
   "cell_type": "code",
   "execution_count": 397,
   "metadata": {},
   "outputs": [
    {
     "name": "stdout",
     "output_type": "stream",
     "text": [
      "(2399, 300, 300, 3)\n",
      "2399\n",
      "(2399,)\n",
      "(800,)\n",
      "[1212 1187]\n",
      "[386 414]\n"
     ]
    }
   ],
   "source": [
    "from sklearn.model_selection import train_test_split\n",
    "\n",
    "X_train, X_test, y_train, y_test = train_test_split(X, Y)\n",
    "\n",
    "print(X_train.shape)\n",
    "print(X_train.shape[0])\n",
    "print(y_train.shape)\n",
    "print(y_test.shape)\n",
    "print(np.bincount(y_train))\n",
    "print(np.bincount(y_test))"
   ]
  },
  {
   "cell_type": "code",
   "execution_count": 398,
   "metadata": {},
   "outputs": [],
   "source": [
    "import tensorflow as tf\n",
    "from tensorflow.keras.models import Sequential\n",
    "from tensorflow.keras.layers import Conv2D, MaxPooling2D, Dense, Flatten, Dropout, BatchNormalization"
   ]
  },
  {
   "cell_type": "code",
   "execution_count": 399,
   "metadata": {},
   "outputs": [],
   "source": [
    "X_train = X_train.astype('float32') / 255\n",
    "X_test = X_test.astype('float32') / 255"
   ]
  },
  {
   "cell_type": "code",
   "execution_count": 400,
   "metadata": {},
   "outputs": [],
   "source": [
    "# import os\n",
    "import keras.backend.tensorflow_backend as K\n",
    "\n",
    "with K.tf_ops.device('/device:GPU:0'):\n",
    "    model = Sequential()\n",
    "\n",
    "    model.add(Conv2D(32, (3,3), padding=\"same\", input_shape=X_train.shape[1:], activation=\"relu\"))\n",
    "    model.add(MaxPooling2D(pool_size=(2,2)))\n",
    "    model.add(BatchNormalization())\n",
    "\n",
    "    model.add(Conv2D(32, (3,3), padding=\"same\", activation=\"relu\"))\n",
    "    model.add(Conv2D(32, (3,3), padding=\"same\", activation=\"relu\"))\n",
    "    model.add(MaxPooling2D(pool_size=(2,2)))\n",
    "    model.add(BatchNormalization())\n",
    "\n",
    "    model.add(Conv2D(64, (3,3), padding=\"same\", activation=\"relu\"))\n",
    "    model.add(Conv2D(64, (3,3), padding=\"same\", activation=\"relu\"))\n",
    "    model.add(MaxPooling2D(pool_size=(2,2)))\n",
    "    #model.add(Dropout(0.15))\n",
    "    model.add(BatchNormalization())\n",
    "\n",
    "    model.add(Conv2D(64, (3,3), padding=\"same\", activation=\"relu\"))\n",
    "    #model.add(Conv2D(64, (3,3), padding=\"same\", activation=\"relu\"))\n",
    "    model.add(MaxPooling2D(pool_size=(2,2)))\n",
    "    model.add(BatchNormalization())\n",
    "\n",
    "    #model.add(Conv2D(128, (3,3), padding=\"same\", activation=\"relu\"))\n",
    "    #model.add(Conv2D(128, (3,3), padding=\"same\", activation=\"relu\"))\n",
    "    # model.add(Dropout(0.15))\n",
    "    model.add(BatchNormalization())\n",
    "\n",
    "    model.add(Flatten())\n",
    "    model.add(Dense(256, activation=\"relu\"))\n",
    "    # model.add(Dropout(0.25))\n",
    "    model.add(Dense(1, activation=\"sigmoid\"))\n",
    "\n",
    "    model.compile(loss='binary_crossentropy', optimizer='adam', metrics=['accuracy'])"
   ]
  },
  {
   "cell_type": "code",
   "execution_count": 401,
   "metadata": {
    "scrolled": true
   },
   "outputs": [
    {
     "name": "stdout",
     "output_type": "stream",
     "text": [
      "_________________________________________________________________\n",
      "Layer (type)                 Output Shape              Param #   \n",
      "=================================================================\n",
      "conv2d_138 (Conv2D)          (None, 300, 300, 32)      896       \n",
      "_________________________________________________________________\n",
      "max_pooling2d_92 (MaxPooling (None, 150, 150, 32)      0         \n",
      "_________________________________________________________________\n",
      "batch_normalization_v1_115 ( (None, 150, 150, 32)      128       \n",
      "_________________________________________________________________\n",
      "conv2d_139 (Conv2D)          (None, 150, 150, 32)      9248      \n",
      "_________________________________________________________________\n",
      "conv2d_140 (Conv2D)          (None, 150, 150, 32)      9248      \n",
      "_________________________________________________________________\n",
      "max_pooling2d_93 (MaxPooling (None, 75, 75, 32)        0         \n",
      "_________________________________________________________________\n",
      "batch_normalization_v1_116 ( (None, 75, 75, 32)        128       \n",
      "_________________________________________________________________\n",
      "conv2d_141 (Conv2D)          (None, 75, 75, 64)        18496     \n",
      "_________________________________________________________________\n",
      "conv2d_142 (Conv2D)          (None, 75, 75, 64)        36928     \n",
      "_________________________________________________________________\n",
      "max_pooling2d_94 (MaxPooling (None, 37, 37, 64)        0         \n",
      "_________________________________________________________________\n",
      "batch_normalization_v1_117 ( (None, 37, 37, 64)        256       \n",
      "_________________________________________________________________\n",
      "conv2d_143 (Conv2D)          (None, 37, 37, 64)        36928     \n",
      "_________________________________________________________________\n",
      "max_pooling2d_95 (MaxPooling (None, 18, 18, 64)        0         \n",
      "_________________________________________________________________\n",
      "batch_normalization_v1_118 ( (None, 18, 18, 64)        256       \n",
      "_________________________________________________________________\n",
      "batch_normalization_v1_119 ( (None, 18, 18, 64)        256       \n",
      "_________________________________________________________________\n",
      "flatten_23 (Flatten)         (None, 20736)             0         \n",
      "_________________________________________________________________\n",
      "dense_46 (Dense)             (None, 256)               5308672   \n",
      "_________________________________________________________________\n",
      "dense_47 (Dense)             (None, 1)                 257       \n",
      "=================================================================\n",
      "Total params: 5,421,697\n",
      "Trainable params: 5,421,185\n",
      "Non-trainable params: 512\n",
      "_________________________________________________________________\n"
     ]
    }
   ],
   "source": [
    "model.summary()"
   ]
  },
  {
   "cell_type": "code",
   "execution_count": 402,
   "metadata": {
    "scrolled": false
   },
   "outputs": [
    {
     "name": "stdout",
     "output_type": "stream",
     "text": [
      "Train on 2039 samples, validate on 360 samples\n",
      "Epoch 1/20\n",
      "2039/2039 [==============================] - 19s 9ms/sample - loss: 1.0443 - acc: 0.8342 - val_loss: 2.1002 - val_acc: 0.4861\n",
      "Epoch 2/20\n",
      "2039/2039 [==============================] - 10s 5ms/sample - loss: 0.1384 - acc: 0.9730 - val_loss: 5.4942 - val_acc: 0.4861\n",
      "Epoch 3/20\n",
      "2039/2039 [==============================] - 10s 5ms/sample - loss: 0.0597 - acc: 0.9902 - val_loss: 5.2304 - val_acc: 0.4861\n",
      "Epoch 4/20\n",
      "2039/2039 [==============================] - 10s 5ms/sample - loss: 0.0442 - acc: 0.9931 - val_loss: 7.4706 - val_acc: 0.4861\n",
      "Epoch 5/20\n",
      "2039/2039 [==============================] - 10s 5ms/sample - loss: 0.0738 - acc: 0.9828 - val_loss: 7.5628 - val_acc: 0.4861\n",
      "Epoch 6/20\n",
      "2039/2039 [==============================] - 10s 5ms/sample - loss: 0.0785 - acc: 0.9848 - val_loss: 8.2779 - val_acc: 0.4861\n",
      "Epoch 7/20\n",
      "2039/2039 [==============================] - 10s 5ms/sample - loss: 0.0186 - acc: 0.9956 - val_loss: 7.9065 - val_acc: 0.4861\n",
      "Epoch 8/20\n",
      "2039/2039 [==============================] - 10s 5ms/sample - loss: 0.0086 - acc: 0.9990 - val_loss: 6.6762 - val_acc: 0.4861\n",
      "Epoch 9/20\n",
      "2039/2039 [==============================] - 10s 5ms/sample - loss: 0.0080 - acc: 0.9995 - val_loss: 5.3824 - val_acc: 0.4861\n",
      "Epoch 10/20\n",
      "2039/2039 [==============================] - 10s 5ms/sample - loss: 0.0079 - acc: 0.9995 - val_loss: 4.5261 - val_acc: 0.5083\n",
      "Epoch 11/20\n",
      "2039/2039 [==============================] - 10s 5ms/sample - loss: 0.0081 - acc: 0.9995 - val_loss: 4.5052 - val_acc: 0.5194\n",
      "Epoch 12/20\n",
      "2039/2039 [==============================] - 10s 5ms/sample - loss: 0.0080 - acc: 0.9995 - val_loss: 2.7837 - val_acc: 0.6028\n",
      "Epoch 13/20\n",
      "2039/2039 [==============================] - 10s 5ms/sample - loss: 0.0079 - acc: 0.9995 - val_loss: 1.7601 - val_acc: 0.6722\n",
      "Epoch 14/20\n",
      "2039/2039 [==============================] - 10s 5ms/sample - loss: 0.0078 - acc: 0.9995 - val_loss: 1.0637 - val_acc: 0.7778\n",
      "Epoch 15/20\n",
      "2039/2039 [==============================] - 10s 5ms/sample - loss: 0.0078 - acc: 0.9995 - val_loss: 0.5710 - val_acc: 0.8611\n",
      "Epoch 16/20\n",
      "2039/2039 [==============================] - 10s 5ms/sample - loss: 0.0078 - acc: 0.9995 - val_loss: 0.2782 - val_acc: 0.9250\n",
      "Epoch 17/20\n",
      "2039/2039 [==============================] - 10s 5ms/sample - loss: 0.0078 - acc: 0.9995 - val_loss: 0.1530 - val_acc: 0.9639\n",
      "Epoch 18/20\n",
      "2039/2039 [==============================] - 10s 5ms/sample - loss: 0.0078 - acc: 0.9995 - val_loss: 0.1183 - val_acc: 0.9778\n",
      "Epoch 19/20\n",
      "2039/2039 [==============================] - 10s 5ms/sample - loss: 0.0078 - acc: 0.9995 - val_loss: 0.1344 - val_acc: 0.9778\n",
      "Epoch 20/20\n",
      "2039/2039 [==============================] - 10s 5ms/sample - loss: 0.0078 - acc: 0.9995 - val_loss: 0.1595 - val_acc: 0.9806\n"
     ]
    }
   ],
   "source": [
    "history = model.fit(X_train, y_train, batch_size=64, epochs=20, validation_split=0.15, verbose=1)"
   ]
  },
  {
   "cell_type": "code",
   "execution_count": 403,
   "metadata": {},
   "outputs": [
    {
     "data": {
      "text/plain": [
       "'\\ny_pred = model.predict(X_test)\\ny_pred = np.round(y_pred)\\nprint(y_pred.shape)\\nprint(y_pred)\\n'"
      ]
     },
     "execution_count": 403,
     "metadata": {},
     "output_type": "execute_result"
    }
   ],
   "source": [
    "\"\"\"\n",
    "y_pred = model.predict(X_test)\n",
    "y_pred = np.round(y_pred)\n",
    "print(y_pred.shape)\n",
    "print(y_pred)\n",
    "\"\"\""
   ]
  },
  {
   "cell_type": "code",
   "execution_count": 404,
   "metadata": {},
   "outputs": [
    {
     "data": {
      "text/plain": [
       "\"\\nfrom sklearn.metrics import confusion_matrix\\nfrom sklearn.metrics import recall_score\\nfrom sklearn.metrics import precision_score\\n\\nprint('confusion matrix 결과')\\nprint(confusion_matrix(y_test, y_pred, labels=[0, 1])) # 0 : 광고 1: 비광고\\n\\nprint('precision 개별값')\\nprint(list(map('{:2.2f}%'.format, precision_score(y_test, y_pred, average=None) * 100))) # precision 개별 값\\nprint('recall 개별값')\\nprint(list(map('{:2.2f}%'.format, recall_score(y_test, y_pred, average=None) * 100)))\\n\\nprint('precision 평균값')\\nprint('{:2.2f}%'.format(precision_score(y_test, y_pred, average='macro') * 100)) # precision 평균 값\\nprint('recall 평균값')\\nprint('{:2.2f}%'.format(recall_score(y_test, y_pred, average='macro') * 100))\\n\""
      ]
     },
     "execution_count": 404,
     "metadata": {},
     "output_type": "execute_result"
    }
   ],
   "source": [
    "\"\"\"\n",
    "from sklearn.metrics import confusion_matrix\n",
    "from sklearn.metrics import recall_score\n",
    "from sklearn.metrics import precision_score\n",
    "\n",
    "print('confusion matrix 결과')\n",
    "print(confusion_matrix(y_test, y_pred, labels=[0, 1])) # 0 : 광고 1: 비광고\n",
    "\n",
    "print('precision 개별값')\n",
    "print(list(map('{:2.2f}%'.format, precision_score(y_test, y_pred, average=None) * 100))) # precision 개별 값\n",
    "print('recall 개별값')\n",
    "print(list(map('{:2.2f}%'.format, recall_score(y_test, y_pred, average=None) * 100)))\n",
    "\n",
    "print('precision 평균값')\n",
    "print('{:2.2f}%'.format(precision_score(y_test, y_pred, average='macro') * 100)) # precision 평균 값\n",
    "print('recall 평균값')\n",
    "print('{:2.2f}%'.format(recall_score(y_test, y_pred, average='macro') * 100))\n",
    "\"\"\""
   ]
  },
  {
   "cell_type": "code",
   "execution_count": 405,
   "metadata": {},
   "outputs": [
    {
     "data": {
      "text/plain": [
       "'\\n# print(\"정확도 : %.2f \" %(model.evaluate(X_test, y_test)[1]))\\nprint(\"정확도 : \" \\'{:2.2f}%\\'.format(model.evaluate(X_test, y_test)[1] * 100))\\n'"
      ]
     },
     "execution_count": 405,
     "metadata": {},
     "output_type": "execute_result"
    }
   ],
   "source": [
    "\"\"\"\n",
    "# print(\"정확도 : %.2f \" %(model.evaluate(X_test, y_test)[1]))\n",
    "print(\"정확도 : \" '{:2.2f}%'.format(model.evaluate(X_test, y_test)[1] * 100))\n",
    "\"\"\""
   ]
  },
  {
   "cell_type": "code",
   "execution_count": 406,
   "metadata": {},
   "outputs": [],
   "source": [
    "model.save('./binary_cnn/models/size/binary_model_saved' + str(300) + '.h5')"
   ]
  },
  {
   "cell_type": "code",
   "execution_count": 407,
   "metadata": {
    "scrolled": true
   },
   "outputs": [
    {
     "data": {
      "image/png": "[encoded data removed]",
      "text/plain": [
       "<Figure size 432x288 with 1 Axes>"
      ]
     },
     "metadata": {
      "needs_background": "light"
     },
     "output_type": "display_data"
    }
   ],
   "source": [
    "import matplotlib.pyplot as plt\n",
    "\n",
    "plt.plot(history.history['loss'])\n",
    "plt.plot(history.history['val_loss'])\n",
    "plt.title('model loss')\n",
    "plt.ylabel('loss')\n",
    "plt.xlabel('epoch')\n",
    "plt.legend(['loss', 'val_loss'], loc='upper left')\n",
    "plt.show()"
   ]
  },
  {
   "cell_type": "code",
   "execution_count": 408,
   "metadata": {},
   "outputs": [
    {
     "data": {
      "image/png": "[encoded data removed]",
      "text/plain": [
       "<Figure size 432x288 with 1 Axes>"
      ]
     },
     "metadata": {
      "needs_background": "light"
     },
     "output_type": "display_data"
    }
   ],
   "source": [
    "plt.plot(history.history['acc'])\n",
    "plt.plot(history.history['val_acc'] )\n",
    "plt.title('model accuracy')\n",
    "plt.ylabel('loss')\n",
    "plt.xlabel('epoch')\n",
    "plt.legend(['acc', 'val_acc'], loc='upper left')\n",
    "plt.show()"
   ]
  },
  {
   "cell_type": "code",
   "execution_count": null,
   "metadata": {},
   "outputs": [],
   "source": []
  }
 ],
 "metadata": {
  "kernelspec": {
   "display_name": "Python 3",
   "language": "python",
   "name": "python3"
  },
  "language_info": {
   "codemirror_mode": {
    "name": "ipython",
    "version": 3
   },
   "file_extension": ".py",
   "mimetype": "text/x-python",
   "name": "python",
   "nbconvert_exporter": "python",
   "pygments_lexer": "ipython3",
   "version": "3.6.10"
  }
 },
 "nbformat": 4,
 "nbformat_minor": 4
}
