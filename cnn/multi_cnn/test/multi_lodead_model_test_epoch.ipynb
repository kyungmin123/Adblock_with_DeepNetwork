{
 "cells": [
  {
   "cell_type": "code",
   "execution_count": 1,
   "id": "dc813330",
   "metadata": {},
   "outputs": [],
   "source": [
    "def data_generator(file, image_width, image_height):\n",
    "    img_bgr = cv2.imread(file, cv2.IMREAD_COLOR)\n",
    "    img_rgb = cv2.cvtColor(img_bgr, cv2.COLOR_BGR2RGB)\n",
    "    img = cv2.resize(img_rgb, (image_width, image_height))\n",
    "\n",
    "    return img"
   ]
  },
  {
   "cell_type": "code",
   "execution_count": 2,
   "id": "4f9b3127",
   "metadata": {},
   "outputs": [
    {
     "name": "stdout",
     "output_type": "stream",
     "text": [
      "200 200\n"
     ]
    },
    {
     "data": {
      "text/plain": [
       "'인자 바꾸기'"
      ]
     },
     "execution_count": 2,
     "metadata": {},
     "output_type": "execute_result"
    }
   ],
   "source": [
    "import cv2\n",
    "import os, glob, numpy as np\n",
    "from tensorflow.keras.models import load_model\n",
    "import tensorflow as tf\n",
    "\n",
    "img_dir = './multi_cnn/test'\n",
    "categories = ['bill', 'coin', 'general_product', 'graph', 'human', 'lotto_N',\n",
    "             'lotto_P', 'microbe', 'photoshop', 'non_ad']\n",
    "\n",
    "\n",
    "image_width = 140 # 사이즈 수정\n",
    "image_height = 140\n",
    "\n",
    "X = []\n",
    "y = []\n",
    "y_bi = []\n",
    "index = []\n",
    "cat_index = []\n",
    "files = []\n",
    "filenames = []\n",
    "\n",
    "for i, category in enumerate(categories):\n",
    "    img_detail = os.path.join(img_dir, category)\n",
    "    files.append(glob.glob(img_detail + \"/*.jpg\"))\n",
    "    index.append(i)\n",
    " \n",
    "    \n",
    "for file, i in zip(files, index):\n",
    "    for f in file:\n",
    "        label = [0 for r in range(len(categories))]\n",
    "        label[i] = 1\n",
    "        \n",
    "        img = data_generator(f, image_width, image_height)\n",
    "        data = np.asarray(img)\n",
    "\n",
    "        head, tail = os.path.split(f)\n",
    "        filenames.append(tail)\n",
    "        \n",
    "        X.append(data)\n",
    "        y.append(label)\n",
    "    \n",
    "X = np.array(X)\n",
    "y = np.array(y)\n",
    "\n",
    "X = X.astype('float32') / 255\n",
    "\n",
    "print(len(X), len(y))\n",
    "\n",
    "\"\"\"인자 바꾸기\"\"\"\n",
    "\n"
   ]
  },
  {
   "cell_type": "code",
   "execution_count": 3,
   "id": "b275a011",
   "metadata": {},
   "outputs": [],
   "source": [
    "def print_cat_scores(X, y, prediction):\n",
    "    \n",
    "    print('################## 다중 분류 결과 ###################')\n",
    "    #print('confusion matrix 결과')\n",
    "    #print(multilabel_confusion_matrix(y.argmax(axis=1), prediction, labels=[0 for r in range(12)])) # 0 : 광고 1: 비광고\n",
    "\n",
    "    print('precision 개별값')\n",
    "    print(list(map('{:2.2f}%'.format, precision_score(y.argmax(axis=1), prediction, average=None) * 100))) # precision 개별 값\n",
    "    print('recall 개별값')\n",
    "    print(list(map('{:2.2f}%'.format, recall_score(y.argmax(axis=1), prediction, average=None) * 100)))\n",
    "\n",
    "    print('evaluate값')\n",
    "    print('{:2.2f}%'.format(model.evaluate(X, y)[1] * 100))\n",
    "    \n",
    "    print('f1 점수')\n",
    "    print('{:2.2f}%'.format(f1_score(y.argmax(axis=1), prediction, average='macro') * 100))\n",
    "\n",
    "    print('precision 평균값')\n",
    "    print('{:2.2f}%'.format(precision_score(y.argmax(axis=1), prediction, average='macro') * 100)) # precision 평균 값\n",
    "    \n",
    "    print('recall 평균값')\n",
    "    print('{:2.2f}%'.format(recall_score(y.argmax(axis=1), prediction, average='macro') * 100))\n",
    "    \n",
    "    print('################## 다중 분류 결과 ###################')"
   ]
  },
  {
   "cell_type": "code",
   "execution_count": 4,
   "id": "d7084e10",
   "metadata": {
    "scrolled": true
   },
   "outputs": [
    {
     "name": "stderr",
     "output_type": "stream",
     "text": [
      "Using TensorFlow backend.\n"
     ]
    },
    {
     "name": "stdout",
     "output_type": "stream",
     "text": [
      "WARNING:tensorflow:From C:\\ProgramData\\Anaconda3\\envs\\tensorflow-keras\\lib\\site-packages\\tensorflow\\python\\ops\\resource_variable_ops.py:435: colocate_with (from tensorflow.python.framework.ops) is deprecated and will be removed in a future version.\n",
      "Instructions for updating:\n",
      "Colocations handled automatically by placer.\n",
      "WARNING:tensorflow:From C:\\ProgramData\\Anaconda3\\envs\\tensorflow-keras\\lib\\site-packages\\tensorflow\\python\\keras\\layers\\core.py:143: calling dropout (from tensorflow.python.ops.nn_ops) with keep_prob is deprecated and will be removed in a future version.\n",
      "Instructions for updating:\n",
      "Please use `rate` instead of `keep_prob`. Rate should be set to `rate = 1 - keep_prob`.\n",
      "WARNING:tensorflow:From C:\\ProgramData\\Anaconda3\\envs\\tensorflow-keras\\lib\\site-packages\\tensorflow\\python\\ops\\math_ops.py:3066: to_int32 (from tensorflow.python.ops.math_ops) is deprecated and will be removed in a future version.\n",
      "Instructions for updating:\n",
      "Use tf.cast instead.\n",
      "에포크 : 20\n",
      "200/200 [==============================] - 1s 4ms/sample - loss: 4.1091 - acc: 0.1750\n"
     ]
    },
    {
     "name": "stderr",
     "output_type": "stream",
     "text": [
      "C:\\ProgramData\\Anaconda3\\envs\\tensorflow-keras\\lib\\site-packages\\sklearn\\metrics\\_classification.py:1272: UndefinedMetricWarning: Precision is ill-defined and being set to 0.0 in labels with no predicted samples. Use `zero_division` parameter to control this behavior.\n",
      "  _warn_prf(average, modifier, msg_start, len(result))\n"
     ]
    },
    {
     "name": "stdout",
     "output_type": "stream",
     "text": [
      "에포크 : 25\n",
      "200/200 [==============================] - 1s 4ms/sample - loss: 3.2957 - acc: 0.3150\n",
      "에포크 : 30\n",
      "200/200 [==============================] - 1s 4ms/sample - loss: 3.5650 - acc: 0.2850\n",
      "에포크 : 35\n",
      "200/200 [==============================] - 1s 5ms/sample - loss: 4.0304 - acc: 0.3300\n",
      "에포크 : 40\n",
      "200/200 [==============================] - 1s 5ms/sample - loss: 3.5168 - acc: 0.3650\n"
     ]
    }
   ],
   "source": [
    "import keras.backend.tensorflow_backend as K\n",
    "\n",
    "from sklearn.metrics import confusion_matrix\n",
    "from sklearn.metrics import multilabel_confusion_matrix\n",
    "from sklearn.metrics import recall_score\n",
    "from sklearn.metrics import precision_score\n",
    "from sklearn.metrics import f1_score\n",
    "\n",
    "\"\"\"수정 필요한 부분\"\"\"\n",
    "\n",
    "# validation_rate = [0.05, 0.1, 0.15, 0.2]  # 리스트 바꾸기\n",
    "#image_size = [32, 40, 50, 64, 70, 80, 90, 100, 110, 120, 130, 140, 150, 160, 170, 180,\n",
    "  #           190, 200, 210, 220, 230, 240, 256]\n",
    "\n",
    "#model_layers = [2, 3, 4, 5, 6, 7, 8, 9, 10]\n",
    "#epochs = [5, 10, 15, 20, 25, 30, 35, 40, 45, 50]\n",
    "#batch_list = [2, 4, 8, 16, 32, 64, 128, 256, 512]\n",
    "#Dropout = [0.15]\n",
    "#optimizer = ['adam', 'sgd', 'adagrad', 'rmsprop', 'nadam']\n",
    "#learning_rate = [0.01, 0.02, 0.03, 0.04, 0.05]\n",
    "\n",
    "epochs = [20, 25, 30, 35, 40]\n",
    "\n",
    "\"\"\"수정 필요한 부분\"\"\"\n",
    "\n",
    "model_evaluate = []\n",
    "\n",
    "f1 = []\n",
    "precision = []\n",
    "recall = []\n",
    "\n",
    "\n",
    "\n",
    "for epoch in epochs: #반복문 요소 바꾸기\n",
    "    ind = []\n",
    "    model = load_model('./multi_cnn/models/epoch/multi_model_saved' + str(epoch) + '.h5')\n",
    "    ##############파일 인자 수정하기 ##############\n",
    "    with K.tf_ops.device('/device:GPU:0'):\n",
    "        prediction = model.predict(X)\n",
    "        \n",
    "        np.set_printoptions(formatter={'float': lambda x: \"{0:0.3f}\".format(x)}) # 소수점 3자리까지\n",
    "    \n",
    "    #print(prediction)\n",
    "    \n",
    "    for p in prediction:\n",
    "        ind.append(p.argmax())\n",
    "    \n",
    "    prediction = ind\n",
    "              \n",
    "    print('에포크 : ' + str(epoch)) ####### 수정\n",
    "    #print_scores(X, y, prediction)\n",
    "    \n",
    "    model_evaluate.append(model.evaluate(X, y)[1] * 100)\n",
    "    precision.append(precision_score(y.argmax(axis=1), prediction, average='macro') * 100)\n",
    "    recall.append(recall_score(y.argmax(axis=1), prediction, average='macro') * 100)\n",
    "    f1.append(f1_score(y.argmax(axis=1), prediction, average='macro') * 100)"
   ]
  },
  {
   "cell_type": "code",
   "execution_count": 5,
   "id": "604bf431",
   "metadata": {
    "scrolled": true
   },
   "outputs": [
    {
     "data": {
      "text/plain": [
       "'수정 필요한 부분'"
      ]
     },
     "execution_count": 5,
     "metadata": {},
     "output_type": "execute_result"
    },
    {
     "data": {
      "image/png": "[encoded data removed]",
      "text/plain": [
       "<Figure size 432x288 with 1 Axes>"
      ]
     },
     "metadata": {
      "needs_background": "light"
     },
     "output_type": "display_data"
    }
   ],
   "source": [
    "import matplotlib.pyplot as plt\n",
    "\n",
    "\"\"\"카테고리 분류 \"\"\"\n",
    "\n",
    "\"\"\"수정 필요한 부분\"\"\"\n",
    "\n",
    "plt.plot(epochs, precision, 'ro-', label='precision') # 리스트 수정\n",
    "plt.plot(epochs, recall, 'bo-', label='recall')\n",
    "plt.plot(epochs, f1, 'go-', label='f1')\n",
    "plt.plot(epochs, model_evaluate, 'yo-', label='evaluate')\n",
    "plt.xlabel('epochs') # xlabel 수정\n",
    "plt.ylabel('accuracy')\n",
    "plt.legend()\n",
    "\n",
    "\"\"\"수정 필요한 부분\"\"\""
   ]
  },
  {
   "cell_type": "code",
   "execution_count": null,
   "id": "30c16776",
   "metadata": {},
   "outputs": [],
   "source": []
  }
 ],
 "metadata": {
  "kernelspec": {
   "display_name": "Python 3",
   "language": "python",
   "name": "python3"
  },
  "language_info": {
   "codemirror_mode": {
    "name": "ipython",
    "version": 3
   },
   "file_extension": ".py",
   "mimetype": "text/x-python",
   "name": "python",
   "nbconvert_exporter": "python",
   "pygments_lexer": "ipython3",
   "version": "3.6.10"
  }
 },
 "nbformat": 4,
 "nbformat_minor": 5
}
