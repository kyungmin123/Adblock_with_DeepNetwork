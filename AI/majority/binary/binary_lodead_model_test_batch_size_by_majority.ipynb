{
 "cells": [
  {
   "cell_type": "code",
   "execution_count": 15,
   "id": "d123eb93",
   "metadata": {},
   "outputs": [
    {
     "data": {
      "text/plain": [
       "'\\ndef most_frequent(data):\\n    max = 0\\n    #print(data)\\n    \\n    for i in range(10):\\n        cnt = data.count(i)\\n        if cnt > max:\\n            max = cnt\\n            max_num = i\\n    \\n    return data.index(max_num)\\n'"
      ]
     },
     "execution_count": 15,
     "metadata": {},
     "output_type": "execute_result"
    }
   ],
   "source": [
    "\"\"\"\n",
    "def most_frequent(data):\n",
    "    max = 0\n",
    "    #print(data)\n",
    "    \n",
    "    for i in range(10):\n",
    "        cnt = data.count(i)\n",
    "        if cnt > max:\n",
    "            max = cnt\n",
    "            max_num = i\n",
    "    \n",
    "    return data.index(max_num)\n",
    "\"\"\""
   ]
  },
  {
   "cell_type": "code",
   "execution_count": 16,
   "id": "5a34b7fd",
   "metadata": {},
   "outputs": [],
   "source": [
    "def image_crop(file, image_width, image_height, cropped_width, cropped_height):\n",
    "    cropped_images = []\n",
    "    x = 0\n",
    "    x_center = image_width // 2\n",
    "    y_center = image_height // 2\n",
    "    \n",
    "    while x < image_width:\n",
    "        y = 0\n",
    "        while y < image_height:\n",
    "            cropped_image = file[x : x + cropped_width, y : y + cropped_height]\n",
    "            cropped_images.append(cropped_image)\n",
    "            y += cropped_height\n",
    "        x += cropped_width\n",
    "    \n",
    "    center_image = file[x_center - cropped_width // 2 : x_center + cropped_width // 2,\n",
    "                       y_center - cropped_height // 2 : y_center + cropped_height // 2]\n",
    "    \n",
    "    cropped_images.append(center_image)\n",
    "    \n",
    "    return cropped_images"
   ]
  },
  {
   "cell_type": "code",
   "execution_count": 17,
   "id": "dc813330",
   "metadata": {},
   "outputs": [],
   "source": [
    "def data_generator(file, image_width, image_height):\n",
    "    img_bgr = cv2.imread(file, cv2.IMREAD_COLOR)\n",
    "    img_rgb = cv2.cvtColor(img_bgr, cv2.COLOR_BGR2RGB)\n",
    "    img = cv2.resize(img_rgb, (image_width, image_height))\n",
    "\n",
    "    return img"
   ]
  },
  {
   "cell_type": "code",
   "execution_count": 18,
   "id": "4f9b3127",
   "metadata": {},
   "outputs": [
    {
     "name": "stdout",
     "output_type": "stream",
     "text": [
      "3195 3195\n",
      "639 639\n"
     ]
    },
    {
     "data": {
      "text/plain": [
       "'인자 바꾸기'"
      ]
     },
     "execution_count": 18,
     "metadata": {},
     "output_type": "execute_result"
    }
   ],
   "source": [
    "import cv2\n",
    "import os, glob, numpy as np\n",
    "from tensorflow.keras.models import load_model\n",
    "import tensorflow as tf\n",
    "\n",
    "img_dir = './binary_cnn_majority/test'\n",
    "#categories = os.listdir(img_dir)\n",
    "categories = ['ad', 'non_ad']\n",
    "\n",
    "image_width = 140 # 사이즈 수정\n",
    "image_height = 140\n",
    "\n",
    "X = []\n",
    "y = []\n",
    "X_original = []\n",
    "y_original = []\n",
    "index = []\n",
    "files = []\n",
    "filenames = []\n",
    "\n",
    "for i, category in enumerate(categories):\n",
    "    img_detail = img_dir + '/' + category\n",
    "    files.append(glob.glob(img_detail + \"/*.jpg\"))\n",
    "    index.append(i)\n",
    "    \n",
    "for file, i in zip(files, index):\n",
    "    for f in file:\n",
    "        img = data_generator(f, image_width, image_height)\n",
    "        original_data = np.asarray(img)\n",
    "        X_original.append(original_data)\n",
    "        y_original.append(i)\n",
    "        \n",
    "        cropped_images = image_crop(img, image_width, image_height, image_width // 2, image_height // 2)\n",
    "        \n",
    "        for cropped_image in cropped_images:\n",
    "            data = np.asarray(cropped_image)\n",
    "\n",
    "            head, tail = os.path.split(f)\n",
    "            filenames.append(tail)\n",
    "        \n",
    "            X.append(data)\n",
    "            y.append(i)\n",
    "    \n",
    "X = np.array(X)\n",
    "y = np.array(y)\n",
    "X_original = np.array(X_original)\n",
    "y_original = np.array(y_original)\n",
    "\n",
    "X = X.astype('float32') / 255\n",
    "\n",
    "print(len(X), len(y))\n",
    "print(len(X_original), len(y_original))\n",
    "\n",
    "\"\"\"인자 바꾸기\"\"\"\n",
    "\n"
   ]
  },
  {
   "cell_type": "code",
   "execution_count": 19,
   "id": "8b9029d3",
   "metadata": {},
   "outputs": [],
   "source": [
    "#import keras.backend.tensorflow_backend as K\n",
    "\n",
    "#with K.tf_ops.device('/device:GPU:0'):\n",
    " #   prediction = model.predict(X)\n",
    "  #  np.set_printoptions(formatter={'float': lambda x: \"{0:0.3f}\".format(x)}) # 소수점 3자리까지\n",
    "\n"
   ]
  },
  {
   "cell_type": "code",
   "execution_count": 20,
   "id": "3d38cf68",
   "metadata": {},
   "outputs": [],
   "source": [
    "def print_scores(X, y, prediction):\n",
    "    print('confusion matrix 결과')\n",
    "    print(confusion_matrix(y, prediction, labels=[0, 1])) # 0 : 광고 1: 비광고\n",
    "\n",
    "    print('precision 개별값')\n",
    "    print(list(map('{:2.2f}%'.format, precision_score(y, prediction, average=None) * 100))) # precision 개별 값\n",
    "    print('recall 개별값')\n",
    "    print(list(map('{:2.2f}%'.format, recall_score(y, prediction, average=None) * 100)))\n",
    "\n",
    "    #print('evaluate값')\n",
    "    #print('{:2.2f}%'.format(model.evaluate(X, y)[1] * 100))\n",
    "    \n",
    "    print('f1 점수')\n",
    "    print('{:2.2f}%'.format(f1_score(y, prediction, average='macro') * 100))\n",
    "\n",
    "    print('precision 평균값')\n",
    "    print('{:2.2f}%'.format(precision_score(y, prediction, average='macro') * 100)) # precision 평균 값\n",
    "    \n",
    "    print('recall 평균값')\n",
    "    print('{:2.2f}%'.format(recall_score(y, prediction, average='macro') * 100))"
   ]
  },
  {
   "cell_type": "code",
   "execution_count": 21,
   "id": "d7084e10",
   "metadata": {},
   "outputs": [
    {
     "name": "stdout",
     "output_type": "stream",
     "text": [
      "배치 사이즈 : 16\n",
      "개별 결과\n",
      "3195 3195\n",
      "투표 결과\n",
      "639 639\n",
      "confusion matrix 결과\n",
      "[[315   4]\n",
      " [183 137]]\n",
      "precision 개별값\n",
      "['63.25%', '97.16%']\n",
      "recall 개별값\n",
      "['98.75%', '42.81%']\n",
      "f1 점수\n",
      "68.27%\n",
      "precision 평균값\n",
      "80.21%\n",
      "recall 평균값\n",
      "70.78%\n",
      "배치 사이즈 : 32\n",
      "개별 결과\n",
      "3195 3195\n",
      "투표 결과\n",
      "639 639\n",
      "confusion matrix 결과\n",
      "[[306  13]\n",
      " [ 77 243]]\n",
      "precision 개별값\n",
      "['79.90%', '94.92%']\n",
      "recall 개별값\n",
      "['95.92%', '75.94%']\n",
      "f1 점수\n",
      "85.78%\n",
      "precision 평균값\n",
      "87.41%\n",
      "recall 평균값\n",
      "85.93%\n",
      "배치 사이즈 : 64\n",
      "개별 결과\n",
      "3195 3195\n",
      "투표 결과\n",
      "639 639\n",
      "confusion matrix 결과\n",
      "[[232  87]\n",
      " [ 11 309]]\n",
      "precision 개별값\n",
      "['95.47%', '78.03%']\n",
      "recall 개별값\n",
      "['72.73%', '96.56%']\n",
      "f1 점수\n",
      "84.44%\n",
      "precision 평균값\n",
      "86.75%\n",
      "recall 평균값\n",
      "84.64%\n",
      "배치 사이즈 : 128\n",
      "개별 결과\n",
      "3195 3195\n",
      "투표 결과\n",
      "639 639\n",
      "confusion matrix 결과\n",
      "[[188 131]\n",
      " [ 13 307]]\n",
      "precision 개별값\n",
      "['93.53%', '70.09%']\n",
      "recall 개별값\n",
      "['58.93%', '95.94%']\n",
      "f1 점수\n",
      "76.66%\n",
      "precision 평균값\n",
      "81.81%\n",
      "recall 평균값\n",
      "77.44%\n",
      "배치 사이즈 : 256\n",
      "개별 결과\n",
      "3195 3195\n",
      "투표 결과\n",
      "639 639\n",
      "confusion matrix 결과\n",
      "[[213 106]\n",
      " [ 11 309]]\n",
      "precision 개별값\n",
      "['95.09%', '74.46%']\n",
      "recall 개별값\n",
      "['66.77%', '96.56%']\n",
      "f1 점수\n",
      "81.27%\n",
      "precision 평균값\n",
      "84.77%\n",
      "recall 평균값\n",
      "81.67%\n"
     ]
    },
    {
     "data": {
      "text/plain": [
       "'수정 필요한 부분'"
      ]
     },
     "execution_count": 21,
     "metadata": {},
     "output_type": "execute_result"
    }
   ],
   "source": [
    "import keras.backend.tensorflow_backend as K\n",
    "\n",
    "from sklearn.metrics import confusion_matrix\n",
    "from sklearn.metrics import recall_score\n",
    "from sklearn.metrics import precision_score\n",
    "from sklearn.metrics import f1_score\n",
    "\n",
    "\"\"\"수정 필요한 부분\"\"\"\n",
    "\n",
    "# validation_rate = [0.05, 0.1, 0.15, 0.2]  # 리스트 바꾸기\n",
    "#image_size = [32, 40, 50, 64, 70, 80, 90, 100, 110, 120, 130, 140, 150, 160, 170, 180,\n",
    "  #           190, 200, 210, 220, 230, 240, 256]\n",
    "# Dropout = []\n",
    "#model_layers = [2, 3, 4, 5, 6, 7, 8, 9, 10]\n",
    "#epochs = [5, 10, 15, 20, 25, 30, 35, 40, 45, 50]\n",
    "\n",
    "batch_list = [16, 32, 64, 128, 256]\n",
    "\n",
    "\n",
    "model_evaluate = []\n",
    "f1 = []\n",
    "precision = []\n",
    "recall = []\n",
    "\n",
    "for batch in batch_list: #반복문 요소 바꾸기\n",
    "    model = load_model('./binary_cnn_majority/model/batch/binary_model_saved' + str(batch) + '.h5')\n",
    "    ##############파일 인자 수정하기 ##############\n",
    "    with K.tf_ops.device('/device:GPU:0'):\n",
    "        prediction = model.predict(X)\n",
    "        np.set_printoptions(formatter={'float': lambda x: \"{0:0.3f}\".format(x)}) # 소수점 3자리까지\n",
    "        \n",
    "    new_prediction = []    \n",
    "    count = []\n",
    "    \n",
    "    for p in prediction:\n",
    "        is_ad = 0\n",
    "        not_ad = 0\n",
    "        amax = []\n",
    "        \n",
    "        count.append(p)\n",
    "        \n",
    "        if len(count) == 5:\n",
    "            for c in count:\n",
    "                amax.append(c.round())\n",
    "                if c.round() == 0:\n",
    "                    is_ad += 1\n",
    "                elif c.round() == 1:\n",
    "                    not_ad += 1\n",
    "                    \n",
    "            if is_ad > not_ad:\n",
    "                new_prediction.append(0)\n",
    "            else:\n",
    "                new_prediction.append(1)\n",
    "                \n",
    "            count = []\n",
    "        \n",
    "        elif len(count) < 5:\n",
    "            continue\n",
    "                \n",
    "    #prediction = np.round(prediction)\n",
    "    \n",
    "    print('배치 사이즈 : ' + str(batch)) # 수정\n",
    "    \n",
    "    \n",
    "    print('개별 결과')\n",
    "    print(len(y), len(prediction))\n",
    "    #print_scores(X, y, prediction)\n",
    "    #model_evaluate.append(model.evaluate(X, y)[1] * 100)\n",
    "    #precision.append(precision_score(y, prediction, average='macro') * 100)\n",
    "    #recall.append(recall_score(y, prediction, average='macro') * 100)\n",
    "    #f1.append(f1_score(y, prediction, average='macro') * 100)\n",
    "    \n",
    "    print('투표 결과')\n",
    "    print(len(y_original), len(new_prediction))\n",
    "    print_scores(X_original, y_original, new_prediction)\n",
    "    #model_evaluate.append(model.evaluate(X_original, y_original)[1] * 100)\n",
    "    precision.append(precision_score(y_original, new_prediction, average='macro') * 100)\n",
    "    recall.append(recall_score(y_original, new_prediction, average='macro') * 100)\n",
    "    f1.append(f1_score(y_original, new_prediction, average='macro') * 100)\n",
    "    \n",
    "\"\"\"수정 필요한 부분\"\"\""
   ]
  },
  {
   "cell_type": "code",
   "execution_count": 22,
   "id": "096089ab",
   "metadata": {},
   "outputs": [],
   "source": [
    "#for i, pred in enumerate(prediction):\n",
    " #   if pred >= 0.5: print(\"해당 \" + filenames[i] + \"  이미지는 비광고 로 추정됩니다.\")\n",
    "  #  else : print(\"해당 \" + filenames[i] + \"  이미지는 광고 로 추정됩니다.\")"
   ]
  },
  {
   "cell_type": "code",
   "execution_count": 23,
   "id": "5104111c",
   "metadata": {},
   "outputs": [
    {
     "data": {
      "text/plain": [
       "'수정 필요한 부분'"
      ]
     },
     "execution_count": 23,
     "metadata": {},
     "output_type": "execute_result"
    },
    {
     "data": {
      "image/png": "[encoded data removed]",
      "text/plain": [
       "<Figure size 432x288 with 1 Axes>"
      ]
     },
     "metadata": {
      "needs_background": "light"
     },
     "output_type": "display_data"
    }
   ],
   "source": [
    "import matplotlib.pyplot as plt\n",
    "\n",
    "\n",
    "\"\"\"수정 필요한 부분\"\"\"\n",
    "\n",
    "plt.plot(batch_list, precision, 'ro-', label='precision') # 리스트 수정\n",
    "plt.plot(batch_list, recall, 'bo-', label='recall')\n",
    "plt.plot(batch_list, f1, 'go-', label='f1')\n",
    "#plt.plot(batch_list, model_evaluate, 'yo-', label='evaluate')\n",
    "plt.xlabel('batch size') # xlabel 수정\n",
    "plt.ylabel('accuracy')\n",
    "plt.legend()\n",
    "\n",
    "\"\"\"수정 필요한 부분\"\"\""
   ]
  },
  {
   "cell_type": "code",
   "execution_count": null,
   "id": "30c16776",
   "metadata": {},
   "outputs": [],
   "source": []
  },
  {
   "cell_type": "code",
   "execution_count": null,
   "id": "b579fb51",
   "metadata": {},
   "outputs": [],
   "source": []
  }
 ],
 "metadata": {
  "kernelspec": {
   "display_name": "Python 3",
   "language": "python",
   "name": "python3"
  },
  "language_info": {
   "codemirror_mode": {
    "name": "ipython",
    "version": 3
   },
   "file_extension": ".py",
   "mimetype": "text/x-python",
   "name": "python",
   "nbconvert_exporter": "python",
   "pygments_lexer": "ipython3",
   "version": "3.6.10"
  }
 },
 "nbformat": 4,
 "nbformat_minor": 5
}
