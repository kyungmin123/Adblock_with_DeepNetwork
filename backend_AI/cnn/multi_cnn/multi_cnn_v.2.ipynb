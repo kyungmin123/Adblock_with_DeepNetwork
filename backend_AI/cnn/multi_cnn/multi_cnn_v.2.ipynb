{
 "cells": [
  {
   "cell_type": "code",
   "execution_count": 37,
   "metadata": {
    "scrolled": false
   },
   "outputs": [
    {
     "name": "stdout",
     "output_type": "stream",
     "text": [
      "a-body  파일 길이:  52\n",
      "a-closeup  파일 길이:  42\n",
      "a-closeup 40 번째에서 에러\n",
      "a-dna  파일 길이:  34\n",
      "a-doctor  파일 길이:  26\n",
      "a-head  파일 길이:  30\n",
      "a-knee  파일 길이:  29\n",
      "a-leg_bone  파일 길이:  17\n",
      "a-tooth  파일 길이:  23\n",
      "b-cartoon  파일 길이:  61\n",
      "d-animal  파일 길이:  30\n",
      "d-animal 12 번째에서 에러\n",
      "d-arm  파일 길이:  18\n",
      "d-arrow  파일 길이:  18\n",
      "d-bill  파일 길이:  37\n",
      "d-coin  파일 길이:  30\n",
      "d-graph  파일 길이:  28\n",
      "d-lottery number  파일 길이:  0\n",
      "d-lottery paper  파일 길이:  0\n",
      "d-paint  파일 길이:  14\n",
      "d-text_architecture  파일 길이:  63\n",
      "e-photo_product  파일 길이:  358\n",
      "e-photo_product 13 번째에서 에러\n",
      "e-photo_product 334 번째에서 에러\n",
      "non_ad  파일 길이:  183\n",
      "총 파일 길이:  1093\n"
     ]
    }
   ],
   "source": [
    "# from PIL import Image\n",
    "# PIL 제거 버전 (cv2 사용)\n",
    "\n",
    "import cv2\n",
    "import os, glob\n",
    "import numpy as np\n",
    "\n",
    "category_dir = \"./multi_cnn/train2\"\n",
    "categories = [\"a-body\", \"a-closeup\", \"a-dna\", \"a-doctor\", \"a-head\", \n",
    "              \"a-knee\", \"a-leg_bone\", \"a-tooth\", \n",
    "              \"b-cartoon\",\n",
    "              \"d-animal\", \"d-arm\", \"d-arrow\", \"d-bill\",  \"d-coin\", \"d-graph\", \n",
    "              \"d-lottery number\", \"d-lottery paper\", \"d-paint\", \n",
    "              \"d-text_architecture\",\n",
    "              \"e-photo_product\",\n",
    "              \"non_ad\"]\n",
    "\n",
    "len_categories = len(categories)\n",
    "\n",
    "image_width, image_height = 64, 64\n",
    "\n",
    "X = []\n",
    "y = []\n",
    "sum = 0 \n",
    "\n",
    "for index, category in enumerate(categories):\n",
    "    \n",
    "    label = [0 for i in range(len_categories)]\n",
    "    label[index] = 1\n",
    "    \n",
    "    image_dir = category_dir + \"/\" + category \n",
    "    files = glob.glob(image_dir+\"/*.jpg\") # 폴더 내 jpg 파일 탐색\n",
    "    print(category, \" 파일 길이: \", len(files)) # 카테코리마다 이미지 파일 개수 표시\n",
    "    sum += len(files)\n",
    "    \n",
    "    for i, f in enumerate(files):\n",
    "        \n",
    "        try:\n",
    "    \n",
    "            image_bgr = cv2.imread(f, cv2.IMREAD_COLOR) # opencv는 BGR 값으로 받아들임\n",
    "            image_rgb = cv2.cvtColor(image_bgr, cv2.COLOR_BGR2RGB) # RGB 값으로 변환\n",
    "\n",
    "            img = cv2.resize(image_rgb, (image_width, image_height)) # 딥러닝 모델에 맞게 사이즈 재조정\n",
    "            data = np.asarray(img)\n",
    "\n",
    "            X.append(data)\n",
    "            y.append(label)\n",
    "            \n",
    "        except:\n",
    "            print(category, str(i + 1), \"번째에서 에러\") # 에러 파일 탐지\n",
    "            pass\n",
    "\n",
    "print('총 파일 길이: ', sum)\n",
    "\n",
    "X = np.array(X)\n",
    "y = np.array(y)"
   ]
  },
  {
   "cell_type": "code",
   "execution_count": 38,
   "metadata": {},
   "outputs": [
    {
     "name": "stdout",
     "output_type": "stream",
     "text": [
      "(816, 64, 64, 3)\n",
      "(273, 64, 64, 3)\n",
      "(816, 21)\n",
      "(273, 21)\n"
     ]
    }
   ],
   "source": [
    "from sklearn.model_selection import train_test_split\n",
    "\n",
    "X_train, X_test, y_train, y_test = train_test_split(X, y)\n",
    "xy = (X_train, X_test, y_train, y_test)\n",
    "\n",
    "print(X_train.shape)\n",
    "print(X_test.shape)\n",
    "print(y_train.shape)\n",
    "print(y_test.shape)"
   ]
  },
  {
   "cell_type": "code",
   "execution_count": 39,
   "metadata": {},
   "outputs": [],
   "source": [
    "X_train = X_train.astype(float) / 255\n",
    "X_test = X_test.astype(float) / 255"
   ]
  },
  {
   "cell_type": "code",
   "execution_count": 40,
   "metadata": {},
   "outputs": [],
   "source": [
    "import tensorflow as tf\n",
    "from tensorflow.keras.models import Sequential\n",
    "from tensorflow.keras.layers import Conv2D, MaxPooling2D, Dense, Flatten, Dropout"
   ]
  },
  {
   "cell_type": "code",
   "execution_count": 41,
   "metadata": {},
   "outputs": [],
   "source": [
    "\"\"\"\n",
    "    VGG 모델 제거\n",
    "    모델 경량화를 통한 정확도 향상\n",
    "\n",
    "    gpu 에러 발생\n",
    "    gpu의 낮은 성능(gtx 750ti)로 인해\n",
    "    cpu로 모델 훈련 수행\n",
    "\"\"\"\n",
    "\n",
    "from sklearn.metrics import recall_score as recall\n",
    "from sklearn.metrics import precision_score as precision\n",
    "\n",
    "model = Sequential()\n",
    "\n",
    "model.add(Conv2D(32, (3,3), padding=\"same\", input_shape=X_train.shape[1:], activation='relu'))\n",
    "model.add(MaxPooling2D(pool_size=(2,2)))\n",
    "model.add(Dropout(0.25))\n",
    "\n",
    "model.add(Conv2D(64, (3,3), padding=\"same\", activation='relu'))\n",
    "model.add(MaxPooling2D(pool_size=(2,2)))\n",
    "model.add(Dropout(0.25))\n",
    "\n",
    "model.add(Flatten())\n",
    "model.add(Dense(256, activation='relu'))\n",
    "model.add(Dropout(0.5))\n",
    "model.add(Dense(len_categories, activation='softmax'))\n",
    "\n",
    "model.compile(loss='categorical_crossentropy', optimizer='adam', metrics=['accuracy'] )"
   ]
  },
  {
   "cell_type": "code",
   "execution_count": 42,
   "metadata": {},
   "outputs": [
    {
     "name": "stdout",
     "output_type": "stream",
     "text": [
      "Model: \"sequential_2\"\n",
      "_________________________________________________________________\n",
      "Layer (type)                 Output Shape              Param #   \n",
      "=================================================================\n",
      "conv2d_4 (Conv2D)            (None, 64, 64, 32)        896       \n",
      "_________________________________________________________________\n",
      "max_pooling2d_4 (MaxPooling2 (None, 32, 32, 32)        0         \n",
      "_________________________________________________________________\n",
      "dropout_6 (Dropout)          (None, 32, 32, 32)        0         \n",
      "_________________________________________________________________\n",
      "conv2d_5 (Conv2D)            (None, 32, 32, 64)        18496     \n",
      "_________________________________________________________________\n",
      "max_pooling2d_5 (MaxPooling2 (None, 16, 16, 64)        0         \n",
      "_________________________________________________________________\n",
      "dropout_7 (Dropout)          (None, 16, 16, 64)        0         \n",
      "_________________________________________________________________\n",
      "flatten_2 (Flatten)          (None, 16384)             0         \n",
      "_________________________________________________________________\n",
      "dense_4 (Dense)              (None, 256)               4194560   \n",
      "_________________________________________________________________\n",
      "dropout_8 (Dropout)          (None, 256)               0         \n",
      "_________________________________________________________________\n",
      "dense_5 (Dense)              (None, 21)                5397      \n",
      "=================================================================\n",
      "Total params: 4,219,349\n",
      "Trainable params: 4,219,349\n",
      "Non-trainable params: 0\n",
      "_________________________________________________________________\n"
     ]
    }
   ],
   "source": [
    "model.summary()"
   ]
  },
  {
   "cell_type": "code",
   "execution_count": 43,
   "metadata": {},
   "outputs": [
    {
     "name": "stdout",
     "output_type": "stream",
     "text": [
      "Epoch 1/20\n",
      "24/24 [==============================] - 2s 88ms/step - loss: 2.8375 - accuracy: 0.2915 - val_loss: 2.6850 - val_accuracy: 0.3577\n",
      "Epoch 2/20\n",
      "24/24 [==============================] - 2s 84ms/step - loss: 2.4107 - accuracy: 0.3290 - val_loss: 2.5865 - val_accuracy: 0.3577\n",
      "Epoch 3/20\n",
      "24/24 [==============================] - 2s 85ms/step - loss: 2.3114 - accuracy: 0.3319 - val_loss: 2.5559 - val_accuracy: 0.3659\n",
      "Epoch 4/20\n",
      "24/24 [==============================] - 2s 84ms/step - loss: 2.2009 - accuracy: 0.3319 - val_loss: 2.3929 - val_accuracy: 0.3659\n",
      "Epoch 5/20\n",
      "24/24 [==============================] - 2s 85ms/step - loss: 2.0587 - accuracy: 0.3377 - val_loss: 2.0402 - val_accuracy: 0.3659\n",
      "Epoch 6/20\n",
      "24/24 [==============================] - 2s 83ms/step - loss: 1.9273 - accuracy: 0.3954 - val_loss: 2.0261 - val_accuracy: 0.4390\n",
      "Epoch 7/20\n",
      "24/24 [==============================] - 2s 84ms/step - loss: 1.8194 - accuracy: 0.4358 - val_loss: 1.9306 - val_accuracy: 0.4228\n",
      "Epoch 8/20\n",
      "24/24 [==============================] - 2s 83ms/step - loss: 1.6171 - accuracy: 0.5036 - val_loss: 1.8351 - val_accuracy: 0.4390\n",
      "Epoch 9/20\n",
      "24/24 [==============================] - 2s 83ms/step - loss: 1.4868 - accuracy: 0.5339 - val_loss: 1.8323 - val_accuracy: 0.4878\n",
      "Epoch 10/20\n",
      "24/24 [==============================] - 2s 85ms/step - loss: 1.2992 - accuracy: 0.5916 - val_loss: 1.6720 - val_accuracy: 0.4878\n",
      "Epoch 11/20\n",
      "24/24 [==============================] - 2s 84ms/step - loss: 1.0940 - accuracy: 0.6508 - val_loss: 1.7287 - val_accuracy: 0.4959\n",
      "Epoch 12/20\n",
      "24/24 [==============================] - 2s 83ms/step - loss: 1.0000 - accuracy: 0.6782 - val_loss: 1.6634 - val_accuracy: 0.5285\n",
      "Epoch 13/20\n",
      "24/24 [==============================] - 2s 83ms/step - loss: 0.8901 - accuracy: 0.7273 - val_loss: 1.7235 - val_accuracy: 0.4797\n",
      "Epoch 14/20\n",
      "24/24 [==============================] - 2s 83ms/step - loss: 0.7618 - accuracy: 0.7792 - val_loss: 1.6150 - val_accuracy: 0.5366\n",
      "Epoch 15/20\n",
      "24/24 [==============================] - 2s 85ms/step - loss: 0.6310 - accuracy: 0.8139 - val_loss: 1.6913 - val_accuracy: 0.5285\n",
      "Epoch 16/20\n",
      "24/24 [==============================] - 2s 85ms/step - loss: 0.5772 - accuracy: 0.8268 - val_loss: 1.7465 - val_accuracy: 0.5203\n",
      "Epoch 17/20\n",
      "24/24 [==============================] - 2s 85ms/step - loss: 0.4294 - accuracy: 0.8629 - val_loss: 1.7541 - val_accuracy: 0.5285\n",
      "Epoch 18/20\n",
      "24/24 [==============================] - 2s 85ms/step - loss: 0.4039 - accuracy: 0.8687 - val_loss: 1.8111 - val_accuracy: 0.5041\n",
      "Epoch 19/20\n",
      "24/24 [==============================] - 2s 84ms/step - loss: 0.3657 - accuracy: 0.9048 - val_loss: 1.8654 - val_accuracy: 0.5122\n",
      "Epoch 20/20\n",
      "24/24 [==============================] - 2s 85ms/step - loss: 0.2646 - accuracy: 0.9221 - val_loss: 1.8241 - val_accuracy: 0.5203\n"
     ]
    }
   ],
   "source": [
    "history = model.fit(X_train, y_train, epochs=20, batch_size=30, verbose=1, validation_split=0.15)"
   ]
  },
  {
   "cell_type": "code",
   "execution_count": 44,
   "metadata": {},
   "outputs": [
    {
     "name": "stdout",
     "output_type": "stream",
     "text": [
      "[[[256   4]\n",
      "  [ 10   3]]\n",
      "\n",
      " [[243  20]\n",
      "  [  5   5]]\n",
      "\n",
      " [[260   3]\n",
      "  [  5   5]]\n",
      "\n",
      " [[262   4]\n",
      "  [  7   0]]\n",
      "\n",
      " [[261   7]\n",
      "  [  4   1]]\n",
      "\n",
      " [[263   0]\n",
      "  [  9   1]]\n",
      "\n",
      " [[267   1]\n",
      "  [  4   1]]\n",
      "\n",
      " [[261   3]\n",
      "  [  8   1]]\n",
      "\n",
      " [[252   9]\n",
      "  [  9   3]]\n",
      "\n",
      " [[262   1]\n",
      "  [  6   4]]\n",
      "\n",
      " [[269   0]\n",
      "  [  3   1]]\n",
      "\n",
      " [[267   0]\n",
      "  [  3   3]]\n",
      "\n",
      " [[262   0]\n",
      "  [  9   2]]\n",
      "\n",
      " [[259   6]\n",
      "  [  5   3]]\n",
      "\n",
      " [[266   3]\n",
      "  [  4   0]]\n",
      "\n",
      " [[272   1]\n",
      "  [  0   0]]\n",
      "\n",
      " [[251   6]\n",
      "  [  8   8]]\n",
      "\n",
      " [[159  29]\n",
      "  [ 13  72]]\n",
      "\n",
      " [[189  36]\n",
      "  [ 21  27]]]\n"
     ]
    }
   ],
   "source": [
    "from sklearn.metrics import multilabel_confusion_matrix\n",
    "\n",
    "y_pred = model.predict(X_test)\n",
    "print(multilabel_confusion_matrix(y_test.argmax(axis=1), y_pred.argmax(axis=1)))"
   ]
  },
  {
   "cell_type": "code",
   "execution_count": 45,
   "metadata": {},
   "outputs": [
    {
     "name": "stdout",
     "output_type": "stream",
     "text": [
      "10/10 [==============================] - 0s 14ms/step\n",
      "[0.42857143 0.2        0.625      0.         0.125      1.\n",
      " 0.5        0.25       0.25       0.8        1.         1.\n",
      " 1.         0.33333333 0.         0.         0.57142857 0.71287129\n",
      " 0.42857143]\n",
      "[0.23076923 0.5        0.5        0.         0.2        0.1\n",
      " 0.2        0.11111111 0.25       0.4        0.25       0.5\n",
      " 0.18181818 0.375      0.         0.         0.5        0.84705882\n",
      " 0.5625    ]\n",
      "0.5128205128205128\n",
      "0.5128205128205128\n"
     ]
    },
    {
     "name": "stderr",
     "output_type": "stream",
     "text": [
      "D:\\anaconda3\\lib\\site-packages\\sklearn\\metrics\\_classification.py:1221: UndefinedMetricWarning: Recall is ill-defined and being set to 0.0 in labels with no true samples. Use `zero_division` parameter to control this behavior.\n",
      "  _warn_prf(average, modifier, msg_start, len(result))\n"
     ]
    }
   ],
   "source": [
    "from sklearn.metrics import precision_score, recall_score\n",
    "\n",
    "y_pred = model.predict(X_test, batch_size=30, verbose=1)\n",
    "\n",
    "print(precision_score(y_test.argmax(axis=1), y_pred.argmax(axis=1), average=None)) # precision 개별 값\n",
    "print(recall_score(y_test.argmax(axis=1), y_pred.argmax(axis=1), average=None))\n",
    "\n",
    "print(precision_score(y_test.argmax(axis=1), y_pred.argmax(axis=1), average='micro')) # precision 평균 값\n",
    "print(recall_score(y_test.argmax(axis=1), y_pred.argmax(axis=1), average='micro'))"
   ]
  },
  {
   "cell_type": "code",
   "execution_count": 46,
   "metadata": {},
   "outputs": [],
   "source": [
    "model.save(\"./model_saved.h5\")"
   ]
  },
  {
   "cell_type": "code",
   "execution_count": 47,
   "metadata": {},
   "outputs": [
    {
     "name": "stdout",
     "output_type": "stream",
     "text": [
      "10/10 [==============================] - 0s 15ms/step - loss: 1.9733 - accuracy: 0.5128\n",
      "0.5128205418586731\n"
     ]
    }
   ],
   "source": [
    "print(model.evaluate(X_test, y_test , batch_size=30)[1])"
   ]
  },
  {
   "cell_type": "code",
   "execution_count": 48,
   "metadata": {},
   "outputs": [
    {
     "data": {
      "image/png": "[encoded data removed]",
      "text/plain": [
       "<Figure size 432x288 with 1 Axes>"
      ]
     },
     "metadata": {
      "needs_background": "light"
     },
     "output_type": "display_data"
    }
   ],
   "source": [
    "# 모델 손실 표시\n",
    "\n",
    "import matplotlib.pyplot as plt\n",
    "\n",
    "y_vloss = history.history['val_loss']\n",
    "y_loss = history.history['loss']\n",
    "\n",
    "x_len = np.arange(len(y_loss))\n",
    "\n",
    "plt.plot(x_len, y_vloss, marker='.', c='red', label='val_set_loss')\n",
    "plt.plot(x_len, y_loss, marker='.', c='blue', label='train_set_loss')\n",
    "plt.legend()\n",
    "plt.xlabel('epochs')\n",
    "plt.ylabel('loss')\n",
    "plt.grid()\n",
    "plt.show()"
   ]
  },
  {
   "cell_type": "code",
   "execution_count": 49,
   "metadata": {},
   "outputs": [
    {
     "data": {
      "image/png": "[encoded data removed]",
      "text/plain": [
       "<Figure size 432x288 with 1 Axes>"
      ]
     },
     "metadata": {
      "needs_background": "light"
     },
     "output_type": "display_data"
    }
   ],
   "source": [
    "#모델 정확도 표시\n",
    "\n",
    "y_vacc = history.history['val_accuracy'] # tensorflow 버전 변화로 acc -> accruacy로 변경\n",
    "y_acc = history.history['accuracy']\n",
    "\n",
    "x_len = np.arange(len(y_vacc))\n",
    "\n",
    "plt.plot(x_len, y_vacc, marker='.', c='red', label='val_set_acc')\n",
    "plt.plot(x_len, y_acc, marker='.', c='blue', label='train_set_acc')\n",
    "plt.legend()\n",
    "plt.xlabel('epochs')\n",
    "plt.ylabel('acc')\n",
    "plt.grid()\n",
    "plt.show()"
   ]
  },
  {
   "cell_type": "code",
   "execution_count": 51,
   "metadata": {
    "scrolled": false
   },
   "outputs": [
    {
     "name": "stdout",
     "output_type": "stream",
     "text": [
      "[0.0000000e+00 0.0000000e+00 0.0000000e+00 0.0000000e+00 0.0000000e+00\n",
      " 0.0000000e+00 0.0000000e+00 0.0000000e+00 0.0000000e+00 0.0000000e+00\n",
      " 0.0000000e+00 0.0000000e+00 0.0000000e+00 4.3619768e-26 0.0000000e+00\n",
      " 0.0000000e+00 0.0000000e+00 0.0000000e+00 0.0000000e+00 9.6389599e-20\n",
      " 1.0000000e+00]\n",
      "20\n",
      "해당 이미지는 non_ad(으)로 추정됩니다.\n",
      "[0. 0. 0. 0. 0. 0. 0. 0. 0. 0. 0. 0. 0. 0. 0. 0. 0. 0. 0. 1. 0.]\n",
      "19\n",
      "해당 이미지는 class e(으)로 추정됩니다.\n",
      "[0. 0. 0. 0. 0. 0. 0. 0. 0. 0. 0. 0. 0. 0. 0. 0. 0. 0. 0. 1. 0.]\n",
      "19\n",
      "해당 이미지는 class e(으)로 추정됩니다.\n",
      "[0. 0. 0. 0. 0. 0. 0. 0. 0. 0. 0. 0. 0. 0. 0. 0. 0. 0. 0. 1. 0.]\n",
      "19\n",
      "해당 이미지는 class e(으)로 추정됩니다.\n",
      "[0. 0. 0. 0. 0. 0. 0. 0. 0. 0. 0. 0. 0. 0. 0. 0. 0. 0. 0. 0. 1.]\n",
      "20\n",
      "해당 이미지는 non_ad(으)로 추정됩니다.\n",
      "[0. 0. 0. 0. 0. 0. 0. 0. 0. 0. 0. 0. 0. 0. 0. 0. 0. 0. 0. 0. 1.]\n",
      "20\n",
      "해당 이미지는 non_ad(으)로 추정됩니다.\n",
      "[0.0000000e+00 0.0000000e+00 0.0000000e+00 0.0000000e+00 0.0000000e+00\n",
      " 0.0000000e+00 0.0000000e+00 0.0000000e+00 0.0000000e+00 0.0000000e+00\n",
      " 0.0000000e+00 0.0000000e+00 1.2210359e-07 0.0000000e+00 0.0000000e+00\n",
      " 0.0000000e+00 0.0000000e+00 0.0000000e+00 0.0000000e+00 9.9999988e-01\n",
      " 0.0000000e+00]\n",
      "19\n",
      "해당 이미지는 class e(으)로 추정됩니다.\n",
      "[0. 0. 0. 0. 0. 0. 0. 0. 0. 0. 0. 0. 0. 0. 0. 0. 0. 0. 0. 1. 0.]\n",
      "19\n",
      "해당 이미지는 class e(으)로 추정됩니다.\n",
      "[0. 0. 0. 0. 0. 0. 0. 0. 0. 0. 0. 0. 0. 0. 0. 0. 0. 0. 0. 1. 0.]\n",
      "19\n",
      "해당 이미지는 class e(으)로 추정됩니다.\n"
     ]
    }
   ],
   "source": [
    "from tensorflow.keras.models import load_model\n",
    "\n",
    "# 테스트 이미지 분류 -> confusion matrix 평가\n",
    "\n",
    "category_dir = \"./multi_cnn/test\"\n",
    "\n",
    "image_width, image_height = 64, 64\n",
    "\n",
    "X=[]\n",
    "filenames = []\n",
    "files = glob.glob(category_dir+\"/*.*\") # 테스트 폴더의 이미지 탐색\n",
    "\n",
    "# opencv 사용, 파일 불러오기\n",
    "\n",
    "for i, f in enumerate(files):\n",
    "    \n",
    "    image_bgr = cv2.imread(f, cv2.IMREAD_COLOR)\n",
    "    image_rgb = cv2.cvtColor(image_bgr, cv2.COLOR_BGR2RGB) # RGB 값으로 변환\n",
    "        \n",
    "    img = cv2.resize(image_rgb, (image_width, image_height))\n",
    "    data = np.asarray(img)\n",
    "        \n",
    "    X.append(data)\n",
    "    \n",
    "X = np.array(X)\n",
    "\n",
    "model = load_model(\"./model_saved.h5\") # 저장된 모델 호출\n",
    "prediction = model.predict(X)\n",
    "\n",
    "for i in prediction:\n",
    "    pre_ans = i.argmax() # 가장 큰 값 저장\n",
    "    print(i)\n",
    "    print(pre_ans)\n",
    "    pre_ans_str = ''\n",
    "    \n",
    "    # 해당 카테고리를 구분\n",
    "    # 특정 부분을 구별하여 하나의 카테고리롤 묶음\n",
    "    \n",
    "    if pre_ans == 0 or pre_ans == 1 or pre_ans == 2 or pre_ans == 3 or pre_ans == 4 or pre_ans == 5 or pre_ans == 6 or pre_ans == 7:\n",
    "        pre_ans_str = \"class a\"\n",
    "    elif pre_ans == 8:\n",
    "        pre_ans_str = \"class b\"\n",
    "    elif pre_ans == 9 or pre_ans == 10 or pre_ans == 11 or pre_ans == 12 or pre_ans == 13 or pre_ans == 14 or pre_ans == 15 or pre_ans == 16 or pre_ans == 17 or pre_ans == 18:\n",
    "        pre_ans_str = \"class d\"\n",
    "    elif pre_ans == 19:\n",
    "        pre_ans_str = \"class e\"\n",
    "    else:\n",
    "        pre_ans_str = \"non_ad\"\n",
    "\n",
    "\n",
    "    if pre_ans_str == \"class a\":\n",
    "        print(\"해당 이미지는 \" + pre_ans_str + \"(으)로 추정됩니다.\")\n",
    "    elif pre_ans_str == \"class b\":\n",
    "        print(\"해당 이미지는 \" + pre_ans_str + \"(으)로 추정됩니다.\")\n",
    "    elif pre_ans_str == \"class d\":\n",
    "        print(\"해당 이미지는 \" + pre_ans_str + \"(으)로 추정됩니다.\")\n",
    "    elif pre_ans_str == \"class e\":\n",
    "        print(\"해당 이미지는 \" + pre_ans_str + \"(으)로 추정됩니다.\")\n",
    "    elif pre_ans_str == \"non_ad\":\n",
    "        print(\"해당 이미지는 \" + pre_ans_str + \"(으)로 추정됩니다.\")"
   ]
  },
  {
   "cell_type": "code",
   "execution_count": null,
   "metadata": {},
   "outputs": [],
   "source": []
  }
 ],
 "metadata": {
  "kernelspec": {
   "display_name": "Python 3",
   "language": "python",
   "name": "python3"
  },
  "language_info": {
   "codemirror_mode": {
    "name": "ipython",
    "version": 3
   },
   "file_extension": ".py",
   "mimetype": "text/x-python",
   "name": "python",
   "nbconvert_exporter": "python",
   "pygments_lexer": "ipython3",
   "version": "3.8.5"
  }
 },
 "nbformat": 4,
 "nbformat_minor": 4
}
