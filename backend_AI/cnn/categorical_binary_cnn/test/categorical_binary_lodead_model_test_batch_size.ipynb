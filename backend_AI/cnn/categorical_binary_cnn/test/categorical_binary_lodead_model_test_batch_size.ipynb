{
 "cells": [
  {
   "cell_type": "code",
   "execution_count": 1,
   "id": "dc813330",
   "metadata": {},
   "outputs": [],
   "source": [
    "def data_generator(file, image_width, image_height):\n",
    "    img_bgr = cv2.imread(file, cv2.IMREAD_COLOR)\n",
    "    img_rgb = cv2.cvtColor(img_bgr, cv2.COLOR_BGR2RGB)\n",
    "    img = cv2.resize(img_rgb, (image_width, image_height))\n",
    "\n",
    "    return img"
   ]
  },
  {
   "cell_type": "code",
   "execution_count": 2,
   "id": "4f9b3127",
   "metadata": {},
   "outputs": [
    {
     "name": "stdout",
     "output_type": "stream",
     "text": [
      "639 639 639\n"
     ]
    },
    {
     "data": {
      "text/plain": [
       "'인자 바꾸기'"
      ]
     },
     "execution_count": 2,
     "metadata": {},
     "output_type": "execute_result"
    }
   ],
   "source": [
    "import cv2\n",
    "import os, glob, numpy as np\n",
    "from tensorflow.keras.models import load_model\n",
    "import tensorflow as tf\n",
    "\n",
    "img_dir = './categorical_binary_cnn/test'\n",
    "categories = ['bill', 'coin', 'general_product', 'graph', 'human', 'lotto_N',\n",
    "             'lotto_P', 'microbe', 'part_of_human', 'photoshop', 'picture', 'non_ad']\n",
    "\n",
    "\n",
    "image_width = 140 # 사이즈 수정\n",
    "image_height = 140\n",
    "\n",
    "X = []\n",
    "y = []\n",
    "y_bi = []\n",
    "index = []\n",
    "cat_index = []\n",
    "files = []\n",
    "filenames = []\n",
    "\n",
    "for i, category in enumerate(categories):\n",
    "    img_detail = os.path.join(img_dir, category)\n",
    "    files.append(glob.glob(img_detail + \"/*.jpg\"))\n",
    "    index.append(i)\n",
    " \n",
    "    \n",
    "for file, i in zip(files, index):\n",
    "    for f in file:\n",
    "        label = [0 for r in range(len(categories))]\n",
    "        label[i] = 1\n",
    "        \n",
    "        img = data_generator(f, image_width, image_height)\n",
    "        data = np.asarray(img)\n",
    "\n",
    "        head, tail = os.path.split(f)\n",
    "        filenames.append(tail)\n",
    "        \n",
    "        X.append(data)\n",
    "        y.append(label)\n",
    "        \n",
    "        if i in range(11):\n",
    "            y_bi.append(0)\n",
    "        else:\n",
    "            y_bi.append(1)\n",
    "\n",
    "    \n",
    "X = np.array(X)\n",
    "y = np.array(y)\n",
    "y_bi = np.array(y_bi)\n",
    "\n",
    "X = X.astype('float32') / 255\n",
    "\n",
    "print(len(X), len(y), len(y_bi))\n",
    "\n",
    "\"\"\"인자 바꾸기\"\"\"\n",
    "\n"
   ]
  },
  {
   "cell_type": "code",
   "execution_count": 3,
   "id": "3d38cf68",
   "metadata": {},
   "outputs": [],
   "source": [
    "def print_binary_scores(y_bi, binary_prediction):\n",
    "    \n",
    "    print('##################카테고리를 통한 이진 분류 결과 ##############')\n",
    "    print('confusion matrix 결과')\n",
    "    print(confusion_matrix(y_bi, binary_prediction, labels=[0, 1])) # 0 : 광고 1: 비광고\n",
    "\n",
    "    print('precision 개별값')\n",
    "    print(list(map('{:2.2f}%'.format, precision_score(y_bi, binary_prediction, average=None) * 100))) # precision 개별 값\n",
    "    print('recall 개별값')\n",
    "    print(list(map('{:2.2f}%'.format, recall_score(y_bi, binary_prediction, average=None) * 100)))\n",
    "\n",
    "    #print('evaluate값')\n",
    "    #print('{:2.2f}%'.format(model.evaluate(X, y)[1] * 100))\n",
    "    \n",
    "    print('f1 점수')\n",
    "    print('{:2.2f}%'.format(f1_score(y_bi, binary_prediction, average='macro') * 100))\n",
    "\n",
    "    print('precision 평균값')\n",
    "    print('{:2.2f}%'.format(precision_score(y_bi, binary_prediction, average='macro') * 100)) # precision 평균 값\n",
    "    \n",
    "    print('recall 평균값')\n",
    "    print('{:2.2f}%'.format(recall_score(y_bi, binary_prediction, average='macro') * 100))\n",
    "    \n",
    "    print('##################카테고리를 통한 이진 분류 결과 ##############')"
   ]
  },
  {
   "cell_type": "code",
   "execution_count": 4,
   "id": "b275a011",
   "metadata": {},
   "outputs": [],
   "source": [
    "def print_cat_scores(X, y, prediction):\n",
    "    \n",
    "    print('################## 다중 분류 결과 ###################')\n",
    "    #print('confusion matrix 결과')\n",
    "    #print(multilabel_confusion_matrix(y.argmax(axis=1), prediction, labels=[0 for r in range(12)])) # 0 : 광고 1: 비광고\n",
    "\n",
    "    print('precision 개별값')\n",
    "    print(list(map('{:2.2f}%'.format, precision_score(y.argmax(axis=1), prediction, average=None) * 100))) # precision 개별 값\n",
    "    print('recall 개별값')\n",
    "    print(list(map('{:2.2f}%'.format, recall_score(y.argmax(axis=1), prediction, average=None) * 100)))\n",
    "\n",
    "    print('evaluate값')\n",
    "    print('{:2.2f}%'.format(model.evaluate(X, y)[1] * 100))\n",
    "    \n",
    "    print('f1 점수')\n",
    "    print('{:2.2f}%'.format(f1_score(y.argmax(axis=1), prediction, average='macro') * 100))\n",
    "\n",
    "    print('precision 평균값')\n",
    "    print('{:2.2f}%'.format(precision_score(y.argmax(axis=1), prediction, average='macro') * 100)) # precision 평균 값\n",
    "    \n",
    "    print('recall 평균값')\n",
    "    print('{:2.2f}%'.format(recall_score(y.argmax(axis=1), prediction, average='macro') * 100))\n",
    "    \n",
    "    print('################## 다중 분류 결과 ###################')"
   ]
  },
  {
   "cell_type": "code",
   "execution_count": 5,
   "id": "d7084e10",
   "metadata": {
    "scrolled": true
   },
   "outputs": [
    {
     "name": "stderr",
     "output_type": "stream",
     "text": [
      "Using TensorFlow backend.\n"
     ]
    },
    {
     "name": "stdout",
     "output_type": "stream",
     "text": [
      "WARNING:tensorflow:From C:\\ProgramData\\Anaconda3\\envs\\tensorflow-keras\\lib\\site-packages\\tensorflow\\python\\ops\\resource_variable_ops.py:435: colocate_with (from tensorflow.python.framework.ops) is deprecated and will be removed in a future version.\n",
      "Instructions for updating:\n",
      "Colocations handled automatically by placer.\n",
      "WARNING:tensorflow:From C:\\ProgramData\\Anaconda3\\envs\\tensorflow-keras\\lib\\site-packages\\tensorflow\\python\\keras\\layers\\core.py:143: calling dropout (from tensorflow.python.ops.nn_ops) with keep_prob is deprecated and will be removed in a future version.\n",
      "Instructions for updating:\n",
      "Please use `rate` instead of `keep_prob`. Rate should be set to `rate = 1 - keep_prob`.\n",
      "WARNING:tensorflow:From C:\\ProgramData\\Anaconda3\\envs\\tensorflow-keras\\lib\\site-packages\\tensorflow\\python\\ops\\math_ops.py:3066: to_int32 (from tensorflow.python.ops.math_ops) is deprecated and will be removed in a future version.\n",
      "Instructions for updating:\n",
      "Use tf.cast instead.\n",
      "배치 : [32, 64, 128, 256]\n",
      "################## 다중 분류 결과 ###################\n",
      "precision 개별값\n",
      "['16.67%', '45.45%', '15.56%', '32.56%', '4.48%', '13.33%', '44.44%', '6.67%', '16.67%', '23.08%', '5.80%', '81.82%']\n",
      "recall 개별값\n",
      "['13.79%', '34.48%', '48.28%', '48.28%', '10.34%', '6.90%', '41.38%', '3.45%', '41.38%', '41.38%', '13.79%', '36.56%']\n",
      "evaluate값\n",
      "639/639 [==============================] - 1s 2ms/sample - loss: 3.8767 - acc: 0.3208\n",
      "32.08%\n",
      "f1 점수\n",
      "24.30%\n",
      "precision 평균값\n",
      "25.54%\n",
      "recall 평균값\n",
      "28.33%\n",
      "################## 다중 분류 결과 ###################\n",
      "##################카테고리를 통한 이진 분류 결과 ##############\n",
      "confusion matrix 결과\n",
      "[[293  26]\n",
      " [203 117]]\n",
      "precision 개별값\n",
      "['59.07%', '81.82%']\n",
      "recall 개별값\n",
      "['91.85%', '36.56%']\n",
      "f1 점수\n",
      "61.22%\n",
      "precision 평균값\n",
      "70.45%\n",
      "recall 평균값\n",
      "64.21%\n",
      "##################카테고리를 통한 이진 분류 결과 ##############\n",
      "639/639 [==============================] - 1s 810us/sample - loss: 3.8767 - acc: 0.3208\n",
      "배치 : [32, 64, 128, 256]\n",
      "################## 다중 분류 결과 ###################\n",
      "precision 개별값\n",
      "['11.11%', '44.44%', '11.71%', '28.21%', '7.84%', '57.14%', '34.62%', '11.11%', '13.89%', '27.91%', '18.42%', '86.27%']\n",
      "recall 개별값\n",
      "['6.90%', '13.79%', '44.83%', '37.93%', '13.79%', '13.79%', '31.03%', '13.79%', '51.72%', '41.38%', '24.14%', '41.25%']\n",
      "evaluate값\n",
      "639/639 [==============================] - 1s 2ms/sample - loss: 3.4192 - acc: 0.3396\n",
      "33.96%\n",
      "f1 점수\n",
      "24.14%\n",
      "precision 평균값\n",
      "29.39%\n",
      "recall 평균값\n",
      "27.86%\n",
      "################## 다중 분류 결과 ###################\n",
      "##################카테고리를 통한 이진 분류 결과 ##############\n",
      "confusion matrix 결과\n",
      "[[298  21]\n",
      " [188 132]]\n",
      "precision 개별값\n",
      "['61.32%', '86.27%']\n",
      "recall 개별값\n",
      "['93.42%', '41.25%']\n",
      "f1 점수\n",
      "64.93%\n",
      "precision 평균값\n",
      "73.80%\n",
      "recall 평균값\n",
      "67.33%\n",
      "##################카테고리를 통한 이진 분류 결과 ##############\n",
      "639/639 [==============================] - 1s 865us/sample - loss: 3.4192 - acc: 0.3396\n",
      "배치 : [32, 64, 128, 256]\n",
      "################## 다중 분류 결과 ###################\n",
      "precision 개별값\n",
      "['9.78%', '40.00%', '6.10%', '23.53%', '6.06%', '0.00%', '6.99%', '42.86%', '14.29%', '100.00%', '14.81%', '87.50%']\n",
      "recall 개별값\n",
      "['31.03%', '6.90%', '34.48%', '13.79%', '6.90%', '0.00%', '55.17%', '10.34%', '27.59%', '3.45%', '13.79%', '2.19%']\n",
      "evaluate값\n"
     ]
    },
    {
     "name": "stderr",
     "output_type": "stream",
     "text": [
      "C:\\ProgramData\\Anaconda3\\envs\\tensorflow-keras\\lib\\site-packages\\sklearn\\metrics\\_classification.py:1272: UndefinedMetricWarning: Precision is ill-defined and being set to 0.0 in labels with no predicted samples. Use `zero_division` parameter to control this behavior.\n",
      "  _warn_prf(average, modifier, msg_start, len(result))\n"
     ]
    },
    {
     "name": "stdout",
     "output_type": "stream",
     "text": [
      "639/639 [==============================] - 1s 2ms/sample - loss: 4.9960 - acc: 0.1033\n",
      "10.33%\n",
      "f1 점수\n",
      "11.16%\n",
      "precision 평균값\n",
      "29.33%\n",
      "recall 평균값\n",
      "17.14%\n",
      "################## 다중 분류 결과 ###################\n",
      "##################카테고리를 통한 이진 분류 결과 ##############\n",
      "confusion matrix 결과\n",
      "[[318   1]\n",
      " [313   7]]\n",
      "precision 개별값\n",
      "['50.40%', '87.50%']\n",
      "recall 개별값\n",
      "['99.69%', '2.19%']\n",
      "f1 점수\n",
      "35.61%\n",
      "precision 평균값\n",
      "68.95%\n",
      "recall 평균값\n",
      "50.94%\n",
      "##################카테고리를 통한 이진 분류 결과 ##############\n",
      "639/639 [==============================] - 1s 854us/sample - loss: 4.9960 - acc: 0.1033\n",
      "배치 : [32, 64, 128, 256]\n",
      "################## 다중 분류 결과 ###################\n",
      "precision 개별값\n",
      "['1.37%', '0.00%', '5.77%', '0.00%', '5.56%', '0.00%', '6.05%', '0.00%', '0.00%', '0.00%', '0.00%', '0.00%']\n",
      "recall 개별값\n",
      "['3.45%', '0.00%', '10.34%', '0.00%', '3.45%', '0.00%', '100.00%', '0.00%', '0.00%', '0.00%', '0.00%', '0.00%']\n",
      "evaluate값\n",
      "639/639 [==============================] - 1s 2ms/sample - loss: 4.4994 - acc: 0.0532\n",
      "5.32%\n",
      "f1 점수\n",
      "2.09%\n",
      "precision 평균값\n",
      "1.56%\n",
      "recall 평균값\n",
      "9.77%\n",
      "################## 다중 분류 결과 ###################\n",
      "##################카테고리를 통한 이진 분류 결과 ##############\n",
      "confusion matrix 결과\n",
      "[[319   0]\n",
      " [320   0]]\n",
      "precision 개별값\n",
      "['49.92%', '0.00%']\n",
      "recall 개별값\n",
      "['100.00%', '0.00%']\n",
      "f1 점수\n",
      "33.30%\n",
      "precision 평균값\n",
      "24.96%\n",
      "recall 평균값\n",
      "50.00%\n",
      "##################카테고리를 통한 이진 분류 결과 ##############\n",
      "639/639 [==============================] - 1s 865us/sample - loss: 4.4994 - acc: 0.0532\n"
     ]
    },
    {
     "data": {
      "text/plain": [
       "'수정 필요한 부분'"
      ]
     },
     "execution_count": 5,
     "metadata": {},
     "output_type": "execute_result"
    }
   ],
   "source": [
    "import keras.backend.tensorflow_backend as K\n",
    "\n",
    "from sklearn.metrics import confusion_matrix\n",
    "from sklearn.metrics import multilabel_confusion_matrix\n",
    "from sklearn.metrics import recall_score\n",
    "from sklearn.metrics import precision_score\n",
    "from sklearn.metrics import f1_score\n",
    "\n",
    "\"\"\"수정 필요한 부분\"\"\"\n",
    "\n",
    "# validation_rate = [0.05, 0.1, 0.15, 0.2]  # 리스트 바꾸기\n",
    "#image_size = [32, 40, 50, 64, 70, 80, 90, 100, 110, 120, 130, 140, 150, 160, 170, 180,\n",
    "  #           190, 200, 210, 220, 230, 240, 256]\n",
    "\n",
    "#model_layers = [2, 3, 4, 5, 6, 7, 8, 9, 10]\n",
    "#epochs = [5, 10, 15, 20, 25, 30, 35, 40, 45, 50]\n",
    "\n",
    "#learning_rate = [0.01, 0.02, 0.03, 0.04, 0.05]\n",
    "#Dropout = [0.15]\n",
    "#optimizer = ['adam', 'sgd', 'adagrad', 'rmsprop', 'nadam']\n",
    "#epochs = [25, 30, 35, 40, 45, 50]\n",
    "\n",
    "batch_list = [32, 64, 128, 256]\n",
    "\n",
    "model_evaluate = []\n",
    "\n",
    "bi_f1 = []\n",
    "bi_precision = []\n",
    "bi_recall = []\n",
    "\n",
    "cat_f1 = []\n",
    "cat_precision = []\n",
    "cat_recall = []\n",
    "\n",
    "\n",
    "\n",
    "for batch in batch_list: #반복문 요소 바꾸기\n",
    "    binary_prediction = []\n",
    "    ind = []\n",
    "    model = load_model('./categorical_binary_cnn/models/batch_size/categorical_binary_model_saved' + str(batch) + '.h5')\n",
    "    ##############파일 인자 수정하기 ##############\n",
    "    with K.tf_ops.device('/device:GPU:0'):\n",
    "        prediction = model.predict(X)\n",
    "        \n",
    "        np.set_printoptions(formatter={'float': lambda x: \"{0:0.3f}\".format(x)}) # 소수점 3자리까지\n",
    "    \n",
    "    #print(prediction)\n",
    "    \n",
    "    for p in prediction:\n",
    "        ind.append(p.argmax())\n",
    "        \n",
    "        if p.argmax() in range(11):\n",
    "            binary_prediction.append(0)\n",
    "        else:\n",
    "            binary_prediction.append(1)\n",
    "    \n",
    "    prediction = ind\n",
    "    \n",
    "    #print('예측값: ', prediction)\n",
    "              \n",
    "    print('배치 : ' + str(batch_list)) ####### 수정\n",
    "    print_cat_scores(X, y, prediction)\n",
    "    print_binary_scores(y_bi, binary_prediction)\n",
    "    \n",
    "    \n",
    "    bi_precision.append(precision_score(y_bi, binary_prediction, average='macro') * 100)\n",
    "    bi_recall.append(recall_score(y_bi, binary_prediction, average='macro') * 100)\n",
    "    bi_f1.append(f1_score(y_bi, binary_prediction, average='macro') * 100)\n",
    "    \n",
    "    model_evaluate.append(model.evaluate(X, y)[1] * 100)\n",
    "    cat_precision.append(precision_score(y.argmax(axis=1), prediction, average='macro') * 100)\n",
    "    cat_recall.append(recall_score(y.argmax(axis=1), prediction, average='macro') * 100)\n",
    "    cat_f1.append(f1_score(y.argmax(axis=1), prediction, average='macro') * 100)\n",
    "    \n",
    "\"\"\"수정 필요한 부분\"\"\""
   ]
  },
  {
   "cell_type": "code",
   "execution_count": 6,
   "id": "5104111c",
   "metadata": {},
   "outputs": [
    {
     "data": {
      "text/plain": [
       "'수정 필요한 부분'"
      ]
     },
     "execution_count": 6,
     "metadata": {},
     "output_type": "execute_result"
    },
    {
     "data": {
      "image/png": "[encoded data removed]",
      "text/plain": [
       "<Figure size 432x288 with 1 Axes>"
      ]
     },
     "metadata": {
      "needs_background": "light"
     },
     "output_type": "display_data"
    }
   ],
   "source": [
    "import matplotlib.pyplot as plt\n",
    "\n",
    "\"\"\"이진 카테고리 분류\"\"\"\n",
    "\n",
    "\"\"\"수정 필요한 부분\"\"\"\n",
    "\n",
    "plt.plot(batch_list, bi_precision, 'ro-', label='precision') # 리스트 수정\n",
    "plt.plot(batch_list, bi_recall, 'bo-', label='recall')\n",
    "plt.plot(batch_list, bi_f1, 'go-', label='f1')\n",
    "#plt.plot(optimizer, model_evaluate, 'yo-', label='evaluate')\n",
    "plt.xlabel('batch') # xlabel 수정\n",
    "plt.ylabel('accuracy')\n",
    "plt.legend()\n",
    "\n",
    "\"\"\"수정 필요한 부분\"\"\""
   ]
  },
  {
   "cell_type": "code",
   "execution_count": 7,
   "id": "604bf431",
   "metadata": {
    "scrolled": true
   },
   "outputs": [
    {
     "data": {
      "text/plain": [
       "'수정 필요한 부분'"
      ]
     },
     "execution_count": 7,
     "metadata": {},
     "output_type": "execute_result"
    },
    {
     "data": {
      "image/png": "[encoded data removed]",
      "text/plain": [
       "<Figure size 432x288 with 1 Axes>"
      ]
     },
     "metadata": {
      "needs_background": "light"
     },
     "output_type": "display_data"
    }
   ],
   "source": [
    "import matplotlib.pyplot as plt\n",
    "\n",
    "\"\"\"카테고리 분류 \"\"\"\n",
    "\n",
    "\"\"\"수정 필요한 부분\"\"\"\n",
    "\n",
    "plt.plot(batch_list, cat_precision, 'ro-', label='precision') # 리스트 수정\n",
    "plt.plot(batch_list, cat_recall, 'bo-', label='recall')\n",
    "plt.plot(batch_list, cat_f1, 'go-', label='f1')\n",
    "plt.plot(batch_list, model_evaluate, 'yo-', label='evaluate')\n",
    "plt.xlabel('batch') # xlabel 수정\n",
    "plt.ylabel('accuracy')\n",
    "plt.legend()\n",
    "\n",
    "\"\"\"수정 필요한 부분\"\"\""
   ]
  },
  {
   "cell_type": "code",
   "execution_count": null,
   "id": "30c16776",
   "metadata": {},
   "outputs": [],
   "source": []
  }
 ],
 "metadata": {
  "kernelspec": {
   "display_name": "Python 3",
   "language": "python",
   "name": "python3"
  },
  "language_info": {
   "codemirror_mode": {
    "name": "ipython",
    "version": 3
   },
   "file_extension": ".py",
   "mimetype": "text/x-python",
   "name": "python",
   "nbconvert_exporter": "python",
   "pygments_lexer": "ipython3",
   "version": "3.6.10"
  }
 },
 "nbformat": 4,
 "nbformat_minor": 5
}
