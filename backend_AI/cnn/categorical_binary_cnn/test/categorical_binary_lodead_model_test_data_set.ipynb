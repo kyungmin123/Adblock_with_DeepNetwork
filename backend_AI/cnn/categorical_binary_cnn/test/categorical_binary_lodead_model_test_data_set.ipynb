{
 "cells": [
  {
   "cell_type": "code",
   "execution_count": 1,
   "id": "dc813330",
   "metadata": {},
   "outputs": [],
   "source": [
    "def data_generator(file, image_width, image_height):\n",
    "\n",
    "    img_bgr = cv2.imread(file, cv2.IMREAD_COLOR)\n",
    "    img_rgb = cv2.cvtColor(img_bgr, cv2.COLOR_BGR2RGB)\n",
    "    img = cv2.resize(img_rgb, (image_width, image_height))\n",
    "\n",
    "    return img"
   ]
  },
  {
   "cell_type": "code",
   "execution_count": 2,
   "id": "4f9b3127",
   "metadata": {},
   "outputs": [
    {
     "name": "stdout",
     "output_type": "stream",
     "text": [
      "에러 : ./categorical_binary_cnn/test\\photoshop\\4- (79).jpg C:\\bld\\opencv_1497798192218\\work\\opencv-3.2.0\\modules\\imgproc\\src\\color.cpp:9716: error: (-215) scn == 3 || scn == 4 in function cv::cvtColor\n",
      "\n",
      "439 439 439\n"
     ]
    },
    {
     "data": {
      "text/plain": [
       "'인자 바꾸기'"
      ]
     },
     "execution_count": 2,
     "metadata": {},
     "output_type": "execute_result"
    }
   ],
   "source": [
    "import cv2\n",
    "import os, glob, numpy as np\n",
    "from tensorflow.keras.models import load_model\n",
    "import tensorflow as tf\n",
    "\n",
    "img_dir = './categorical_binary_cnn/test'\n",
    "categories = ['bill', 'coin', 'general_product', 'graph', 'human', 'lotto_N',\n",
    "             'lotto_P', 'microbe', 'part_of_human', 'photoshop', 'picture', 'non_ad']\n",
    "\n",
    "\n",
    "image_width = 140 # 사이즈 수정\n",
    "image_height = 140\n",
    "\n",
    "X = []\n",
    "y = []\n",
    "y_bi = []\n",
    "index = []\n",
    "cat_index = []\n",
    "files = []\n",
    "filenames = []\n",
    "\n",
    "for i, category in enumerate(categories):\n",
    "    img_detail = os.path.join(img_dir, category)\n",
    "    files.append(glob.glob(img_detail + \"/*.jpg\"))\n",
    "    index.append(i)\n",
    " \n",
    "    \n",
    "for file, i in zip(files, index):\n",
    "    for f in file:\n",
    "        label = [0 for r in range(len(categories))]\n",
    "        label[i] = 1\n",
    "        \n",
    "        try:\n",
    "            img = data_generator(f, image_width, image_height)\n",
    "        \n",
    "            data = np.asarray(img)\n",
    "\n",
    "            head, tail = os.path.split(f)\n",
    "            filenames.append(tail)\n",
    "\n",
    "            X.append(data)\n",
    "            y.append(label)\n",
    "\n",
    "            if i in range(11):\n",
    "                y_bi.append(0)\n",
    "            else:\n",
    "                y_bi.append(1)\n",
    "                \n",
    "        except Exception as e:\n",
    "            print('에러 : ' + f, e)\n",
    "            pass\n",
    "\n",
    "    \n",
    "X = np.array(X)\n",
    "y = np.array(y)\n",
    "y_bi = np.array(y_bi)\n",
    "\n",
    "X = X.astype('float32') / 255\n",
    "\n",
    "print(len(X), len(y), len(y_bi))\n",
    "\n",
    "\"\"\"인자 바꾸기\"\"\"\n",
    "\n"
   ]
  },
  {
   "cell_type": "code",
   "execution_count": 3,
   "id": "3d38cf68",
   "metadata": {},
   "outputs": [],
   "source": [
    "def print_binary_scores(y_bi, binary_prediction):\n",
    "    \n",
    "    print('##################카테고리를 통한 이진 분류 결과 ##############')\n",
    "    print('confusion matrix 결과')\n",
    "    print(confusion_matrix(y_bi, binary_prediction, labels=[0, 1])) # 0 : 광고 1: 비광고\n",
    "\n",
    "    print('precision 개별값')\n",
    "    print(list(map('{:2.2f}%'.format, precision_score(y_bi, binary_prediction, average=None) * 100))) # precision 개별 값\n",
    "    print('recall 개별값')\n",
    "    print(list(map('{:2.2f}%'.format, recall_score(y_bi, binary_prediction, average=None) * 100)))\n",
    "\n",
    "    #print('evaluate값')\n",
    "    #print('{:2.2f}%'.format(model.evaluate(X, y)[1] * 100))\n",
    "    \n",
    "    print('f1 점수')\n",
    "    print('{:2.2f}%'.format(f1_score(y_bi, binary_prediction, average='macro') * 100))\n",
    "\n",
    "    print('precision 평균값')\n",
    "    print('{:2.2f}%'.format(precision_score(y_bi, binary_prediction, average='macro') * 100)) # precision 평균 값\n",
    "    \n",
    "    print('recall 평균값')\n",
    "    print('{:2.2f}%'.format(recall_score(y_bi, binary_prediction, average='macro') * 100))\n",
    "    \n",
    "    print('##################카테고리를 통한 이진 분류 결과 ##############')"
   ]
  },
  {
   "cell_type": "code",
   "execution_count": 4,
   "id": "b275a011",
   "metadata": {},
   "outputs": [],
   "source": [
    "def print_cat_scores(X, y, prediction):\n",
    "    \n",
    "    print('################## 다중 분류 결과 ###################')\n",
    "    #print('confusion matrix 결과')\n",
    "    #print(multilabel_confusion_matrix(y.argmax(axis=1), prediction, labels=[0 for r in range(12)])) # 0 : 광고 1: 비광고\n",
    "\n",
    "    print('precision 개별값')\n",
    "    print(list(map('{:2.2f}%'.format, precision_score(y.argmax(axis=1), prediction, average=None) * 100))) # precision 개별 값\n",
    "    print('recall 개별값')\n",
    "    print(list(map('{:2.2f}%'.format, recall_score(y.argmax(axis=1), prediction, average=None) * 100)))\n",
    "\n",
    "    print('evaluate값')\n",
    "    print('{:2.2f}%'.format(model.evaluate(X, y)[1] * 100))\n",
    "    \n",
    "    print('f1 점수')\n",
    "    print('{:2.2f}%'.format(f1_score(y.argmax(axis=1), prediction, average='macro') * 100))\n",
    "\n",
    "    print('precision 평균값')\n",
    "    print('{:2.2f}%'.format(precision_score(y.argmax(axis=1), prediction, average='macro') * 100)) # precision 평균 값\n",
    "    \n",
    "    print('recall 평균값')\n",
    "    print('{:2.2f}%'.format(recall_score(y.argmax(axis=1), prediction, average='macro') * 100))\n",
    "    \n",
    "    print('################## 다중 분류 결과 ###################')"
   ]
  },
  {
   "cell_type": "code",
   "execution_count": 5,
   "id": "d7084e10",
   "metadata": {
    "scrolled": true
   },
   "outputs": [
    {
     "name": "stderr",
     "output_type": "stream",
     "text": [
      "Using TensorFlow backend.\n"
     ]
    },
    {
     "name": "stdout",
     "output_type": "stream",
     "text": [
      "WARNING:tensorflow:From C:\\ProgramData\\Anaconda3\\envs\\tensorflow-keras\\lib\\site-packages\\tensorflow\\python\\ops\\resource_variable_ops.py:435: colocate_with (from tensorflow.python.framework.ops) is deprecated and will be removed in a future version.\n",
      "Instructions for updating:\n",
      "Colocations handled automatically by placer.\n",
      "WARNING:tensorflow:From C:\\ProgramData\\Anaconda3\\envs\\tensorflow-keras\\lib\\site-packages\\tensorflow\\python\\keras\\layers\\core.py:143: calling dropout (from tensorflow.python.ops.nn_ops) with keep_prob is deprecated and will be removed in a future version.\n",
      "Instructions for updating:\n",
      "Please use `rate` instead of `keep_prob`. Rate should be set to `rate = 1 - keep_prob`.\n",
      "WARNING:tensorflow:From C:\\ProgramData\\Anaconda3\\envs\\tensorflow-keras\\lib\\site-packages\\tensorflow\\python\\ops\\math_ops.py:3066: to_int32 (from tensorflow.python.ops.math_ops) is deprecated and will be removed in a future version.\n",
      "Instructions for updating:\n",
      "Use tf.cast instead.\n",
      "데이터셋 : test_220\n",
      "################## 다중 분류 결과 ###################\n",
      "precision 개별값\n",
      "['40.00%', '25.00%', '20.69%', '15.79%', '10.00%', '11.11%', '52.38%', '25.00%', '40.00%', '12.87%', '11.63%', '85.48%']\n",
      "recall 개별값\n",
      "['10.00%', '25.00%', '30.00%', '15.00%', '30.00%', '5.00%', '55.00%', '15.00%', '30.00%', '68.42%', '50.00%', '24.09%']\n",
      "evaluate값\n",
      "439/439 [==============================] - 1s 2ms/sample - loss: 5.0946 - acc: 0.2711\n",
      "27.11%\n",
      "f1 점수\n",
      "23.97%\n",
      "precision 평균값\n",
      "29.16%\n",
      "recall 평균값\n",
      "29.79%\n",
      "################## 다중 분류 결과 ###################\n",
      "##################카테고리를 통한 이진 분류 결과 ##############\n",
      "confusion matrix 결과\n",
      "[[210   9]\n",
      " [167  53]]\n",
      "precision 개별값\n",
      "['55.70%', '85.48%']\n",
      "recall 개별값\n",
      "['95.89%', '24.09%']\n",
      "f1 점수\n",
      "54.03%\n",
      "precision 평균값\n",
      "70.59%\n",
      "recall 평균값\n",
      "59.99%\n",
      "##################카테고리를 통한 이진 분류 결과 ##############\n",
      "439/439 [==============================] - 0s 819us/sample - loss: 5.0946 - acc: 0.2711\n",
      "데이터셋 : test_320\n",
      "################## 다중 분류 결과 ###################\n",
      "precision 개별값\n",
      "['25.00%', '50.00%', '20.83%', '62.50%', '20.00%', '66.67%', '48.00%', '33.33%', '22.58%', '30.95%', '42.86%', '90.65%']\n",
      "recall 개별값\n",
      "['30.00%', '45.00%', '50.00%', '25.00%', '30.00%', '10.00%', '60.00%', '20.00%', '70.00%', '68.42%', '60.00%', '57.27%']\n",
      "evaluate값\n",
      "439/439 [==============================] - 1s 2ms/sample - loss: 2.9324 - acc: 0.4989\n",
      "49.89%\n",
      "f1 점수\n",
      "38.04%\n",
      "precision 평균값\n",
      "42.78%\n",
      "recall 평균값\n",
      "43.81%\n",
      "################## 다중 분류 결과 ###################\n",
      "##################카테고리를 통한 이진 분류 결과 ##############\n",
      "confusion matrix 결과\n",
      "[[206  13]\n",
      " [ 94 126]]\n",
      "precision 개별값\n",
      "['68.67%', '90.65%']\n",
      "recall 개별값\n",
      "['94.06%', '57.27%']\n",
      "f1 점수\n",
      "74.79%\n",
      "precision 평균값\n",
      "79.66%\n",
      "recall 평균값\n",
      "75.67%\n",
      "##################카테고리를 통한 이진 분류 결과 ##############\n",
      "439/439 [==============================] - 0s 823us/sample - loss: 2.9324 - acc: 0.4989\n"
     ]
    },
    {
     "data": {
      "text/plain": [
       "'수정 필요한 부분'"
      ]
     },
     "execution_count": 5,
     "metadata": {},
     "output_type": "execute_result"
    }
   ],
   "source": [
    "import keras.backend.tensorflow_backend as K\n",
    "\n",
    "from sklearn.metrics import confusion_matrix\n",
    "from sklearn.metrics import multilabel_confusion_matrix\n",
    "from sklearn.metrics import recall_score\n",
    "from sklearn.metrics import precision_score\n",
    "from sklearn.metrics import f1_score\n",
    "\n",
    "\"\"\"수정 필요한 부분\"\"\"\n",
    "\n",
    "# validation_rate = [0.05, 0.1, 0.15, 0.2]  # 리스트 바꾸기\n",
    "#image_size = [32, 40, 50, 64, 70, 80, 90, 100, 110, 120, 130, 140, 150, 160, 170, 180,\n",
    "  #           190, 200, 210, 220, 230, 240, 256]\n",
    "\n",
    "#model_layers = [2, 3, 4, 5, 6, 7, 8, 9, 10]\n",
    "#epochs = [5, 10, 15, 20, 25, 30, 35, 40, 45, 50]\n",
    "\n",
    "#learning_rate = [0.01, 0.02, 0.03, 0.04, 0.05]\n",
    "\n",
    "#optimizer = ['adam', 'sgd', 'adagrad', 'rmsprop', 'nadam']\n",
    "#epochs = [25, 30, 35, 40, 45, 50]\n",
    "#batch_list = [32, 64, 128, 256]\n",
    "\n",
    "data_set = ['test_220', 'test_320']\n",
    "\n",
    "model_evaluate = []\n",
    "\n",
    "bi_f1 = []\n",
    "bi_precision = []\n",
    "bi_recall = []\n",
    "\n",
    "cat_f1 = []\n",
    "cat_precision = []\n",
    "cat_recall = []\n",
    "\n",
    "\n",
    "\n",
    "for data in data_set: #반복문 요소 바꾸기\n",
    "    binary_prediction = []\n",
    "    ind = []\n",
    "    model = load_model('./categorical_binary_cnn/models/data_set/categorical_binary_model_saved' + str(data) + '.h5')\n",
    "    ##############파일 인자 수정하기 ##############\n",
    "    with K.tf_ops.device('/device:GPU:0'):\n",
    "        prediction = model.predict(X)\n",
    "        \n",
    "        np.set_printoptions(formatter={'float': lambda x: \"{0:0.3f}\".format(x)}) # 소수점 3자리까지\n",
    "    \n",
    "    #print(prediction)\n",
    "    \n",
    "    for p in prediction:\n",
    "        ind.append(p.argmax())\n",
    "        \n",
    "        if p.argmax() in range(11):\n",
    "            binary_prediction.append(0)\n",
    "        else:\n",
    "            binary_prediction.append(1)\n",
    "    \n",
    "    prediction = ind\n",
    "    \n",
    "    #print('예측값: ', prediction)\n",
    "              \n",
    "    print('데이터셋 : ' + str(data)) ####### 수정\n",
    "    print_cat_scores(X, y, prediction)\n",
    "    print_binary_scores(y_bi, binary_prediction)\n",
    "    \n",
    "    \n",
    "    bi_precision.append(precision_score(y_bi, binary_prediction, average='macro') * 100)\n",
    "    bi_recall.append(recall_score(y_bi, binary_prediction, average='macro') * 100)\n",
    "    bi_f1.append(f1_score(y_bi, binary_prediction, average='macro') * 100)\n",
    "    \n",
    "    model_evaluate.append(model.evaluate(X, y)[1] * 100)\n",
    "    cat_precision.append(precision_score(y.argmax(axis=1), prediction, average='macro') * 100)\n",
    "    cat_recall.append(recall_score(y.argmax(axis=1), prediction, average='macro') * 100)\n",
    "    cat_f1.append(f1_score(y.argmax(axis=1), prediction, average='macro') * 100)\n",
    "    \n",
    "\"\"\"수정 필요한 부분\"\"\""
   ]
  },
  {
   "cell_type": "code",
   "execution_count": 6,
   "id": "5104111c",
   "metadata": {},
   "outputs": [
    {
     "data": {
      "text/plain": [
       "'수정 필요한 부분'"
      ]
     },
     "execution_count": 6,
     "metadata": {},
     "output_type": "execute_result"
    },
    {
     "data": {
      "image/png": "[encoded data removed]",
      "text/plain": [
       "<Figure size 432x288 with 1 Axes>"
      ]
     },
     "metadata": {
      "needs_background": "light"
     },
     "output_type": "display_data"
    }
   ],
   "source": [
    "import matplotlib.pyplot as plt\n",
    "\n",
    "\"\"\"이진 카테고리 분류\"\"\"\n",
    "\n",
    "\"\"\"수정 필요한 부분\"\"\"\n",
    "\n",
    "plt.plot(data_set, bi_precision, 'ro-', label='precision') # 리스트 수정\n",
    "plt.plot(data_set, bi_recall, 'bo-', label='recall')\n",
    "plt.plot(data_set, bi_f1, 'go-', label='f1')\n",
    "#plt.plot(optimizer, model_evaluate, 'yo-', label='evaluate')\n",
    "plt.xlabel('data_set') # xlabel 수정\n",
    "plt.ylabel('accuracy')\n",
    "plt.legend()\n",
    "\n",
    "\"\"\"수정 필요한 부분\"\"\""
   ]
  },
  {
   "cell_type": "code",
   "execution_count": 8,
   "id": "604bf431",
   "metadata": {
    "scrolled": true
   },
   "outputs": [
    {
     "data": {
      "text/plain": [
       "'수정 필요한 부분'"
      ]
     },
     "execution_count": 8,
     "metadata": {},
     "output_type": "execute_result"
    },
    {
     "data": {
      "image/png": "[encoded data removed]",
      "text/plain": [
       "<Figure size 432x288 with 1 Axes>"
      ]
     },
     "metadata": {
      "needs_background": "light"
     },
     "output_type": "display_data"
    }
   ],
   "source": [
    "import matplotlib.pyplot as plt\n",
    "\n",
    "\"\"\"카테고리 분류 \"\"\"\n",
    "\n",
    "\"\"\"수정 필요한 부분\"\"\"\n",
    "\n",
    "plt.plot(data_set, cat_precision, 'ro-', label='precision') # 리스트 수정\n",
    "plt.plot(data_set, cat_recall, 'bo-', label='recall')\n",
    "plt.plot(data_set, cat_f1, 'go-', label='f1')\n",
    "plt.plot(data_set, model_evaluate, 'yo-', label='evaluate')\n",
    "plt.xlabel('data_set') # xlabel 수정\n",
    "plt.ylabel('accuracy')\n",
    "plt.legend()\n",
    "\n",
    "\"\"\"수정 필요한 부분\"\"\""
   ]
  },
  {
   "cell_type": "code",
   "execution_count": null,
   "id": "30c16776",
   "metadata": {},
   "outputs": [],
   "source": []
  }
 ],
 "metadata": {
  "kernelspec": {
   "display_name": "Python 3",
   "language": "python",
   "name": "python3"
  },
  "language_info": {
   "codemirror_mode": {
    "name": "ipython",
    "version": 3
   },
   "file_extension": ".py",
   "mimetype": "text/x-python",
   "name": "python",
   "nbconvert_exporter": "python",
   "pygments_lexer": "ipython3",
   "version": "3.6.10"
  }
 },
 "nbformat": 4,
 "nbformat_minor": 5
}
