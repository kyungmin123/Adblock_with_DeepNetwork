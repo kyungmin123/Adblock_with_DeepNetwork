{
 "cells": [
  {
   "cell_type": "code",
   "execution_count": 1,
   "metadata": {
    "scrolled": false
   },
   "outputs": [
    {
     "name": "stdout",
     "output_type": "stream",
     "text": [
      "arm  파일 길이:  18\n",
      "bio  파일 길이:  10\n",
      "body  파일 길이:  26\n",
      "knee  파일 길이:  9\n",
      "leg bone  파일 길이:  7\n",
      "health,hospital,beauty  파일 길이:  37\n",
      "tooth  파일 길이:  12\n",
      "head  파일 길이:  13\n",
      "face  파일 길이:  38\n",
      "face 29 번째에서 에러\n",
      "cartoon  파일 길이:  7\n",
      "adult cartoon  파일 길이:  14\n",
      "education  파일 길이:  6\n",
      "bill  파일 길이:  36\n",
      "coin  파일 길이:  6\n",
      "arrow  파일 길이:  9\n",
      "graph  파일 길이:  23\n",
      "invest  파일 길이:  33\n",
      "lottery number  파일 길이:  18\n",
      "lottery paper  파일 길이:  28\n",
      "etc, service, entertain  파일 길이:  122\n",
      "photo  파일 길이:  310\n",
      "photo 55 번째에서 에러\n",
      "non_ad  파일 길이:  538\n",
      "총 파일 길이:  1320\n"
     ]
    }
   ],
   "source": [
    "# from PIL import Image\n",
    "# PIL 제거 버전 (cv2 사용)\n",
    "\n",
    "import cv2\n",
    "import os, glob\n",
    "import numpy as np\n",
    "\n",
    "category_dir = \"./multi_cnn/train\"\n",
    "categories = [\"arm\", \"bio\", \"body\", \"knee\", \"leg bone\", \n",
    "              \"health,hospital,beauty\", \"tooth\", \"head\", \"face\", \n",
    "              \"cartoon\", \"adult cartoon\",\n",
    "              \"education\",\n",
    "              \"bill\", \"coin\", \"arrow\", \"graph\",  \"invest\", \"lottery number\", \"lottery paper\", \n",
    "              \"etc, service, entertain\",\n",
    "              \"photo\",\n",
    "             \"non_ad\"]\n",
    "len_categories = len(categories)\n",
    "\n",
    "image_width, image_height = 64, 64\n",
    "\n",
    "X = []\n",
    "y = []\n",
    "sum = 0 \n",
    "\n",
    "for index, category in enumerate(categories):\n",
    "    \n",
    "    label = [0 for i in range(len_categories)]\n",
    "    label[index] = 1\n",
    "    \n",
    "    image_dir = category_dir + \"/\" + category \n",
    "    files = glob.glob(image_dir+\"/*.jpg\") # 폴더 내 jpg 파일 탐색\n",
    "    print(category, \" 파일 길이: \", len(files)) # 카테코리마다 이미지 파일 개수 표시\n",
    "    sum += len(files)\n",
    "    \n",
    "    for i, f in enumerate(files):\n",
    "        \n",
    "        try:\n",
    "    \n",
    "            image_bgr = cv2.imread(f, cv2.IMREAD_COLOR) # opencv는 BGR 값으로 받아들임\n",
    "            image_rgb = cv2.cvtColor(image_bgr, cv2.COLOR_BGR2RGB) # RGB 값으로 변환\n",
    "\n",
    "            img = cv2.resize(image_rgb, (image_width, image_height)) # 딥러닝 모델에 맞게 사이즈 재조정\n",
    "            data = np.asarray(img)\n",
    "\n",
    "            X.append(data)\n",
    "            y.append(label)\n",
    "            \n",
    "        except:\n",
    "            print(category, str(i + 1), \"번째에서 에러\") # 에러 파일 탐지\n",
    "            pass\n",
    "\n",
    "print('총 파일 길이: ', sum)\n",
    "\n",
    "X = np.array(X)\n",
    "y = np.array(y)"
   ]
  },
  {
   "cell_type": "code",
   "execution_count": 2,
   "metadata": {},
   "outputs": [
    {
     "name": "stdout",
     "output_type": "stream",
     "text": [
      "(988, 64, 64, 3)\n",
      "(330, 64, 64, 3)\n",
      "(988, 22)\n",
      "(330, 22)\n"
     ]
    }
   ],
   "source": [
    "from sklearn.model_selection import train_test_split\n",
    "\n",
    "X_train, X_test, y_train, y_test = train_test_split(X, y)\n",
    "xy = (X_train, X_test, y_train, y_test)\n",
    "\n",
    "print(X_train.shape)\n",
    "print(X_test.shape)\n",
    "print(y_train.shape)\n",
    "print(y_test.shape)"
   ]
  },
  {
   "cell_type": "code",
   "execution_count": 3,
   "metadata": {},
   "outputs": [],
   "source": [
    "X_train = X_train.astype(float) / 255\n",
    "X_test = X_test.astype(float) / 255"
   ]
  },
  {
   "cell_type": "code",
   "execution_count": 4,
   "metadata": {},
   "outputs": [],
   "source": [
    "import tensorflow as tf\n",
    "from tensorflow.keras.models import Sequential\n",
    "from tensorflow.keras.layers import Conv2D, MaxPooling2D, Dense, Flatten, Dropout"
   ]
  },
  {
   "cell_type": "code",
   "execution_count": 5,
   "metadata": {},
   "outputs": [
    {
     "data": {
      "text/plain": [
       "'\\n    gpu 에러 발생\\n    gpu의 낮은 성능(gtx 750ti)로 인해\\n    cpu로 모델 훈련 수행\\n'"
      ]
     },
     "execution_count": 5,
     "metadata": {},
     "output_type": "execute_result"
    }
   ],
   "source": [
    "# VGG 11 모델 생성\n",
    "\n",
    "# with tf.device('/device:GPU:0'):\n",
    "\n",
    "\"\"\"\n",
    "    gpu 에러 발생\n",
    "    gpu의 낮은 성능(gtx 750ti)로 인해\n",
    "    cpu로 모델 훈련 수행\n",
    "\"\"\"\n",
    "\n",
    "# model = Sequential()\n",
    "\n",
    "# model.add(Conv2D(64, (3, 3), padding=\"same\", input_shape=X_train.shape[1:], activation='relu'))\n",
    "# model.add(MaxPooling2D(pool_size=(2,2)))\n",
    "\n",
    "# model.add(Conv2D(128, (3, 3), padding=\"same\", activation='relu'))\n",
    "# model.add(MaxPooling2D(pool_size=(2,2)))\n",
    "\n",
    "# model.add(Conv2D(256, (3, 3), padding=\"same\", activation='relu'))\n",
    "# model.add(Conv2D(256, (3, 3), padding=\"same\", activation='relu'))\n",
    "# model.add(MaxPooling2D(pool_size=(2,2)))\n",
    "\n",
    "# model.add(Conv2D(512, (3, 3), padding=\"same\", activation='relu'))\n",
    "# model.add(Conv2D(512, (3, 3), padding=\"same\", activation='relu'))\n",
    "# model.add(MaxPooling2D(pool_size=(2,2)))\n",
    "\n",
    "# model.add(Conv2D(512, (3, 3), padding=\"same\", activation='relu'))\n",
    "# model.add(Conv2D(512, (3, 3), padding=\"same\", activation='relu'))\n",
    "# model.add(MaxPooling2D(pool_size=(2,2)))\n",
    "\n",
    "# model.add(Flatten())\n",
    "# model.add(Dense(4096, activation='relu'))\n",
    "# model.add(Dense(4096, activation='relu'))\n",
    "# model.add(Dense(1000, activation='relu'))\n",
    "# model.add(Dense(len_categories, activation='softmax'))\n",
    "\n",
    "# model.compile(optimizer='adam', loss='categorical_crossentropy', metrics=['accuracy'])"
   ]
  },
  {
   "cell_type": "code",
   "execution_count": 9,
   "metadata": {},
   "outputs": [],
   "source": [
    "# 모델 경량화를 통한 정확도 향상\n",
    "\n",
    "model = Sequential()\n",
    "\n",
    "model.add(Conv2D(32, (3,3), padding=\"same\", input_shape=X_train.shape[1:], activation='relu'))\n",
    "model.add(MaxPooling2D(pool_size=(2,2)))\n",
    "model.add(Dropout(0.25))\n",
    "\n",
    "model.add(Conv2D(64, (3,3), padding=\"same\", activation='relu'))\n",
    "model.add(MaxPooling2D(pool_size=(2,2)))\n",
    "model.add(Dropout(0.25))\n",
    "\n",
    "model.add(Flatten())\n",
    "model.add(Dense(256, activation='relu'))\n",
    "model.add(Dropout(0.5))\n",
    "model.add(Dense(len_categories, activation='softmax'))\n",
    "\n",
    "model.compile(loss='categorical_crossentropy', optimizer='adam', metrics=['accuracy'])"
   ]
  },
  {
   "cell_type": "code",
   "execution_count": 10,
   "metadata": {},
   "outputs": [
    {
     "name": "stdout",
     "output_type": "stream",
     "text": [
      "Model: \"sequential_1\"\n",
      "_________________________________________________________________\n",
      "Layer (type)                 Output Shape              Param #   \n",
      "=================================================================\n",
      "conv2d_2 (Conv2D)            (None, 64, 64, 32)        896       \n",
      "_________________________________________________________________\n",
      "max_pooling2d_2 (MaxPooling2 (None, 32, 32, 32)        0         \n",
      "_________________________________________________________________\n",
      "dropout_3 (Dropout)          (None, 32, 32, 32)        0         \n",
      "_________________________________________________________________\n",
      "conv2d_3 (Conv2D)            (None, 32, 32, 64)        18496     \n",
      "_________________________________________________________________\n",
      "max_pooling2d_3 (MaxPooling2 (None, 16, 16, 64)        0         \n",
      "_________________________________________________________________\n",
      "dropout_4 (Dropout)          (None, 16, 16, 64)        0         \n",
      "_________________________________________________________________\n",
      "flatten_1 (Flatten)          (None, 16384)             0         \n",
      "_________________________________________________________________\n",
      "dense_2 (Dense)              (None, 256)               4194560   \n",
      "_________________________________________________________________\n",
      "dropout_5 (Dropout)          (None, 256)               0         \n",
      "_________________________________________________________________\n",
      "dense_3 (Dense)              (None, 22)                5654      \n",
      "=================================================================\n",
      "Total params: 4,219,606\n",
      "Trainable params: 4,219,606\n",
      "Non-trainable params: 0\n",
      "_________________________________________________________________\n"
     ]
    }
   ],
   "source": [
    "model.summary()"
   ]
  },
  {
   "cell_type": "code",
   "execution_count": 11,
   "metadata": {},
   "outputs": [
    {
     "name": "stdout",
     "output_type": "stream",
     "text": [
      "Epoch 1/10\n",
      "168/168 [==============================] - 5s 31ms/step - loss: 2.1201 - accuracy: 0.3862 - val_loss: 1.9012 - val_accuracy: 0.4765\n",
      "Epoch 2/10\n",
      "168/168 [==============================] - 5s 31ms/step - loss: 1.8876 - accuracy: 0.4744 - val_loss: 1.8053 - val_accuracy: 0.5503\n",
      "Epoch 3/10\n",
      "168/168 [==============================] - 5s 30ms/step - loss: 1.7007 - accuracy: 0.5221 - val_loss: 1.7569 - val_accuracy: 0.5570\n",
      "Epoch 4/10\n",
      "168/168 [==============================] - 5s 31ms/step - loss: 1.5383 - accuracy: 0.5626 - val_loss: 1.5947 - val_accuracy: 0.5570\n",
      "Epoch 5/10\n",
      "168/168 [==============================] - 5s 32ms/step - loss: 1.3070 - accuracy: 0.6103 - val_loss: 1.6278 - val_accuracy: 0.5503\n",
      "Epoch 6/10\n",
      "168/168 [==============================] - 6s 34ms/step - loss: 1.1107 - accuracy: 0.6532 - val_loss: 1.5971 - val_accuracy: 0.5839\n",
      "Epoch 7/10\n",
      "168/168 [==============================] - 6s 36ms/step - loss: 0.9180 - accuracy: 0.7175 - val_loss: 1.7828 - val_accuracy: 0.5705\n",
      "Epoch 8/10\n",
      "168/168 [==============================] - 6s 34ms/step - loss: 0.6908 - accuracy: 0.7902 - val_loss: 1.7483 - val_accuracy: 0.5168\n",
      "Epoch 9/10\n",
      "168/168 [==============================] - 5s 30ms/step - loss: 0.5920 - accuracy: 0.8236 - val_loss: 1.8867 - val_accuracy: 0.5839\n",
      "Epoch 10/10\n",
      "168/168 [==============================] - 5s 32ms/step - loss: 0.4828 - accuracy: 0.8486 - val_loss: 2.0107 - val_accuracy: 0.5436\n"
     ]
    }
   ],
   "source": [
    "history = model.fit(X_train, y_train, epochs=15, batch_size=5, verbose=1, validation_split=0.15)"
   ]
  },
  {
   "cell_type": "code",
   "execution_count": 12,
   "metadata": {},
   "outputs": [],
   "source": [
    "model.save(\"./model_saved.h5\")"
   ]
  },
  {
   "cell_type": "code",
   "execution_count": 13,
   "metadata": {},
   "outputs": [
    {
     "name": "stdout",
     "output_type": "stream",
     "text": [
      "66/66 [==============================] - 0s 5ms/step - loss: 2.1117 - accuracy: 0.5121\n",
      "0.5121212005615234\n"
     ]
    }
   ],
   "source": [
    "print(model.evaluate(X_test, y_test , batch_size=5)[1])"
   ]
  },
  {
   "cell_type": "code",
   "execution_count": 20,
   "metadata": {},
   "outputs": [
    {
     "ename": "ValueError",
     "evalue": "Classification metrics can't handle a mix of multilabel-indicator and continuous-multioutput targets",
     "output_type": "error",
     "traceback": [
      "\u001b[1;31m---------------------------------------------------------------------------\u001b[0m",
      "\u001b[1;31mValueError\u001b[0m                                Traceback (most recent call last)",
      "\u001b[1;32m<ipython-input-20-d906809cf763>\u001b[0m in \u001b[0;36m<module>\u001b[1;34m\u001b[0m\n\u001b[0;32m      2\u001b[0m \u001b[1;33m\u001b[0m\u001b[0m\n\u001b[0;32m      3\u001b[0m \u001b[0mprediction\u001b[0m \u001b[1;33m=\u001b[0m \u001b[0mmodel\u001b[0m\u001b[1;33m.\u001b[0m\u001b[0mpredict\u001b[0m\u001b[1;33m(\u001b[0m\u001b[0mX_test\u001b[0m\u001b[1;33m)\u001b[0m\u001b[1;33m\u001b[0m\u001b[1;33m\u001b[0m\u001b[0m\n\u001b[1;32m----> 4\u001b[1;33m \u001b[0mcf\u001b[0m \u001b[1;33m=\u001b[0m \u001b[0mmultilabel_confusion_matrix\u001b[0m\u001b[1;33m(\u001b[0m\u001b[0my_true\u001b[0m\u001b[1;33m=\u001b[0m\u001b[0my_test\u001b[0m\u001b[1;33m,\u001b[0m \u001b[0my_pred\u001b[0m\u001b[1;33m=\u001b[0m\u001b[0mprediction\u001b[0m\u001b[1;33m)\u001b[0m\u001b[1;33m\u001b[0m\u001b[1;33m\u001b[0m\u001b[0m\n\u001b[0m\u001b[0;32m      5\u001b[0m \u001b[1;33m\u001b[0m\u001b[0m\n\u001b[0;32m      6\u001b[0m \u001b[0mprint\u001b[0m\u001b[1;33m(\u001b[0m\u001b[0mcf\u001b[0m\u001b[1;33m)\u001b[0m\u001b[1;33m\u001b[0m\u001b[1;33m\u001b[0m\u001b[0m\n",
      "\u001b[1;32mD:\\anaconda3\\lib\\site-packages\\sklearn\\utils\\validation.py\u001b[0m in \u001b[0;36minner_f\u001b[1;34m(*args, **kwargs)\u001b[0m\n\u001b[0;32m     70\u001b[0m                           FutureWarning)\n\u001b[0;32m     71\u001b[0m         \u001b[0mkwargs\u001b[0m\u001b[1;33m.\u001b[0m\u001b[0mupdate\u001b[0m\u001b[1;33m(\u001b[0m\u001b[1;33m{\u001b[0m\u001b[0mk\u001b[0m\u001b[1;33m:\u001b[0m \u001b[0marg\u001b[0m \u001b[1;32mfor\u001b[0m \u001b[0mk\u001b[0m\u001b[1;33m,\u001b[0m \u001b[0marg\u001b[0m \u001b[1;32min\u001b[0m \u001b[0mzip\u001b[0m\u001b[1;33m(\u001b[0m\u001b[0msig\u001b[0m\u001b[1;33m.\u001b[0m\u001b[0mparameters\u001b[0m\u001b[1;33m,\u001b[0m \u001b[0margs\u001b[0m\u001b[1;33m)\u001b[0m\u001b[1;33m}\u001b[0m\u001b[1;33m)\u001b[0m\u001b[1;33m\u001b[0m\u001b[1;33m\u001b[0m\u001b[0m\n\u001b[1;32m---> 72\u001b[1;33m         \u001b[1;32mreturn\u001b[0m \u001b[0mf\u001b[0m\u001b[1;33m(\u001b[0m\u001b[1;33m**\u001b[0m\u001b[0mkwargs\u001b[0m\u001b[1;33m)\u001b[0m\u001b[1;33m\u001b[0m\u001b[1;33m\u001b[0m\u001b[0m\n\u001b[0m\u001b[0;32m     73\u001b[0m     \u001b[1;32mreturn\u001b[0m \u001b[0minner_f\u001b[0m\u001b[1;33m\u001b[0m\u001b[1;33m\u001b[0m\u001b[0m\n\u001b[0;32m     74\u001b[0m \u001b[1;33m\u001b[0m\u001b[0m\n",
      "\u001b[1;32mD:\\anaconda3\\lib\\site-packages\\sklearn\\metrics\\_classification.py\u001b[0m in \u001b[0;36mmultilabel_confusion_matrix\u001b[1;34m(y_true, y_pred, sample_weight, labels, samplewise)\u001b[0m\n\u001b[0;32m    436\u001b[0m \u001b[1;33m\u001b[0m\u001b[0m\n\u001b[0;32m    437\u001b[0m     \"\"\"\n\u001b[1;32m--> 438\u001b[1;33m     \u001b[0my_type\u001b[0m\u001b[1;33m,\u001b[0m \u001b[0my_true\u001b[0m\u001b[1;33m,\u001b[0m \u001b[0my_pred\u001b[0m \u001b[1;33m=\u001b[0m \u001b[0m_check_targets\u001b[0m\u001b[1;33m(\u001b[0m\u001b[0my_true\u001b[0m\u001b[1;33m,\u001b[0m \u001b[0my_pred\u001b[0m\u001b[1;33m)\u001b[0m\u001b[1;33m\u001b[0m\u001b[1;33m\u001b[0m\u001b[0m\n\u001b[0m\u001b[0;32m    439\u001b[0m     \u001b[1;32mif\u001b[0m \u001b[0msample_weight\u001b[0m \u001b[1;32mis\u001b[0m \u001b[1;32mnot\u001b[0m \u001b[1;32mNone\u001b[0m\u001b[1;33m:\u001b[0m\u001b[1;33m\u001b[0m\u001b[1;33m\u001b[0m\u001b[0m\n\u001b[0;32m    440\u001b[0m         \u001b[0msample_weight\u001b[0m \u001b[1;33m=\u001b[0m \u001b[0mcolumn_or_1d\u001b[0m\u001b[1;33m(\u001b[0m\u001b[0msample_weight\u001b[0m\u001b[1;33m)\u001b[0m\u001b[1;33m\u001b[0m\u001b[1;33m\u001b[0m\u001b[0m\n",
      "\u001b[1;32mD:\\anaconda3\\lib\\site-packages\\sklearn\\metrics\\_classification.py\u001b[0m in \u001b[0;36m_check_targets\u001b[1;34m(y_true, y_pred)\u001b[0m\n\u001b[0;32m     88\u001b[0m \u001b[1;33m\u001b[0m\u001b[0m\n\u001b[0;32m     89\u001b[0m     \u001b[1;32mif\u001b[0m \u001b[0mlen\u001b[0m\u001b[1;33m(\u001b[0m\u001b[0my_type\u001b[0m\u001b[1;33m)\u001b[0m \u001b[1;33m>\u001b[0m \u001b[1;36m1\u001b[0m\u001b[1;33m:\u001b[0m\u001b[1;33m\u001b[0m\u001b[1;33m\u001b[0m\u001b[0m\n\u001b[1;32m---> 90\u001b[1;33m         raise ValueError(\"Classification metrics can't handle a mix of {0} \"\n\u001b[0m\u001b[0;32m     91\u001b[0m                          \"and {1} targets\".format(type_true, type_pred))\n\u001b[0;32m     92\u001b[0m \u001b[1;33m\u001b[0m\u001b[0m\n",
      "\u001b[1;31mValueError\u001b[0m: Classification metrics can't handle a mix of multilabel-indicator and continuous-multioutput targets"
     ]
    }
   ],
   "source": [
    "# from sklearn.metrics import multilabel_confusion_matrix\n",
    "\n",
    "# prediction = model.predict(X_test)\n",
    "# cf = multilabel_confusion_matrix(y_true=y_test, y_pred=prediction)\n",
    "\n",
    "# print(cf)"
   ]
  },
  {
   "cell_type": "code",
   "execution_count": 14,
   "metadata": {},
   "outputs": [],
   "source": [
    "# # Confusion Matrix에 의한 분류\n",
    "\n",
    "# TP = tf.math.count_nonzero(predicted * actual)\n",
    "# TN = tf.math.count_nonzero((predicted - 1) * (actual - 1))\n",
    "# FP = tf.math.count_nonzero(predicted * (actual - 1))\n",
    "# FN = tf.math.count_nonzero((predicted - 1) * actual)\n",
    "\n",
    "# precision = TP / (TP + FP)\n",
    "# recall = TP / (TP + FN)\n",
    "# f1 = 2 * precision * recall / (precision + recall)"
   ]
  },
  {
   "cell_type": "code",
   "execution_count": 15,
   "metadata": {},
   "outputs": [
    {
     "data": {
      "image/png": "[encoded data removed]",
      "text/plain": [
       "<Figure size 432x288 with 1 Axes>"
      ]
     },
     "metadata": {
      "needs_background": "light"
     },
     "output_type": "display_data"
    }
   ],
   "source": [
    "# 모델 손실 표시\n",
    "\n",
    "import matplotlib.pyplot as plt\n",
    "\n",
    "y_vloss = history.history['val_loss']\n",
    "y_loss = history.history['loss']\n",
    "\n",
    "x_len = np.arange(len(y_loss))\n",
    "\n",
    "plt.plot(x_len, y_vloss, marker='.', c='red', label='val_set_loss')\n",
    "plt.plot(x_len, y_loss, marker='.', c='blue', label='train_set_loss')\n",
    "plt.legend()\n",
    "plt.xlabel('epochs')\n",
    "plt.ylabel('loss')\n",
    "plt.grid()\n",
    "plt.show()"
   ]
  },
  {
   "cell_type": "code",
   "execution_count": 16,
   "metadata": {},
   "outputs": [
    {
     "data": {
      "image/png": "[encoded data removed]",
      "text/plain": [
       "<Figure size 432x288 with 1 Axes>"
      ]
     },
     "metadata": {
      "needs_background": "light"
     },
     "output_type": "display_data"
    }
   ],
   "source": [
    "#모델 정확도 표시\n",
    "\n",
    "y_vacc = history.history['val_accuracy'] # tensorflow 버전 변화로 acc -> accruacy로 변경\n",
    "y_acc = history.history['accuracy']\n",
    "\n",
    "x_len = np.arange(len(y_vacc))\n",
    "\n",
    "plt.plot(x_len, y_vacc, marker='.', c='red', label='val_set_acc')\n",
    "plt.plot(x_len, y_acc, marker='.', c='blue', label='train_set_acc')\n",
    "plt.legend()\n",
    "plt.xlabel('epochs')\n",
    "plt.ylabel('acc')\n",
    "plt.grid()\n",
    "plt.show()"
   ]
  },
  {
   "cell_type": "code",
   "execution_count": 17,
   "metadata": {
    "scrolled": true
   },
   "outputs": [
    {
     "name": "stdout",
     "output_type": "stream",
     "text": [
      "[0. 0. 0. 0. 0. 0. 0. 0. 0. 0. 0. 0. 0. 0. 0. 0. 0. 0. 0. 0. 1. 0.]\n",
      "20\n",
      "해당 이미지는 포토샵 광고(으)로 추정됩니다.\n",
      "[0. 0. 0. 0. 0. 0. 0. 0. 0. 0. 0. 0. 0. 0. 0. 0. 0. 0. 0. 0. 1. 0.]\n",
      "20\n",
      "해당 이미지는 포토샵 광고(으)로 추정됩니다.\n",
      "[0. 0. 0. 0. 0. 0. 0. 0. 0. 0. 0. 0. 0. 0. 0. 0. 0. 0. 0. 0. 1. 0.]\n",
      "20\n",
      "해당 이미지는 포토샵 광고(으)로 추정됩니다.\n",
      "[0. 0. 0. 0. 0. 0. 0. 0. 0. 0. 0. 0. 0. 0. 0. 0. 0. 0. 0. 0. 1. 0.]\n",
      "20\n",
      "해당 이미지는 포토샵 광고(으)로 추정됩니다.\n",
      "[0. 0. 0. 0. 0. 0. 0. 0. 0. 0. 0. 0. 0. 0. 0. 0. 0. 0. 0. 0. 1. 0.]\n",
      "20\n",
      "해당 이미지는 포토샵 광고(으)로 추정됩니다.\n",
      "[0.0000000e+00 0.0000000e+00 0.0000000e+00 0.0000000e+00 0.0000000e+00\n",
      " 0.0000000e+00 0.0000000e+00 0.0000000e+00 0.0000000e+00 0.0000000e+00\n",
      " 0.0000000e+00 0.0000000e+00 0.0000000e+00 0.0000000e+00 0.0000000e+00\n",
      " 0.0000000e+00 0.0000000e+00 0.0000000e+00 0.0000000e+00 0.0000000e+00\n",
      " 1.5626271e-24 1.0000000e+00]\n",
      "21\n",
      "해당 이미지는 비광고(으)로 추정됩니다.\n",
      "[0. 0. 0. 0. 0. 0. 0. 0. 0. 0. 0. 0. 0. 0. 0. 0. 0. 0. 0. 0. 0. 1.]\n",
      "21\n",
      "해당 이미지는 비광고(으)로 추정됩니다.\n",
      "[0. 0. 0. 0. 0. 0. 0. 0. 0. 0. 0. 0. 0. 0. 0. 0. 0. 0. 0. 0. 1. 0.]\n",
      "20\n",
      "해당 이미지는 포토샵 광고(으)로 추정됩니다.\n",
      "[0. 0. 0. 0. 0. 0. 0. 0. 0. 0. 0. 0. 0. 0. 0. 0. 0. 0. 0. 0. 1. 0.]\n",
      "20\n",
      "해당 이미지는 포토샵 광고(으)로 추정됩니다.\n"
     ]
    }
   ],
   "source": [
    "from tensorflow.keras.models import load_model\n",
    "\n",
    "# 테스트 이미지 분류 -> confusion matrix 평가\n",
    "\n",
    "category_dir = \"./multi_cnn/test\"\n",
    "\n",
    "image_width, image_height = 64, 64\n",
    "\n",
    "X=[]\n",
    "filenames = []\n",
    "files = glob.glob(category_dir+\"/*.*\") # 테스트 폴더의 이미지 탐색\n",
    "\n",
    "# opencv 사용, 파일 불러오기\n",
    "\n",
    "for i, f in enumerate(files):\n",
    "    \n",
    "    image_bgr = cv2.imread(f, cv2.IMREAD_COLOR)\n",
    "    image_rgb = cv2.cvtColor(image_bgr, cv2.COLOR_BGR2RGB) # RGB 값으로 변환\n",
    "        \n",
    "    img = cv2.resize(image_rgb, (image_width, image_height))\n",
    "    data = np.asarray(img)\n",
    "        \n",
    "    X.append(data)\n",
    "    \n",
    "X = np.array(X)\n",
    "\n",
    "model = load_model(\"./model_saved.h5\") # 저장된 모델 호출\n",
    "prediction = model.predict(X)\n",
    "\n",
    "for i in prediction:\n",
    "    pre_ans = i.argmax() # 가장 큰 값 저장\n",
    "    print(i)\n",
    "    print(pre_ans)\n",
    "    pre_ans_str = ''\n",
    "    \n",
    "    # 해당 카테고리를 구분\n",
    "    # 특정 부분을 구별하여 하나의 카테고리롤 묶음\n",
    "    \n",
    "    if pre_ans == 0 or pre_ans == 1 or pre_ans == 2 or pre_ans == 3 or pre_ans == 4 or pre_ans == 5 or pre_ans == 6 or pre_ans == 7 or pre_ans == 8:\n",
    "        pre_ans_str = \"신체 관련 광고\"\n",
    "    elif pre_ans == 9 or pre_ans == 10:\n",
    "        pre_ans_str = \"만화 광고\"\n",
    "    elif pre_ans == 11:\n",
    "        pre_ans_str = \"교육 광고\"\n",
    "    elif pre_ans == 12 or pre_ans == 13 or pre_ans == 14 or pre_ans == 15 or pre_ans == 16 or pre_ans == 17 or pre_ans == 18:\n",
    "        pre_ans_str = \"금융 광고\"\n",
    "    elif pre_ans == 19:\n",
    "        pre_ans_str = \"상품 광고\"\n",
    "    elif pre_ans == 20:\n",
    "        pre_ans_str = \"포토샵 광고\"\n",
    "    elif pre_ans == 21:\n",
    "        pre_ans_str = \"비광고\"\n",
    "        \n",
    "    if i[0] >= 0.8 or i[1] >= 0.8 or i[2] >= 0.8 or i[3] >= 0.8 or i[4] >= 0.8 or i[5] >= 0.8 or i[6] >= 0.8 or i[7] >= 0.8 or i[8] >= 0.8: \n",
    "        print(\"해당 이미지는 \" + pre_ans_str+\"(으)로 추정됩니다.\")\n",
    "    elif i[9] >= 0.8 or i[10] >= 0.8: \n",
    "        print(\"해당 이미지는 \" + pre_ans_str+\"(으)로 추정됩니다.\")\n",
    "    elif i[11] >= 0.8:\n",
    "        print(\"해당 이미지는 \" + pre_ans_str+\"(으)로 추정됩니다.\")\n",
    "    elif i[12] >= 0.8 or i[13] >= 0.8 or i[14] >= 0.8 or i[15] >= 0.8 or i[16] >= 0.8 or i[17] >= 0.8 or i[18] >= 0.8: \n",
    "        print(\"해당 이미지는 \" + pre_ans_str+\"(으)로 추정됩니다.\")\n",
    "    elif i[19] >= 0.8: \n",
    "        print(\"해당 이미지는 \" + pre_ans_str+\"(으)로 추정됩니다.\")\n",
    "    else:\n",
    "        print(\"해당 이미지는 \" + pre_ans_str+ \"(으)로 추정됩니다.\")"
   ]
  },
  {
   "cell_type": "code",
   "execution_count": null,
   "metadata": {},
   "outputs": [],
   "source": []
  }
 ],
 "metadata": {
  "kernelspec": {
   "display_name": "Python 3",
   "language": "python",
   "name": "python3"
  },
  "language_info": {
   "codemirror_mode": {
    "name": "ipython",
    "version": 3
   },
   "file_extension": ".py",
   "mimetype": "text/x-python",
   "name": "python",
   "nbconvert_exporter": "python",
   "pygments_lexer": "ipython3",
   "version": "3.8.5"
  }
 },
 "nbformat": 4,
 "nbformat_minor": 4
}
